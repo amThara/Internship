{
 "cells": [
  {
   "cell_type": "markdown",
   "id": "cf0692ed",
   "metadata": {},
   "source": [
    "Q9: Write a python program to scrape data for first 10 job results for Data Scientist Designation in Noida\n",
    "location. You have to scrape company name, No. of days ago when job was posted, Rating of the company."
   ]
  },
  {
   "cell_type": "code",
   "execution_count": 1,
   "id": "fb4dfed7",
   "metadata": {},
   "outputs": [],
   "source": [
    "import selenium\n",
    "import pandas as pd\n",
    "from selenium import webdriver"
   ]
  },
  {
   "cell_type": "code",
   "execution_count": 2,
   "id": "391a6fbe",
   "metadata": {},
   "outputs": [
    {
     "name": "stderr",
     "output_type": "stream",
     "text": [
      "<ipython-input-2-af8f831111ab>:1: DeprecationWarning: executable_path has been deprecated, please pass in a Service object\n",
      "  driver = webdriver.Chrome(r\"C:\\Users\\Lenovo\\Desktop\\DS\\chromedriver.exe\")\n"
     ]
    }
   ],
   "source": [
    "driver = webdriver.Chrome(r\"C:\\Users\\Lenovo\\Desktop\\DS\\chromedriver.exe\")\n",
    "driver.get('https://www.ambitionbox.com/')"
   ]
  },
  {
   "cell_type": "code",
   "execution_count": 3,
   "id": "32a48d2b",
   "metadata": {},
   "outputs": [
    {
     "name": "stderr",
     "output_type": "stream",
     "text": [
      "<ipython-input-3-45efee3d4c9c>:1: DeprecationWarning: find_element_by_* commands are deprecated. Please use find_element() instead\n",
      "  jobs = driver.find_element_by_xpath ('/html/body/div[1]/nav/nav/a[6]')\n"
     ]
    }
   ],
   "source": [
    "jobs = driver.find_element_by_xpath ('/html/body/div[1]/nav/nav/a[6]')\n",
    "jobs.click()"
   ]
  },
  {
   "cell_type": "code",
   "execution_count": 4,
   "id": "452024ef",
   "metadata": {},
   "outputs": [
    {
     "name": "stderr",
     "output_type": "stream",
     "text": [
      "<ipython-input-4-b7a12b7abf14>:1: DeprecationWarning: find_element_by_* commands are deprecated. Please use find_element() instead\n",
      "  search = driver.find_element_by_xpath ('/html/body/div/div/div/div[2]/div[1]/div/div/div/div/span/input')\n"
     ]
    }
   ],
   "source": [
    "search = driver.find_element_by_xpath ('/html/body/div/div/div/div[2]/div[1]/div/div/div/div/span/input')\n",
    "search.send_keys('Data Scientist')"
   ]
  },
  {
   "cell_type": "code",
   "execution_count": 5,
   "id": "c04c7435",
   "metadata": {},
   "outputs": [
    {
     "name": "stderr",
     "output_type": "stream",
     "text": [
      "<ipython-input-5-e3b079e1c6f4>:1: DeprecationWarning: find_element_by_* commands are deprecated. Please use find_element() instead\n",
      "  butt = driver.find_element_by_xpath ('/html/body/div/div/div/div[2]/div[2]/a')\n"
     ]
    }
   ],
   "source": [
    "butt = driver.find_element_by_xpath ('/html/body/div/div/div/div[2]/div[2]/a')\n",
    "butt.click()"
   ]
  },
  {
   "cell_type": "code",
   "execution_count": 7,
   "id": "1656f5ee",
   "metadata": {},
   "outputs": [
    {
     "name": "stderr",
     "output_type": "stream",
     "text": [
      "<ipython-input-7-d172d0b32997>:1: DeprecationWarning: find_element_by_* commands are deprecated. Please use find_element() instead\n",
      "  location = driver.find_element_by_xpath ('/html/body/div/div/div/div[2]/div[2]/div[1]/div/div/div/div[2]/div[1]/p')\n"
     ]
    }
   ],
   "source": [
    "location = driver.find_element_by_xpath ('/html/body/div/div/div/div[2]/div[2]/div[1]/div/div/div/div[2]/div[1]/p')\n",
    "location.click()"
   ]
  },
  {
   "cell_type": "code",
   "execution_count": 8,
   "id": "5867d184",
   "metadata": {},
   "outputs": [
    {
     "name": "stderr",
     "output_type": "stream",
     "text": [
      "<ipython-input-8-b50fd9298b3c>:1: DeprecationWarning: find_element_by_* commands are deprecated. Please use find_element() instead\n",
      "  sear = driver.find_element_by_xpath ('/html/body/div/div/div/div[2]/div[2]/div[1]/div/div/div/div[2]/div[2]/div/div[2]/input')\n"
     ]
    }
   ],
   "source": [
    "sear = driver.find_element_by_xpath ('/html/body/div/div/div/div[2]/div[2]/div[1]/div/div/div/div[2]/div[2]/div/div[2]/input')\n",
    "sear.send_keys('Noida')"
   ]
  },
  {
   "cell_type": "code",
   "execution_count": 9,
   "id": "59c9d98f",
   "metadata": {},
   "outputs": [
    {
     "name": "stderr",
     "output_type": "stream",
     "text": [
      "<ipython-input-9-5fb3c7c4e47e>:1: DeprecationWarning: find_element_by_* commands are deprecated. Please use find_element() instead\n",
      "  noida = driver.find_element_by_xpath ('/html/body/div/div/div/div[2]/div[2]/div[1]/div/div/div/div[2]/div[2]/div/div[3]/div[1]/div[1]/div/label')\n"
     ]
    }
   ],
   "source": [
    "noida = driver.find_element_by_xpath ('/html/body/div/div/div/div[2]/div[2]/div[1]/div/div/div/div[2]/div[2]/div/div[3]/div[1]/div[1]/div/label')\n",
    "noida.click()"
   ]
  },
  {
   "cell_type": "code",
   "execution_count": 10,
   "id": "9ca59182",
   "metadata": {},
   "outputs": [],
   "source": [
    "title = []\n",
    "posted = []\n",
    "rating = []"
   ]
  },
  {
   "cell_type": "code",
   "execution_count": 11,
   "id": "de9277f6",
   "metadata": {
    "scrolled": true
   },
   "outputs": [
    {
     "name": "stderr",
     "output_type": "stream",
     "text": [
      "<ipython-input-11-adbf717097dd>:1: DeprecationWarning: find_elements_by_* commands are deprecated. Please use find_elements() instead\n",
      "  company = driver.find_elements_by_class_name('company-info')\n"
     ]
    },
    {
     "data": {
      "text/plain": [
       "['Tata Consultancy Services Ltd.\\n · \\n3.9\\nbased on 26.3k Reviews',\n",
       " 'Tata Consultancy Services Ltd.\\n3.9\\n(26.3k Reviews)',\n",
       " 'Hcl Technologies Limited\\n3.8\\n(13.7k Reviews)',\n",
       " 'HCL Technologies Limited\\n3.8\\n(13.7k Reviews)',\n",
       " 'GENPACT India Private Limited\\n4.0\\n(11.9k Reviews)',\n",
       " 'Randstad\\n4.1\\n(1.3k Reviews)',\n",
       " 'HCL Technologies Limited\\n3.8\\n(13.7k Reviews)',\n",
       " 'HCL Technologies Limited\\n3.8\\n(13.7k Reviews)',\n",
       " 'HCL Technologies Limited\\n3.8\\n(13.7k Reviews)',\n",
       " 'Hcl Technologies Limited\\n3.8\\n(13.7k Reviews)',\n",
       " 'HCL Technologies Limited\\n3.8\\n(13.7k Reviews)']"
      ]
     },
     "execution_count": 11,
     "metadata": {},
     "output_type": "execute_result"
    }
   ],
   "source": [
    "company = driver.find_elements_by_class_name('company-info')\n",
    "for i in company:\n",
    "    comp = i.text\n",
    "    title.append(comp)\n",
    "title"
   ]
  },
  {
   "cell_type": "code",
   "execution_count": 12,
   "id": "83fc6ded",
   "metadata": {},
   "outputs": [
    {
     "data": {
      "text/plain": [
       "['Tata Consultancy Services Ltd.',\n",
       " 'Tata Consultancy Services Ltd.',\n",
       " 'Hcl Technologies Limited',\n",
       " 'HCL Technologies Limited',\n",
       " 'GENPACT India Private Limited',\n",
       " 'Randstad',\n",
       " 'HCL Technologies Limited',\n",
       " 'HCL Technologies Limited',\n",
       " 'HCL Technologies Limited',\n",
       " 'Hcl Technologies Limited',\n",
       " 'HCL Technologies Limited']"
      ]
     },
     "execution_count": 12,
     "metadata": {},
     "output_type": "execute_result"
    }
   ],
   "source": [
    "title = [i.split('\\n')[0] for i in title]\n",
    "title"
   ]
  },
  {
   "cell_type": "code",
   "execution_count": 13,
   "id": "fe4946e3",
   "metadata": {
    "scrolled": true
   },
   "outputs": [
    {
     "name": "stderr",
     "output_type": "stream",
     "text": [
      "<ipython-input-13-4080952155d7>:1: DeprecationWarning: find_elements_by_* commands are deprecated. Please use find_elements() instead\n",
      "  poste = driver.find_elements_by_xpath(\"//span[@class='body-small-l']\")\n"
     ]
    },
    {
     "data": {
      "text/plain": [
       "['3d ago',\n",
       " 'via naukri.com',\n",
       " '2d ago',\n",
       " 'via naukri.com',\n",
       " '2d ago',\n",
       " 'via naukri.com',\n",
       " '3d ago',\n",
       " 'via naukri.com',\n",
       " '1d ago',\n",
       " 'via hirist.com',\n",
       " '6d ago',\n",
       " 'via naukri.com',\n",
       " '6d ago',\n",
       " 'via naukri.com',\n",
       " '6d ago',\n",
       " 'via naukri.com',\n",
       " '6d ago',\n",
       " 'via naukri.com',\n",
       " '6d ago',\n",
       " 'via naukri.com']"
      ]
     },
     "execution_count": 13,
     "metadata": {},
     "output_type": "execute_result"
    }
   ],
   "source": [
    "poste = driver.find_elements_by_xpath(\"//span[@class='body-small-l']\")\n",
    "for i in poste:\n",
    "    post = i.text\n",
    "    posted.append(post)\n",
    "posted"
   ]
  },
  {
   "cell_type": "code",
   "execution_count": 14,
   "id": "754414b5",
   "metadata": {},
   "outputs": [
    {
     "data": {
      "text/plain": [
       "['3d ago',\n",
       " '2d ago',\n",
       " '2d ago',\n",
       " '3d ago',\n",
       " '1d ago',\n",
       " '6d ago',\n",
       " '6d ago',\n",
       " '6d ago',\n",
       " '6d ago',\n",
       " '6d ago']"
      ]
     },
     "execution_count": 14,
     "metadata": {},
     "output_type": "execute_result"
    }
   ],
   "source": [
    "posted = posted [0:21:2]\n",
    "posted"
   ]
  },
  {
   "cell_type": "code",
   "execution_count": 15,
   "id": "c43aa919",
   "metadata": {},
   "outputs": [
    {
     "name": "stderr",
     "output_type": "stream",
     "text": [
      "<ipython-input-15-926fd13f3221>:1: DeprecationWarning: find_elements_by_* commands are deprecated. Please use find_elements() instead\n",
      "  ratin = driver.find_elements_by_class_name('body-small')\n"
     ]
    },
    {
     "data": {
      "text/plain": [
       "['3.9', '3.8', '3.8', '4.0', '4.1', '3.8', '3.8', '3.8', '3.8', '3.8']"
      ]
     },
     "execution_count": 15,
     "metadata": {},
     "output_type": "execute_result"
    }
   ],
   "source": [
    "ratin = driver.find_elements_by_class_name('body-small')\n",
    "for i in ratin:\n",
    "    rat = i.text\n",
    "    rating.append(rat)\n",
    "rating"
   ]
  },
  {
   "cell_type": "code",
   "execution_count": 17,
   "id": "dc817345",
   "metadata": {},
   "outputs": [
    {
     "name": "stdout",
     "output_type": "stream",
     "text": [
      "11 10 10\n"
     ]
    }
   ],
   "source": [
    "print(len(title),len(posted),len(rating))"
   ]
  },
  {
   "cell_type": "code",
   "execution_count": 18,
   "id": "b8ebade0",
   "metadata": {},
   "outputs": [
    {
     "data": {
      "text/html": [
       "<div>\n",
       "<style scoped>\n",
       "    .dataframe tbody tr th:only-of-type {\n",
       "        vertical-align: middle;\n",
       "    }\n",
       "\n",
       "    .dataframe tbody tr th {\n",
       "        vertical-align: top;\n",
       "    }\n",
       "\n",
       "    .dataframe thead th {\n",
       "        text-align: right;\n",
       "    }\n",
       "</style>\n",
       "<table border=\"1\" class=\"dataframe\">\n",
       "  <thead>\n",
       "    <tr style=\"text-align: right;\">\n",
       "      <th></th>\n",
       "      <th>Company Name</th>\n",
       "      <th>Posted Before</th>\n",
       "      <th>Company Rating</th>\n",
       "    </tr>\n",
       "  </thead>\n",
       "  <tbody>\n",
       "    <tr>\n",
       "      <th>0</th>\n",
       "      <td>Tata Consultancy Services Ltd.</td>\n",
       "      <td>3d ago</td>\n",
       "      <td>3.9</td>\n",
       "    </tr>\n",
       "    <tr>\n",
       "      <th>1</th>\n",
       "      <td>Hcl Technologies Limited</td>\n",
       "      <td>2d ago</td>\n",
       "      <td>3.8</td>\n",
       "    </tr>\n",
       "    <tr>\n",
       "      <th>2</th>\n",
       "      <td>HCL Technologies Limited</td>\n",
       "      <td>2d ago</td>\n",
       "      <td>3.8</td>\n",
       "    </tr>\n",
       "    <tr>\n",
       "      <th>3</th>\n",
       "      <td>GENPACT India Private Limited</td>\n",
       "      <td>3d ago</td>\n",
       "      <td>4.0</td>\n",
       "    </tr>\n",
       "    <tr>\n",
       "      <th>4</th>\n",
       "      <td>Randstad</td>\n",
       "      <td>1d ago</td>\n",
       "      <td>4.1</td>\n",
       "    </tr>\n",
       "    <tr>\n",
       "      <th>5</th>\n",
       "      <td>HCL Technologies Limited</td>\n",
       "      <td>6d ago</td>\n",
       "      <td>3.8</td>\n",
       "    </tr>\n",
       "    <tr>\n",
       "      <th>6</th>\n",
       "      <td>HCL Technologies Limited</td>\n",
       "      <td>6d ago</td>\n",
       "      <td>3.8</td>\n",
       "    </tr>\n",
       "    <tr>\n",
       "      <th>7</th>\n",
       "      <td>HCL Technologies Limited</td>\n",
       "      <td>6d ago</td>\n",
       "      <td>3.8</td>\n",
       "    </tr>\n",
       "    <tr>\n",
       "      <th>8</th>\n",
       "      <td>Hcl Technologies Limited</td>\n",
       "      <td>6d ago</td>\n",
       "      <td>3.8</td>\n",
       "    </tr>\n",
       "    <tr>\n",
       "      <th>9</th>\n",
       "      <td>HCL Technologies Limited</td>\n",
       "      <td>6d ago</td>\n",
       "      <td>3.8</td>\n",
       "    </tr>\n",
       "  </tbody>\n",
       "</table>\n",
       "</div>"
      ],
      "text/plain": [
       "                     Company Name Posted Before Company Rating\n",
       "0  Tata Consultancy Services Ltd.        3d ago            3.9\n",
       "1        Hcl Technologies Limited        2d ago            3.8\n",
       "2        HCL Technologies Limited        2d ago            3.8\n",
       "3   GENPACT India Private Limited        3d ago            4.0\n",
       "4                        Randstad        1d ago            4.1\n",
       "5        HCL Technologies Limited        6d ago            3.8\n",
       "6        HCL Technologies Limited        6d ago            3.8\n",
       "7        HCL Technologies Limited        6d ago            3.8\n",
       "8        Hcl Technologies Limited        6d ago            3.8\n",
       "9        HCL Technologies Limited        6d ago            3.8"
      ]
     },
     "execution_count": 18,
     "metadata": {},
     "output_type": "execute_result"
    }
   ],
   "source": [
    "df = pd.DataFrame({'Company Name':title[1:],'Posted Before':posted,'Company Rating':rating})\n",
    "df"
   ]
  },
  {
   "cell_type": "code",
   "execution_count": 19,
   "id": "8e6fbbb5",
   "metadata": {},
   "outputs": [],
   "source": [
    "driver.close()"
   ]
  },
  {
   "cell_type": "code",
   "execution_count": null,
   "id": "037f70f3",
   "metadata": {},
   "outputs": [],
   "source": []
  }
 ],
 "metadata": {
  "kernelspec": {
   "display_name": "Python 3",
   "language": "python",
   "name": "python3"
  },
  "language_info": {
   "codemirror_mode": {
    "name": "ipython",
    "version": 3
   },
   "file_extension": ".py",
   "mimetype": "text/x-python",
   "name": "python",
   "nbconvert_exporter": "python",
   "pygments_lexer": "ipython3",
   "version": "3.8.8"
  }
 },
 "nbformat": 4,
 "nbformat_minor": 5
}
