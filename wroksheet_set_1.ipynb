{
 "cells": [
  {
   "cell_type": "markdown",
   "id": "1a0484ed",
   "metadata": {},
   "source": [
    "## worksheet_set_1"
   ]
  },
  {
   "cell_type": "code",
   "execution_count": 1,
   "id": "e5c35a40",
   "metadata": {},
   "outputs": [
    {
     "name": "stdout",
     "output_type": "stream",
     "text": [
      "Factorial of 5 is: 120\n"
     ]
    }
   ],
   "source": [
    "# Write a python program to find the factorial of a number.\n",
    "\n",
    "def factorial(n):\n",
    "    if n == 0:\n",
    "        return 1\n",
    "    else:\n",
    "        return n * factorial(n-1)\n",
    "\n",
    "print('Factorial of 5 is:',factorial(5))"
   ]
  },
  {
   "cell_type": "code",
   "execution_count": null,
   "id": "7c1ff1b5",
   "metadata": {},
   "outputs": [],
   "source": []
  },
  {
   "cell_type": "code",
   "execution_count": 2,
   "id": "bfa0a3ef",
   "metadata": {},
   "outputs": [
    {
     "name": "stdout",
     "output_type": "stream",
     "text": [
      "It is a composite number\n"
     ]
    }
   ],
   "source": [
    "# Write a python program to find whether a number is prime or composite.\n",
    "\n",
    "def prime(num):\n",
    "    for n in range (2,num):\n",
    "        if num% n==0:\n",
    "            print('It is a composite number')\n",
    "            break\n",
    "    else:\n",
    "        print('It is a Prime number')\n",
    "prime(6)"
   ]
  },
  {
   "cell_type": "code",
   "execution_count": null,
   "id": "288c3dd1",
   "metadata": {},
   "outputs": [],
   "source": []
  },
  {
   "cell_type": "code",
   "execution_count": 3,
   "id": "0f90f16f",
   "metadata": {},
   "outputs": [
    {
     "name": "stdout",
     "output_type": "stream",
     "text": [
      "Yes\n"
     ]
    }
   ],
   "source": [
    "# Write a python program to check whether a given string is palindrome or not.\n",
    "\n",
    "x = \"madam\"\n",
    "y = \"\"\n",
    "\n",
    "for i in x:\n",
    "    y = i + y\n",
    "if (x == y):\n",
    "    print(\"Yes\")\n",
    "else:\n",
    "    print(\"No\")"
   ]
  },
  {
   "cell_type": "code",
   "execution_count": null,
   "id": "cae5d296",
   "metadata": {},
   "outputs": [],
   "source": []
  },
  {
   "cell_type": "code",
   "execution_count": 4,
   "id": "bdceed45",
   "metadata": {},
   "outputs": [
    {
     "name": "stdout",
     "output_type": "stream",
     "text": [
      "Input lengths of shorter triangle sides:\n",
      "The length of the hypotenuse is: 5.0\n"
     ]
    }
   ],
   "source": [
    "# Write a Python program to get the third side of right-angled triangle from two given sides\n",
    "\n",
    "from math import sqrt\n",
    "print(\"Input lengths of shorter triangle sides:\")\n",
    "a = 3\n",
    "b = 4\n",
    "c = sqrt(a**2 + b**2)\n",
    "print(\"The length of the hypotenuse is:\", c )"
   ]
  },
  {
   "cell_type": "code",
   "execution_count": null,
   "id": "23f111d6",
   "metadata": {},
   "outputs": [],
   "source": []
  },
  {
   "cell_type": "code",
   "execution_count": 5,
   "id": "4396857d",
   "metadata": {},
   "outputs": [
    {
     "name": "stdout",
     "output_type": "stream",
     "text": [
      "Frequency of each of the characters is:\n",
      " Counter({'a': 7, 'r': 2, 'n': 2, 'y': 2, 'T': 1, 'h': 1, 'i': 1, 'N': 1, 's': 1, 'm': 1})\n"
     ]
    }
   ],
   "source": [
    "# Write a python program to print the frequency of each of the characters present in a given string\n",
    "\n",
    "from collections import Counter \n",
    "string = \"TharaniNarayanasamy\"\n",
    "freq = Counter(string)  \n",
    "print (\"Frequency of each of the characters is:\\n\",freq)"
   ]
  },
  {
   "cell_type": "code",
   "execution_count": null,
   "id": "e2b676b9",
   "metadata": {},
   "outputs": [],
   "source": []
  }
 ],
 "metadata": {
  "kernelspec": {
   "display_name": "Python 3",
   "language": "python",
   "name": "python3"
  },
  "language_info": {
   "codemirror_mode": {
    "name": "ipython",
    "version": 3
   },
   "file_extension": ".py",
   "mimetype": "text/x-python",
   "name": "python",
   "nbconvert_exporter": "python",
   "pygments_lexer": "ipython3",
   "version": "3.8.8"
  }
 },
 "nbformat": 4,
 "nbformat_minor": 5
}
