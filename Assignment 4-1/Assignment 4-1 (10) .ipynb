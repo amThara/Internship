{
 "cells": [
  {
   "cell_type": "markdown",
   "id": "7f9adcd0",
   "metadata": {},
   "source": [
    "10. Details of Datasets from UCI machine learning repositories. Url = https://archive.ics.uci.edu/\n",
    "- You have to find the following details:\n",
    "    - A) Dataset name\n",
    "    - B) Data type\n",
    "    - C) Task\n",
    "    - D) Attribute type\n",
    "    - E) No of instances\n",
    "    - F) No of attribute\n",
    "    - G) Year\n",
    " - Note: - from the home page you have to go to the ShowAllDataset page through code."
   ]
  },
  {
   "cell_type": "code",
   "execution_count": null,
   "id": "a3821478",
   "metadata": {},
   "outputs": [],
   "source": [
    "import pandas as pd\n",
    "import selenium\n",
    "from selenium import webdriver\n",
    "import time\n",
    "from selenium.common.exceptions import NoSuchElementException\n",
    "\n",
    "import warnings\n",
    "warnings.filterwarnings('ignore')"
   ]
  },
  {
   "cell_type": "code",
   "execution_count": null,
   "id": "8144a338",
   "metadata": {},
   "outputs": [],
   "source": [
    "driver = webdriver.Chrome(r\"C:/Users/Lenovo/Desktop/DS/chromedriver.exe\")\n",
    "driver.get (\"https://archive.ics.uci.edu/\") "
   ]
  },
  {
   "cell_type": "code",
   "execution_count": null,
   "id": "467a20d1",
   "metadata": {},
   "outputs": [],
   "source": [
    "sear = driver.find_element_by_xpath(\"//span[@class='normal']/b/a\")\n",
    "sear.click()"
   ]
  },
  {
   "cell_type": "code",
   "execution_count": null,
   "id": "bdd73186",
   "metadata": {},
   "outputs": [],
   "source": [
    "name = []\n",
    "names = driver.find_elements_by_xpath(\"//p[@class='normal']/b/a\")\n",
    "for i in names:\n",
    "    na = i.text\n",
    "    name.append(na)\n",
    "    \n",
    "types = []\n",
    "typess = driver.find_elements_by_xpath(\"//p[@class='normal']/b/a\")\n",
    "for i in typess:\n",
    "    typ = i.text\n",
    "    types.append(typ)\n",
    "    \n",
    "task = []\n",
    "tasks = driver.find_elements_by_xpath(\"//p[@class='normal']/b/a\")\n",
    "for i in tasks:\n",
    "    tas = i.text\n",
    "    task.append(tas)\n",
    "    \n",
    "attribute = []\n",
    "attributes = driver.find_elements_by_xpath(\"//p[@class='normal']/b/a\")\n",
    "for i in attributes:\n",
    "    attribu = i.text\n",
    "    attribute.append(attribu)\n",
    "    \n",
    "instance = []\n",
    "instances = driver.find_elements_by_xpath(\"//p[@class='normal']/b/a\")\n",
    "for i in instances:\n",
    "    instan = i.text\n",
    "    instance.append(instan)\n",
    "        \n",
    "number = []\n",
    "numbers = driver.find_elements_by_xpath(\"//p[@class='normal']/b/a\")\n",
    "for i in numbers:\n",
    "    numb = i.text\n",
    "    number.append(numb)\n",
    "        \n",
    "year = []\n",
    "years = driver.find_elements_by_xpath(\"//p[@class='normal']/b/a\")\n",
    "for i in years:\n",
    "    yea = i.text\n",
    "    year.append(yea)\n",
    "    \n",
    "ucidf = pd.DataFrame({'Dataset Name':name,'Task': task, 'Data Types':types,'Attribute Type': attribute,'No.of instances':instance,'No. of attribute':number,'Year':year})\n",
    "ucidf"
   ]
  },
  {
   "cell_type": "code",
   "execution_count": null,
   "id": "0b87de25",
   "metadata": {},
   "outputs": [],
   "source": [
    "driver.close()"
   ]
  }
 ],
 "metadata": {
  "kernelspec": {
   "display_name": "Python 3",
   "language": "python",
   "name": "python3"
  },
  "language_info": {
   "codemirror_mode": {
    "name": "ipython",
    "version": 3
   },
   "file_extension": ".py",
   "mimetype": "text/x-python",
   "name": "python",
   "nbconvert_exporter": "python",
   "pygments_lexer": "ipython3",
   "version": "3.8.8"
  }
 },
 "nbformat": 4,
 "nbformat_minor": 5
}
