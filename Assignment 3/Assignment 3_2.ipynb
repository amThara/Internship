{
 "cells": [
  {
   "cell_type": "markdown",
   "id": "5df14323",
   "metadata": {},
   "source": [
    "Q2: Write a python program to scrape data for “Data Scientist” Job position in “Bangalore” location. You\n",
    "have to scrape the job-title, job-location, company_name. You have to scrape first 10 jobs data."
   ]
  },
  {
   "cell_type": "code",
   "execution_count": 1,
   "id": "2c9ca10d",
   "metadata": {},
   "outputs": [],
   "source": [
    "import selenium\n",
    "import pandas as pd\n",
    "from selenium import webdriver"
   ]
  },
  {
   "cell_type": "code",
   "execution_count": 9,
   "id": "204f151d",
   "metadata": {},
   "outputs": [
    {
     "name": "stderr",
     "output_type": "stream",
     "text": [
      "<ipython-input-9-9cc9038b5cc3>:1: DeprecationWarning: executable_path has been deprecated, please pass in a Service object\n",
      "  driver = webdriver.Chrome (r\"C:/Users/Lenovo/Desktop/DS/chromedriver.exe\")\n"
     ]
    }
   ],
   "source": [
    "driver = webdriver.Chrome (r\"C:/Users/Lenovo/Desktop/DS/chromedriver.exe\")\n",
    "driver.get ('https://www.naukri.com/')"
   ]
  },
  {
   "cell_type": "code",
   "execution_count": 10,
   "id": "749c5344",
   "metadata": {},
   "outputs": [
    {
     "name": "stderr",
     "output_type": "stream",
     "text": [
      "<ipython-input-10-1ad5be95d8c4>:1: DeprecationWarning: find_element_by_* commands are deprecated. Please use find_element() instead\n",
      "  search_job = driver.find_element_by_id(\"qsb-keyword-sugg\")\n",
      "<ipython-input-10-1ad5be95d8c4>:3: DeprecationWarning: find_element_by_* commands are deprecated. Please use find_element() instead\n",
      "  search_loc = driver.find_element_by_id (\"qsb-location-sugg\")\n"
     ]
    }
   ],
   "source": [
    "search_job = driver.find_element_by_id(\"qsb-keyword-sugg\")\n",
    "search_job.send_keys ('Data Scientist')\n",
    "search_loc = driver.find_element_by_id (\"qsb-location-sugg\")\n",
    "search_loc.send_keys ('Bangalore')"
   ]
  },
  {
   "cell_type": "code",
   "execution_count": 11,
   "id": "13ab2b56",
   "metadata": {},
   "outputs": [
    {
     "name": "stderr",
     "output_type": "stream",
     "text": [
      "<ipython-input-11-b0c1d6bbe1c4>:1: DeprecationWarning: find_element_by_* commands are deprecated. Please use find_element() instead\n",
      "  search_btn = driver.find_element_by_xpath('//div[@class=\"search-btn\"]/button')\n"
     ]
    }
   ],
   "source": [
    "search_btn = driver.find_element_by_xpath('//div[@class=\"search-btn\"]/button')\n",
    "search_btn.click()"
   ]
  },
  {
   "cell_type": "code",
   "execution_count": 12,
   "id": "bb77eca2",
   "metadata": {},
   "outputs": [],
   "source": [
    "job_title = []\n",
    "location = []\n",
    "company = []"
   ]
  },
  {
   "cell_type": "code",
   "execution_count": 13,
   "id": "d592bbbb",
   "metadata": {},
   "outputs": [
    {
     "name": "stderr",
     "output_type": "stream",
     "text": [
      "<ipython-input-13-6c4c2e5bc12c>:1: DeprecationWarning: find_elements_by_* commands are deprecated. Please use find_elements() instead\n",
      "  title = driver.find_elements_by_xpath (\"//a[@class='title fw500 ellipsis']\")\n"
     ]
    },
    {
     "data": {
      "text/plain": [
       "['Senior Data Scientist',\n",
       " 'Sr. Associate Consultant Data Scientist',\n",
       " 'Data Scientist: Advanced Analytics',\n",
       " 'Cognitive Data Scientist',\n",
       " 'Senior Engineer - AIML - Data Scientist',\n",
       " 'Cognitive/AI Senior Data Scientist',\n",
       " 'Lead Programmer - Data Scientist',\n",
       " 'Senior Data Scientist',\n",
       " 'Lead/Senior Data Scientist (NLP)',\n",
       " 'Data Scientist']"
      ]
     },
     "execution_count": 13,
     "metadata": {},
     "output_type": "execute_result"
    }
   ],
   "source": [
    "title = driver.find_elements_by_xpath (\"//a[@class='title fw500 ellipsis']\")\n",
    "for i in title:\n",
    "    tit = i.text\n",
    "    job_title.append(tit)\n",
    "job_title [:10]"
   ]
  },
  {
   "cell_type": "code",
   "execution_count": 14,
   "id": "bcf934e3",
   "metadata": {},
   "outputs": [
    {
     "name": "stderr",
     "output_type": "stream",
     "text": [
      "<ipython-input-14-27633287a4ec>:1: DeprecationWarning: find_elements_by_* commands are deprecated. Please use find_elements() instead\n",
      "  locat = driver.find_elements_by_xpath (\"//li[@class= 'fleft grey-text br2 placeHolderLi location']/span[1]\")\n"
     ]
    },
    {
     "data": {
      "text/plain": [
       "['Bangalore/Bengaluru',\n",
       " 'Bangalore/Bengaluru',\n",
       " 'Bangalore/Bengaluru',\n",
       " 'Bangalore/Bengaluru',\n",
       " 'Bangalore/Bengaluru',\n",
       " 'Bengaluru/Bangalore',\n",
       " 'Bangalore/Bengaluru',\n",
       " 'Bangalore/Bengaluru',\n",
       " 'Bangalore/Bengaluru',\n",
       " 'Mumbai, Bangalore/Bengaluru']"
      ]
     },
     "execution_count": 14,
     "metadata": {},
     "output_type": "execute_result"
    }
   ],
   "source": [
    "locat = driver.find_elements_by_xpath (\"//li[@class= 'fleft grey-text br2 placeHolderLi location']/span[1]\")\n",
    "for i in locat:\n",
    "    lo = i.text\n",
    "    location.append(lo)\n",
    "location [:10]"
   ]
  },
  {
   "cell_type": "code",
   "execution_count": 15,
   "id": "51c8596f",
   "metadata": {},
   "outputs": [
    {
     "name": "stderr",
     "output_type": "stream",
     "text": [
      "<ipython-input-15-05d91f6bf1ae>:1: DeprecationWarning: find_elements_by_* commands are deprecated. Please use find_elements() instead\n",
      "  comp = driver.find_elements_by_xpath (\"//a[@class='subTitle ellipsis fleft']\")\n"
     ]
    },
    {
     "data": {
      "text/plain": [
       "['Visa',\n",
       " 'Eli Lilly and Company',\n",
       " 'IBM India Pvt. Limited',\n",
       " 'IBM India Pvt. Limited',\n",
       " 'Unisys',\n",
       " 'IBM India Pvt. Limited',\n",
       " 'GlaxoSmithKline Pharmaceuticals Limited',\n",
       " 'Juniper Networks',\n",
       " 'Samya.AI A FRACTAL Entity',\n",
       " 'Tata Unistore']"
      ]
     },
     "execution_count": 15,
     "metadata": {},
     "output_type": "execute_result"
    }
   ],
   "source": [
    "comp = driver.find_elements_by_xpath (\"//a[@class='subTitle ellipsis fleft']\")\n",
    "for i in comp:\n",
    "    com = i.text\n",
    "    company.append(com)\n",
    "company [:10]"
   ]
  },
  {
   "cell_type": "code",
   "execution_count": 16,
   "id": "59f947b4",
   "metadata": {},
   "outputs": [
    {
     "name": "stdout",
     "output_type": "stream",
     "text": [
      "20 20 20\n"
     ]
    }
   ],
   "source": [
    "print (len (job_title),len (location), len (company))"
   ]
  },
  {
   "cell_type": "code",
   "execution_count": 17,
   "id": "1d579bd6",
   "metadata": {},
   "outputs": [
    {
     "data": {
      "text/html": [
       "<div>\n",
       "<style scoped>\n",
       "    .dataframe tbody tr th:only-of-type {\n",
       "        vertical-align: middle;\n",
       "    }\n",
       "\n",
       "    .dataframe tbody tr th {\n",
       "        vertical-align: top;\n",
       "    }\n",
       "\n",
       "    .dataframe thead th {\n",
       "        text-align: right;\n",
       "    }\n",
       "</style>\n",
       "<table border=\"1\" class=\"dataframe\">\n",
       "  <thead>\n",
       "    <tr style=\"text-align: right;\">\n",
       "      <th></th>\n",
       "      <th>Job Title</th>\n",
       "      <th>Job Location</th>\n",
       "      <th>Company Name</th>\n",
       "    </tr>\n",
       "  </thead>\n",
       "  <tbody>\n",
       "    <tr>\n",
       "      <th>0</th>\n",
       "      <td>Senior Data Scientist</td>\n",
       "      <td>Bangalore/Bengaluru</td>\n",
       "      <td>Visa</td>\n",
       "    </tr>\n",
       "    <tr>\n",
       "      <th>1</th>\n",
       "      <td>Sr. Associate Consultant Data Scientist</td>\n",
       "      <td>Bangalore/Bengaluru</td>\n",
       "      <td>Eli Lilly and Company</td>\n",
       "    </tr>\n",
       "    <tr>\n",
       "      <th>2</th>\n",
       "      <td>Data Scientist: Advanced Analytics</td>\n",
       "      <td>Bangalore/Bengaluru</td>\n",
       "      <td>IBM India Pvt. Limited</td>\n",
       "    </tr>\n",
       "    <tr>\n",
       "      <th>3</th>\n",
       "      <td>Cognitive Data Scientist</td>\n",
       "      <td>Bangalore/Bengaluru</td>\n",
       "      <td>IBM India Pvt. Limited</td>\n",
       "    </tr>\n",
       "    <tr>\n",
       "      <th>4</th>\n",
       "      <td>Senior Engineer - AIML - Data Scientist</td>\n",
       "      <td>Bangalore/Bengaluru</td>\n",
       "      <td>Unisys</td>\n",
       "    </tr>\n",
       "    <tr>\n",
       "      <th>5</th>\n",
       "      <td>Cognitive/AI Senior Data Scientist</td>\n",
       "      <td>Bengaluru/Bangalore</td>\n",
       "      <td>IBM India Pvt. Limited</td>\n",
       "    </tr>\n",
       "    <tr>\n",
       "      <th>6</th>\n",
       "      <td>Lead Programmer - Data Scientist</td>\n",
       "      <td>Bangalore/Bengaluru</td>\n",
       "      <td>GlaxoSmithKline Pharmaceuticals Limited</td>\n",
       "    </tr>\n",
       "    <tr>\n",
       "      <th>7</th>\n",
       "      <td>Senior Data Scientist</td>\n",
       "      <td>Bangalore/Bengaluru</td>\n",
       "      <td>Juniper Networks</td>\n",
       "    </tr>\n",
       "    <tr>\n",
       "      <th>8</th>\n",
       "      <td>Lead/Senior Data Scientist (NLP)</td>\n",
       "      <td>Bangalore/Bengaluru</td>\n",
       "      <td>Samya.AI A FRACTAL Entity</td>\n",
       "    </tr>\n",
       "    <tr>\n",
       "      <th>9</th>\n",
       "      <td>Data Scientist</td>\n",
       "      <td>Mumbai, Bangalore/Bengaluru</td>\n",
       "      <td>Tata Unistore</td>\n",
       "    </tr>\n",
       "  </tbody>\n",
       "</table>\n",
       "</div>"
      ],
      "text/plain": [
       "                                 Job Title                 Job Location  \\\n",
       "0                    Senior Data Scientist          Bangalore/Bengaluru   \n",
       "1  Sr. Associate Consultant Data Scientist          Bangalore/Bengaluru   \n",
       "2       Data Scientist: Advanced Analytics          Bangalore/Bengaluru   \n",
       "3                 Cognitive Data Scientist          Bangalore/Bengaluru   \n",
       "4  Senior Engineer - AIML - Data Scientist          Bangalore/Bengaluru   \n",
       "5       Cognitive/AI Senior Data Scientist          Bengaluru/Bangalore   \n",
       "6         Lead Programmer - Data Scientist          Bangalore/Bengaluru   \n",
       "7                    Senior Data Scientist          Bangalore/Bengaluru   \n",
       "8         Lead/Senior Data Scientist (NLP)          Bangalore/Bengaluru   \n",
       "9                           Data Scientist  Mumbai, Bangalore/Bengaluru   \n",
       "\n",
       "                              Company Name  \n",
       "0                                     Visa  \n",
       "1                    Eli Lilly and Company  \n",
       "2                   IBM India Pvt. Limited  \n",
       "3                   IBM India Pvt. Limited  \n",
       "4                                   Unisys  \n",
       "5                   IBM India Pvt. Limited  \n",
       "6  GlaxoSmithKline Pharmaceuticals Limited  \n",
       "7                         Juniper Networks  \n",
       "8                Samya.AI A FRACTAL Entity  \n",
       "9                            Tata Unistore  "
      ]
     },
     "execution_count": 17,
     "metadata": {},
     "output_type": "execute_result"
    }
   ],
   "source": [
    "jobs = pd.DataFrame ({'Job Title':job_title[:10],'Job Location':location[:10],'Company Name':company[:10]})\n",
    "jobs"
   ]
  },
  {
   "cell_type": "code",
   "execution_count": 18,
   "id": "16804466",
   "metadata": {},
   "outputs": [],
   "source": [
    "driver.close()"
   ]
  },
  {
   "cell_type": "code",
   "execution_count": null,
   "id": "41861ffd",
   "metadata": {},
   "outputs": [],
   "source": []
  }
 ],
 "metadata": {
  "kernelspec": {
   "display_name": "Python 3",
   "language": "python",
   "name": "python3"
  },
  "language_info": {
   "codemirror_mode": {
    "name": "ipython",
    "version": 3
   },
   "file_extension": ".py",
   "mimetype": "text/x-python",
   "name": "python",
   "nbconvert_exporter": "python",
   "pygments_lexer": "ipython3",
   "version": "3.8.8"
  }
 },
 "nbformat": 4,
 "nbformat_minor": 5
}
