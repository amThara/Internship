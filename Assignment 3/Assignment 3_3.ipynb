{
 "cells": [
  {
   "cell_type": "markdown",
   "id": "2fe8c655",
   "metadata": {},
   "source": [
    "Q3:In this question you have to scrape data using the filters available on the webpage as shown below:\n",
    "- You have to use the location and salary filter.\n",
    "- You have to scrape data for “Data Scientist” designation for first 10 job results.\n",
    "- You have to scrape the job-title, job-location, company name, experience required.\n",
    "- The location filter to be used is “Delhi/NCR” The salary filter to be used is “3-6” lakhs"
   ]
  },
  {
   "cell_type": "code",
   "execution_count": 1,
   "id": "dc4d6541",
   "metadata": {},
   "outputs": [],
   "source": [
    "import selenium\n",
    "import pandas as pd\n",
    "from selenium import webdriver"
   ]
  },
  {
   "cell_type": "code",
   "execution_count": 2,
   "id": "2cefbb70",
   "metadata": {},
   "outputs": [
    {
     "name": "stderr",
     "output_type": "stream",
     "text": [
      "<ipython-input-2-9cc9038b5cc3>:1: DeprecationWarning: executable_path has been deprecated, please pass in a Service object\n",
      "  driver = webdriver.Chrome (r\"C:/Users/Lenovo/Desktop/DS/chromedriver.exe\")\n"
     ]
    }
   ],
   "source": [
    "driver = webdriver.Chrome (r\"C:/Users/Lenovo/Desktop/DS/chromedriver.exe\")\n",
    "driver.get ('https://www.naukri.com/')"
   ]
  },
  {
   "cell_type": "code",
   "execution_count": 3,
   "id": "558e3a75",
   "metadata": {},
   "outputs": [
    {
     "name": "stderr",
     "output_type": "stream",
     "text": [
      "<ipython-input-3-50cfea99ac90>:1: DeprecationWarning: find_element_by_* commands are deprecated. Please use find_element() instead\n",
      "  search_job = driver.find_element_by_id(\"qsb-keyword-sugg\")\n"
     ]
    }
   ],
   "source": [
    "search_job = driver.find_element_by_id(\"qsb-keyword-sugg\")\n",
    "search_job.send_keys ('Data Scientist')"
   ]
  },
  {
   "cell_type": "code",
   "execution_count": 4,
   "id": "3126ef90",
   "metadata": {},
   "outputs": [
    {
     "name": "stderr",
     "output_type": "stream",
     "text": [
      "<ipython-input-4-b0c1d6bbe1c4>:1: DeprecationWarning: find_element_by_* commands are deprecated. Please use find_element() instead\n",
      "  search_btn = driver.find_element_by_xpath('//div[@class=\"search-btn\"]/button')\n"
     ]
    }
   ],
   "source": [
    "search_btn = driver.find_element_by_xpath('//div[@class=\"search-btn\"]/button')\n",
    "search_btn.click()"
   ]
  },
  {
   "cell_type": "code",
   "execution_count": 5,
   "id": "e7bf46ad",
   "metadata": {},
   "outputs": [
    {
     "name": "stderr",
     "output_type": "stream",
     "text": [
      "<ipython-input-5-ac343abc9047>:1: DeprecationWarning: find_element_by_* commands are deprecated. Please use find_element() instead\n",
      "  locat = driver.find_element_by_xpath (\"/html/body/div[1]/div[3]/div[2]/section[1]/div[2]/div[3]/div[2]/div[3]/label/p/span[1]\")\n"
     ]
    }
   ],
   "source": [
    "locat = driver.find_element_by_xpath (\"/html/body/div[1]/div[3]/div[2]/section[1]/div[2]/div[3]/div[2]/div[3]/label/p/span[1]\")\n",
    "locat.click()"
   ]
  },
  {
   "cell_type": "code",
   "execution_count": 6,
   "id": "79c8abc4",
   "metadata": {},
   "outputs": [
    {
     "name": "stderr",
     "output_type": "stream",
     "text": [
      "<ipython-input-6-d61419195119>:1: DeprecationWarning: find_element_by_* commands are deprecated. Please use find_element() instead\n",
      "  salary = driver.find_element_by_xpath ('/html/body/div[1]/div[3]/div[2]/section[1]/div[2]/div[4]/div[2]/div[2]/label/p/span[1]')\n"
     ]
    }
   ],
   "source": [
    "salary = driver.find_element_by_xpath ('/html/body/div[1]/div[3]/div[2]/section[1]/div[2]/div[4]/div[2]/div[2]/label/p/span[1]')\n",
    "salary.click()"
   ]
  },
  {
   "cell_type": "code",
   "execution_count": 7,
   "id": "5eeeec9a",
   "metadata": {},
   "outputs": [],
   "source": [
    "job_title = []\n",
    "location = []\n",
    "company = []\n",
    "experience = []"
   ]
  },
  {
   "cell_type": "code",
   "execution_count": 8,
   "id": "53bcba7d",
   "metadata": {},
   "outputs": [
    {
     "name": "stderr",
     "output_type": "stream",
     "text": [
      "<ipython-input-8-6c4c2e5bc12c>:1: DeprecationWarning: find_elements_by_* commands are deprecated. Please use find_elements() instead\n",
      "  title = driver.find_elements_by_xpath (\"//a[@class='title fw500 ellipsis']\")\n"
     ]
    },
    {
     "data": {
      "text/plain": [
       "['Data Scientist',\n",
       " 'Data Scientist',\n",
       " 'Hiring For Data Scientist',\n",
       " 'Project Manager | Team Leader | Senior Data Scientist',\n",
       " 'Data Scientist',\n",
       " 'NTT DATA_ Hiring For BIG DATA ,DATA Scientist, Devops',\n",
       " 'Hiring For Data Analyst / Data Scientist',\n",
       " 'Data Scientist Internship',\n",
       " 'Data Scientist',\n",
       " 'Data Scientist']"
      ]
     },
     "execution_count": 8,
     "metadata": {},
     "output_type": "execute_result"
    }
   ],
   "source": [
    "title = driver.find_elements_by_xpath (\"//a[@class='title fw500 ellipsis']\")\n",
    "for i in title:\n",
    "    tit = i.text\n",
    "    job_title.append(tit)\n",
    "job_title [:10]"
   ]
  },
  {
   "cell_type": "code",
   "execution_count": 9,
   "id": "00e5a24d",
   "metadata": {},
   "outputs": [
    {
     "name": "stderr",
     "output_type": "stream",
     "text": [
      "<ipython-input-9-27633287a4ec>:1: DeprecationWarning: find_elements_by_* commands are deprecated. Please use find_elements() instead\n",
      "  locat = driver.find_elements_by_xpath (\"//li[@class= 'fleft grey-text br2 placeHolderLi location']/span[1]\")\n"
     ]
    },
    {
     "data": {
      "text/plain": [
       "['Noida, New Delhi, Faridabad, Gurgaon/Gurugram, Delhi / NCR',\n",
       " 'Noida, Nodia',\n",
       " 'Hyderabad/Secunderabad, Pune, Chennai, Bangalore/Bengaluru, Delhi / NCR, Mumbai (All Areas)',\n",
       " 'Remote',\n",
       " 'Gurgaon/Gurugram, Chennai',\n",
       " 'Noida, Kolkata, Hyderabad/Secunderabad, Ahmedabad, Chennai, Coimbatore, Bangalore/Bengaluru, Delhi / NCR, Mumbai (All Areas)',\n",
       " 'Noida(Sector-59 Noida)',\n",
       " 'New Delhi',\n",
       " 'Gurgaon/Gurugram',\n",
       " 'Gurgaon/Gurugram']"
      ]
     },
     "execution_count": 9,
     "metadata": {},
     "output_type": "execute_result"
    }
   ],
   "source": [
    "locat = driver.find_elements_by_xpath (\"//li[@class= 'fleft grey-text br2 placeHolderLi location']/span[1]\")\n",
    "for i in locat:\n",
    "    lo = i.text\n",
    "    location.append(lo)\n",
    "location [:10]"
   ]
  },
  {
   "cell_type": "code",
   "execution_count": 10,
   "id": "bee67297",
   "metadata": {},
   "outputs": [
    {
     "name": "stderr",
     "output_type": "stream",
     "text": [
      "<ipython-input-10-05d91f6bf1ae>:1: DeprecationWarning: find_elements_by_* commands are deprecated. Please use find_elements() instead\n",
      "  comp = driver.find_elements_by_xpath (\"//a[@class='subTitle ellipsis fleft']\")\n"
     ]
    },
    {
     "data": {
      "text/plain": [
       "['LG Electronics India Pvt. Ltd.',\n",
       " 'Navikenz India Pvt Ltd',\n",
       " 'Tata Consultancy Services Ltd.',\n",
       " 'Tidyquant (OPC) Private Limited',\n",
       " 'Teleperformance',\n",
       " 'NTT Data Business Solutions Pvt Ltd',\n",
       " 'Careerera',\n",
       " 'iHackers Inc',\n",
       " 'Whizhack Technologies pvt ltd',\n",
       " 'One Mobikwik Systems Private Limited']"
      ]
     },
     "execution_count": 10,
     "metadata": {},
     "output_type": "execute_result"
    }
   ],
   "source": [
    "comp = driver.find_elements_by_xpath (\"//a[@class='subTitle ellipsis fleft']\")\n",
    "for i in comp:\n",
    "    com = i.text\n",
    "    company.append(com)\n",
    "company [:10]"
   ]
  },
  {
   "cell_type": "code",
   "execution_count": 11,
   "id": "212210d2",
   "metadata": {},
   "outputs": [
    {
     "name": "stderr",
     "output_type": "stream",
     "text": [
      "<ipython-input-11-7614b4b6d5b9>:1: DeprecationWarning: find_elements_by_* commands are deprecated. Please use find_elements() instead\n",
      "  exper = driver.find_elements_by_xpath (\"//li[@class='fleft grey-text br2 placeHolderLi experience']/span[1]\")\n"
     ]
    },
    {
     "data": {
      "text/plain": [
       "['0-2 Yrs',\n",
       " '2-7 Yrs',\n",
       " '4-9 Yrs',\n",
       " '1-5 Yrs',\n",
       " '4-9 Yrs',\n",
       " '3-8 Yrs',\n",
       " '1-3 Yrs',\n",
       " '0-1 Yrs',\n",
       " '2-5 Yrs',\n",
       " '2-5 Yrs']"
      ]
     },
     "execution_count": 11,
     "metadata": {},
     "output_type": "execute_result"
    }
   ],
   "source": [
    "exper = driver.find_elements_by_xpath (\"//li[@class='fleft grey-text br2 placeHolderLi experience']/span[1]\")\n",
    "for i in exper:\n",
    "    ex = i.text\n",
    "    experience.append(ex)\n",
    "experience [:10]"
   ]
  },
  {
   "cell_type": "code",
   "execution_count": 13,
   "id": "dc05aa20",
   "metadata": {},
   "outputs": [
    {
     "name": "stdout",
     "output_type": "stream",
     "text": [
      "20 20 20 20\n"
     ]
    }
   ],
   "source": [
    "print (len (job_title),len (location), len (company), len(experience))"
   ]
  },
  {
   "cell_type": "code",
   "execution_count": 14,
   "id": "008b5c9c",
   "metadata": {},
   "outputs": [
    {
     "data": {
      "text/html": [
       "<div>\n",
       "<style scoped>\n",
       "    .dataframe tbody tr th:only-of-type {\n",
       "        vertical-align: middle;\n",
       "    }\n",
       "\n",
       "    .dataframe tbody tr th {\n",
       "        vertical-align: top;\n",
       "    }\n",
       "\n",
       "    .dataframe thead th {\n",
       "        text-align: right;\n",
       "    }\n",
       "</style>\n",
       "<table border=\"1\" class=\"dataframe\">\n",
       "  <thead>\n",
       "    <tr style=\"text-align: right;\">\n",
       "      <th></th>\n",
       "      <th>Job Title</th>\n",
       "      <th>Job Location</th>\n",
       "      <th>Company Name</th>\n",
       "      <th>Experience Required</th>\n",
       "    </tr>\n",
       "  </thead>\n",
       "  <tbody>\n",
       "    <tr>\n",
       "      <th>0</th>\n",
       "      <td>Data Scientist</td>\n",
       "      <td>Noida, New Delhi, Faridabad, Gurgaon/Gurugram,...</td>\n",
       "      <td>LG Electronics India Pvt. Ltd.</td>\n",
       "      <td>0-2 Yrs</td>\n",
       "    </tr>\n",
       "    <tr>\n",
       "      <th>1</th>\n",
       "      <td>Data Scientist</td>\n",
       "      <td>Noida, Nodia</td>\n",
       "      <td>Navikenz India Pvt Ltd</td>\n",
       "      <td>2-7 Yrs</td>\n",
       "    </tr>\n",
       "    <tr>\n",
       "      <th>2</th>\n",
       "      <td>Hiring For Data Scientist</td>\n",
       "      <td>Hyderabad/Secunderabad, Pune, Chennai, Bangalo...</td>\n",
       "      <td>Tata Consultancy Services Ltd.</td>\n",
       "      <td>4-9 Yrs</td>\n",
       "    </tr>\n",
       "    <tr>\n",
       "      <th>3</th>\n",
       "      <td>Project Manager | Team Leader | Senior Data Sc...</td>\n",
       "      <td>Remote</td>\n",
       "      <td>Tidyquant (OPC) Private Limited</td>\n",
       "      <td>1-5 Yrs</td>\n",
       "    </tr>\n",
       "    <tr>\n",
       "      <th>4</th>\n",
       "      <td>Data Scientist</td>\n",
       "      <td>Gurgaon/Gurugram, Chennai</td>\n",
       "      <td>Teleperformance</td>\n",
       "      <td>4-9 Yrs</td>\n",
       "    </tr>\n",
       "    <tr>\n",
       "      <th>5</th>\n",
       "      <td>NTT DATA_ Hiring For BIG DATA ,DATA Scientist,...</td>\n",
       "      <td>Noida, Kolkata, Hyderabad/Secunderabad, Ahmeda...</td>\n",
       "      <td>NTT Data Business Solutions Pvt Ltd</td>\n",
       "      <td>3-8 Yrs</td>\n",
       "    </tr>\n",
       "    <tr>\n",
       "      <th>6</th>\n",
       "      <td>Hiring For Data Analyst / Data Scientist</td>\n",
       "      <td>Noida(Sector-59 Noida)</td>\n",
       "      <td>Careerera</td>\n",
       "      <td>1-3 Yrs</td>\n",
       "    </tr>\n",
       "    <tr>\n",
       "      <th>7</th>\n",
       "      <td>Data Scientist Internship</td>\n",
       "      <td>New Delhi</td>\n",
       "      <td>iHackers Inc</td>\n",
       "      <td>0-1 Yrs</td>\n",
       "    </tr>\n",
       "    <tr>\n",
       "      <th>8</th>\n",
       "      <td>Data Scientist</td>\n",
       "      <td>Gurgaon/Gurugram</td>\n",
       "      <td>Whizhack Technologies pvt ltd</td>\n",
       "      <td>2-5 Yrs</td>\n",
       "    </tr>\n",
       "    <tr>\n",
       "      <th>9</th>\n",
       "      <td>Data Scientist</td>\n",
       "      <td>Gurgaon/Gurugram</td>\n",
       "      <td>One Mobikwik Systems Private Limited</td>\n",
       "      <td>2-5 Yrs</td>\n",
       "    </tr>\n",
       "  </tbody>\n",
       "</table>\n",
       "</div>"
      ],
      "text/plain": [
       "                                           Job Title  \\\n",
       "0                                     Data Scientist   \n",
       "1                                     Data Scientist   \n",
       "2                          Hiring For Data Scientist   \n",
       "3  Project Manager | Team Leader | Senior Data Sc...   \n",
       "4                                     Data Scientist   \n",
       "5  NTT DATA_ Hiring For BIG DATA ,DATA Scientist,...   \n",
       "6           Hiring For Data Analyst / Data Scientist   \n",
       "7                          Data Scientist Internship   \n",
       "8                                     Data Scientist   \n",
       "9                                     Data Scientist   \n",
       "\n",
       "                                        Job Location  \\\n",
       "0  Noida, New Delhi, Faridabad, Gurgaon/Gurugram,...   \n",
       "1                                       Noida, Nodia   \n",
       "2  Hyderabad/Secunderabad, Pune, Chennai, Bangalo...   \n",
       "3                                             Remote   \n",
       "4                          Gurgaon/Gurugram, Chennai   \n",
       "5  Noida, Kolkata, Hyderabad/Secunderabad, Ahmeda...   \n",
       "6                             Noida(Sector-59 Noida)   \n",
       "7                                          New Delhi   \n",
       "8                                   Gurgaon/Gurugram   \n",
       "9                                   Gurgaon/Gurugram   \n",
       "\n",
       "                           Company Name Experience Required  \n",
       "0        LG Electronics India Pvt. Ltd.             0-2 Yrs  \n",
       "1                Navikenz India Pvt Ltd             2-7 Yrs  \n",
       "2        Tata Consultancy Services Ltd.             4-9 Yrs  \n",
       "3       Tidyquant (OPC) Private Limited             1-5 Yrs  \n",
       "4                       Teleperformance             4-9 Yrs  \n",
       "5   NTT Data Business Solutions Pvt Ltd             3-8 Yrs  \n",
       "6                             Careerera             1-3 Yrs  \n",
       "7                          iHackers Inc             0-1 Yrs  \n",
       "8         Whizhack Technologies pvt ltd             2-5 Yrs  \n",
       "9  One Mobikwik Systems Private Limited             2-5 Yrs  "
      ]
     },
     "execution_count": 14,
     "metadata": {},
     "output_type": "execute_result"
    }
   ],
   "source": [
    "jobs = pd.DataFrame ({'Job Title':job_title[:10],'Job Location':location[:10],'Company Name':company[:10],'Experience Required': experience[:10]})\n",
    "jobs"
   ]
  },
  {
   "cell_type": "code",
   "execution_count": 15,
   "id": "d857b96b",
   "metadata": {},
   "outputs": [],
   "source": [
    "driver.close()"
   ]
  },
  {
   "cell_type": "code",
   "execution_count": null,
   "id": "de831da9",
   "metadata": {},
   "outputs": [],
   "source": []
  }
 ],
 "metadata": {
  "kernelspec": {
   "display_name": "Python 3",
   "language": "python",
   "name": "python3"
  },
  "language_info": {
   "codemirror_mode": {
    "name": "ipython",
    "version": 3
   },
   "file_extension": ".py",
   "mimetype": "text/x-python",
   "name": "python",
   "nbconvert_exporter": "python",
   "pygments_lexer": "ipython3",
   "version": "3.8.8"
  }
 },
 "nbformat": 4,
 "nbformat_minor": 5
}
