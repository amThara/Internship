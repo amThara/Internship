{
 "cells": [
  {
   "cell_type": "markdown",
   "id": "361baf9f",
   "metadata": {},
   "source": [
    "Q10: Write a python program to scrape the salary data for Data Scientist designation.\n",
    "You have to scrape Company name, Number of salaries, Average salary, Min salary, Max Salary."
   ]
  },
  {
   "cell_type": "code",
   "execution_count": 1,
   "id": "4bdf8c3f",
   "metadata": {},
   "outputs": [],
   "source": [
    "import selenium\n",
    "import pandas as pd\n",
    "from selenium import webdriver"
   ]
  },
  {
   "cell_type": "code",
   "execution_count": 2,
   "id": "cb91eb38",
   "metadata": {},
   "outputs": [
    {
     "name": "stderr",
     "output_type": "stream",
     "text": [
      "<ipython-input-2-8db4e7f1e513>:1: DeprecationWarning: executable_path has been deprecated, please pass in a Service object\n",
      "  driver = webdriver.Chrome(r\"C:\\Users\\Lenovo\\Desktop\\DS\\chromedriver.exe\")\n"
     ]
    }
   ],
   "source": [
    "driver = webdriver.Chrome(r\"C:\\Users\\Lenovo\\Desktop\\DS\\chromedriver.exe\")\n",
    "driver.get ('https://www.ambitionbox.com/')"
   ]
  },
  {
   "cell_type": "code",
   "execution_count": 3,
   "id": "9ede0460",
   "metadata": {},
   "outputs": [
    {
     "name": "stderr",
     "output_type": "stream",
     "text": [
      "<ipython-input-3-3e677c200ced>:1: DeprecationWarning: find_element_by_* commands are deprecated. Please use find_element() instead\n",
      "  salaries = driver.find_element_by_xpath('/html/body/div[1]/nav/nav/a[4]')\n"
     ]
    }
   ],
   "source": [
    "salaries = driver.find_element_by_xpath('/html/body/div[1]/nav/nav/a[4]')\n",
    "salaries.click()"
   ]
  },
  {
   "cell_type": "code",
   "execution_count": 4,
   "id": "d787cc8c",
   "metadata": {},
   "outputs": [
    {
     "name": "stderr",
     "output_type": "stream",
     "text": [
      "<ipython-input-4-e25d0cec5d69>:1: DeprecationWarning: find_element_by_* commands are deprecated. Please use find_element() instead\n",
      "  search = driver.find_element_by_xpath ('/html/body/div/div/div/main/section[1]/div[2]/div[1]/span/input')\n"
     ]
    }
   ],
   "source": [
    "search = driver.find_element_by_xpath ('/html/body/div/div/div/main/section[1]/div[2]/div[1]/span/input')\n",
    "search.send_keys('Data Scientist')"
   ]
  },
  {
   "cell_type": "code",
   "execution_count": 5,
   "id": "92d556b5",
   "metadata": {},
   "outputs": [
    {
     "name": "stderr",
     "output_type": "stream",
     "text": [
      "<ipython-input-5-04e870b6a675>:1: DeprecationWarning: find_element_by_* commands are deprecated. Please use find_element() instead\n",
      "  data = driver.find_element_by_xpath('//*[@id=\"salaries\"]/main/section[1]/div[2]/div[1]/span/div/div/div[1]/div/div/p')\n"
     ]
    }
   ],
   "source": [
    "data = driver.find_element_by_xpath('//*[@id=\"salaries\"]/main/section[1]/div[2]/div[1]/span/div/div/div[1]/div/div/p')\n",
    "data.click()"
   ]
  },
  {
   "cell_type": "code",
   "execution_count": 6,
   "id": "7b171d16",
   "metadata": {},
   "outputs": [],
   "source": [
    "name = []\n",
    "record = []\n",
    "min_sal = []\n",
    "max_sal = []\n",
    "avg_sal = []\n",
    "experience = []"
   ]
  },
  {
   "cell_type": "code",
   "execution_count": 7,
   "id": "c07bd8b4",
   "metadata": {
    "scrolled": true
   },
   "outputs": [
    {
     "name": "stderr",
     "output_type": "stream",
     "text": [
      "<ipython-input-7-b698dab3b636>:1: DeprecationWarning: find_elements_by_* commands are deprecated. Please use find_elements() instead\n",
      "  name_tag = driver.find_elements_by_xpath (\"//div[@class='name']/a\")\n"
     ]
    },
    {
     "data": {
      "text/plain": [
       "['Ab Inbev',\n",
       " 'ZS',\n",
       " 'Optum',\n",
       " 'Fractal Analytics',\n",
       " 'UnitedHealth',\n",
       " 'Tiger Analytics',\n",
       " 'Verizon',\n",
       " 'Ganit Business Solutions',\n",
       " 'Ericsson',\n",
       " 'Deloitte']"
      ]
     },
     "execution_count": 7,
     "metadata": {},
     "output_type": "execute_result"
    }
   ],
   "source": [
    "name_tag = driver.find_elements_by_xpath (\"//div[@class='name']/a\")\n",
    "for i in name_tag:\n",
    "    nam = i.text\n",
    "    name.append(nam)\n",
    "name"
   ]
  },
  {
   "cell_type": "code",
   "execution_count": 8,
   "id": "b83c0976",
   "metadata": {},
   "outputs": [
    {
     "name": "stderr",
     "output_type": "stream",
     "text": [
      "<ipython-input-8-d7ae24f5aa80>:1: DeprecationWarning: find_elements_by_* commands are deprecated. Please use find_elements() instead\n",
      "  record_t = driver.find_elements_by_xpath(\"//div[@class='name']/span\")\n"
     ]
    },
    {
     "data": {
      "text/plain": [
       "['based on 20 salaries',\n",
       " 'based on 12 salaries',\n",
       " 'based on 23 salaries',\n",
       " 'based on 66 salaries',\n",
       " 'based on 47 salaries',\n",
       " 'based on 26 salaries',\n",
       " 'based on 14 salaries',\n",
       " 'based on 13 salaries',\n",
       " 'based on 42 salaries',\n",
       " 'based on 49 salaries']"
      ]
     },
     "execution_count": 8,
     "metadata": {},
     "output_type": "execute_result"
    }
   ],
   "source": [
    "record_t = driver.find_elements_by_xpath(\"//div[@class='name']/span\")\n",
    "for i in record_t:\n",
    "    rec = i.text\n",
    "    record.append(rec)\n",
    "record"
   ]
  },
  {
   "cell_type": "code",
   "execution_count": 9,
   "id": "d56aac08",
   "metadata": {
    "scrolled": true
   },
   "outputs": [
    {
     "name": "stderr",
     "output_type": "stream",
     "text": [
      "<ipython-input-9-01bc2174afa4>:1: DeprecationWarning: find_elements_by_* commands are deprecated. Please use find_elements() instead\n",
      "  minsal = driver.find_elements_by_xpath (\"//div[@class='salary-values']/div\")\n"
     ]
    },
    {
     "data": {
      "text/plain": [
       "['₹ 15.0L',\n",
       " '₹ 23.0L',\n",
       " '₹ 9.8L',\n",
       " '₹ 19.5L',\n",
       " '₹ 11.0L',\n",
       " '₹ 21.3L',\n",
       " '₹ 9.5L',\n",
       " '₹ 22.0L',\n",
       " '₹ 7.2L',\n",
       " '₹ 20.5L',\n",
       " '₹ 8.3L',\n",
       " '₹ 18.5L',\n",
       " '₹ 10.0L',\n",
       " '₹ 21.0L',\n",
       " '₹ 8.5L',\n",
       " '₹ 15.0L',\n",
       " '₹ 5.2L',\n",
       " '₹ 21.5L',\n",
       " '₹ 6.8L',\n",
       " '₹ 20.5L']"
      ]
     },
     "execution_count": 9,
     "metadata": {},
     "output_type": "execute_result"
    }
   ],
   "source": [
    "minsal = driver.find_elements_by_xpath (\"//div[@class='salary-values']/div\")\n",
    "for i in minsal:\n",
    "    sal = i.text\n",
    "    min_sal.append(sal)\n",
    "min_sal"
   ]
  },
  {
   "cell_type": "code",
   "execution_count": 10,
   "id": "97a6dd9c",
   "metadata": {},
   "outputs": [
    {
     "data": {
      "text/plain": [
       "['₹ 23.0L',\n",
       " '₹ 19.5L',\n",
       " '₹ 21.3L',\n",
       " '₹ 22.0L',\n",
       " '₹ 20.5L',\n",
       " '₹ 18.5L',\n",
       " '₹ 21.0L',\n",
       " '₹ 15.0L',\n",
       " '₹ 21.5L',\n",
       " '₹ 20.5L']"
      ]
     },
     "execution_count": 10,
     "metadata": {},
     "output_type": "execute_result"
    }
   ],
   "source": [
    "max_sal = min_sal[1:22:2]\n",
    "max_sal"
   ]
  },
  {
   "cell_type": "code",
   "execution_count": 11,
   "id": "232ff572",
   "metadata": {},
   "outputs": [
    {
     "data": {
      "text/plain": [
       "['₹ 15.0L',\n",
       " '₹ 9.8L',\n",
       " '₹ 11.0L',\n",
       " '₹ 9.5L',\n",
       " '₹ 7.2L',\n",
       " '₹ 8.3L',\n",
       " '₹ 10.0L',\n",
       " '₹ 8.5L',\n",
       " '₹ 5.2L',\n",
       " '₹ 6.8L']"
      ]
     },
     "execution_count": 11,
     "metadata": {},
     "output_type": "execute_result"
    }
   ],
   "source": [
    "min_sal = min_sal [0:22:2]\n",
    "min_sal"
   ]
  },
  {
   "cell_type": "code",
   "execution_count": 12,
   "id": "1e73f5ca",
   "metadata": {},
   "outputs": [
    {
     "name": "stderr",
     "output_type": "stream",
     "text": [
      "<ipython-input-12-3b6f2c0412bc>:1: DeprecationWarning: find_elements_by_* commands are deprecated. Please use find_elements() instead\n",
      "  avgsal = driver.find_elements_by_xpath (\"//p[@class='averageCtc']\")\n"
     ]
    },
    {
     "data": {
      "text/plain": [
       "['₹ 19.0L',\n",
       " '₹ 15.3L',\n",
       " '₹ 15.0L',\n",
       " '₹ 15.0L',\n",
       " '₹ 13.5L',\n",
       " '₹ 13.5L',\n",
       " '₹ 12.7L',\n",
       " '₹ 12.4L',\n",
       " '₹ 11.7L',\n",
       " '₹ 11.2L']"
      ]
     },
     "execution_count": 12,
     "metadata": {},
     "output_type": "execute_result"
    }
   ],
   "source": [
    "avgsal = driver.find_elements_by_xpath (\"//p[@class='averageCtc']\")\n",
    "for i in avgsal:\n",
    "    sal = i.text\n",
    "    avg_sal.append(sal)\n",
    "avg_sal"
   ]
  },
  {
   "cell_type": "code",
   "execution_count": 13,
   "id": "76b48d0b",
   "metadata": {},
   "outputs": [
    {
     "name": "stderr",
     "output_type": "stream",
     "text": [
      "<ipython-input-13-568444bcbc7f>:1: DeprecationWarning: find_elements_by_* commands are deprecated. Please use find_elements() instead\n",
      "  exp = driver.find_elements_by_xpath (\"//div[@class='salaries sbold-list-header']\")\n"
     ]
    },
    {
     "data": {
      "text/plain": [
       "['Data Scientist\\n . \\n3-4 yrs exp',\n",
       " 'Data Scientist\\n . \\n2 yrs exp',\n",
       " 'Data Scientist\\n . \\n3-4 yrs exp',\n",
       " 'Data Scientist\\n . \\n2-4 yrs exp',\n",
       " 'Data Scientist\\n . \\n2-4 yrs exp',\n",
       " 'Data Scientist\\n . \\n3-4 yrs exp',\n",
       " 'Data Scientist\\n . \\n4 yrs exp',\n",
       " 'Data Scientist\\n . \\n4 yrs exp',\n",
       " 'Data Scientist\\n . \\n3-4 yrs exp',\n",
       " 'Data Scientist\\n . \\n2-4 yrs exp']"
      ]
     },
     "execution_count": 13,
     "metadata": {},
     "output_type": "execute_result"
    }
   ],
   "source": [
    "exp = driver.find_elements_by_xpath (\"//div[@class='salaries sbold-list-header']\")\n",
    "for i in exp:\n",
    "    ex = i.text\n",
    "    experience.append(ex)\n",
    "experience"
   ]
  },
  {
   "cell_type": "code",
   "execution_count": 51,
   "id": "3875d7aa",
   "metadata": {},
   "outputs": [
    {
     "data": {
      "text/plain": [
       "['3-4 yrs exp',\n",
       " '2 yrs exp',\n",
       " '3-4 yrs exp',\n",
       " '2-4 yrs exp',\n",
       " '2-4 yrs exp',\n",
       " '3-4 yrs exp',\n",
       " '4 yrs exp',\n",
       " '4 yrs exp',\n",
       " '3-4 yrs exp',\n",
       " '2-4 yrs exp']"
      ]
     },
     "execution_count": 51,
     "metadata": {},
     "output_type": "execute_result"
    }
   ],
   "source": [
    "experience = ['3-4 yrs exp','2 yrs exp','3-4 yrs exp','2-4 yrs exp','2-4 yrs exp','3-4 yrs exp','4 yrs exp','4 yrs exp','3-4 yrs exp','2-4 yrs exp']\n",
    "experience"
   ]
  },
  {
   "cell_type": "code",
   "execution_count": 52,
   "id": "907497f1",
   "metadata": {},
   "outputs": [
    {
     "name": "stdout",
     "output_type": "stream",
     "text": [
      "10 10 10 10 10 10\n"
     ]
    }
   ],
   "source": [
    "print (len(name),len(record),len(min_sal),len(max_sal),len(avg_sal),len(experience))"
   ]
  },
  {
   "cell_type": "code",
   "execution_count": 54,
   "id": "aa2ccc1f",
   "metadata": {},
   "outputs": [
    {
     "data": {
      "text/html": [
       "<div>\n",
       "<style scoped>\n",
       "    .dataframe tbody tr th:only-of-type {\n",
       "        vertical-align: middle;\n",
       "    }\n",
       "\n",
       "    .dataframe tbody tr th {\n",
       "        vertical-align: top;\n",
       "    }\n",
       "\n",
       "    .dataframe thead th {\n",
       "        text-align: right;\n",
       "    }\n",
       "</style>\n",
       "<table border=\"1\" class=\"dataframe\">\n",
       "  <thead>\n",
       "    <tr style=\"text-align: right;\">\n",
       "      <th></th>\n",
       "      <th>Company Name</th>\n",
       "      <th>Total Salary Record</th>\n",
       "      <th>Minimum Salary</th>\n",
       "      <th>Maximum Salary</th>\n",
       "      <th>Average Salary</th>\n",
       "      <th>Experience Required</th>\n",
       "    </tr>\n",
       "  </thead>\n",
       "  <tbody>\n",
       "    <tr>\n",
       "      <th>0</th>\n",
       "      <td>Ab Inbev</td>\n",
       "      <td>based on 20 salaries</td>\n",
       "      <td>₹ 15.0L</td>\n",
       "      <td>₹ 23.0L</td>\n",
       "      <td>₹ 19.0L</td>\n",
       "      <td>3-4 yrs exp</td>\n",
       "    </tr>\n",
       "    <tr>\n",
       "      <th>1</th>\n",
       "      <td>ZS</td>\n",
       "      <td>based on 12 salaries</td>\n",
       "      <td>₹ 9.8L</td>\n",
       "      <td>₹ 19.5L</td>\n",
       "      <td>₹ 15.3L</td>\n",
       "      <td>2 yrs exp</td>\n",
       "    </tr>\n",
       "    <tr>\n",
       "      <th>2</th>\n",
       "      <td>Optum</td>\n",
       "      <td>based on 23 salaries</td>\n",
       "      <td>₹ 11.0L</td>\n",
       "      <td>₹ 21.3L</td>\n",
       "      <td>₹ 15.0L</td>\n",
       "      <td>3-4 yrs exp</td>\n",
       "    </tr>\n",
       "    <tr>\n",
       "      <th>3</th>\n",
       "      <td>Fractal Analytics</td>\n",
       "      <td>based on 66 salaries</td>\n",
       "      <td>₹ 9.5L</td>\n",
       "      <td>₹ 22.0L</td>\n",
       "      <td>₹ 15.0L</td>\n",
       "      <td>2-4 yrs exp</td>\n",
       "    </tr>\n",
       "    <tr>\n",
       "      <th>4</th>\n",
       "      <td>UnitedHealth</td>\n",
       "      <td>based on 47 salaries</td>\n",
       "      <td>₹ 7.2L</td>\n",
       "      <td>₹ 20.5L</td>\n",
       "      <td>₹ 13.5L</td>\n",
       "      <td>2-4 yrs exp</td>\n",
       "    </tr>\n",
       "    <tr>\n",
       "      <th>5</th>\n",
       "      <td>Tiger Analytics</td>\n",
       "      <td>based on 26 salaries</td>\n",
       "      <td>₹ 8.3L</td>\n",
       "      <td>₹ 18.5L</td>\n",
       "      <td>₹ 13.5L</td>\n",
       "      <td>3-4 yrs exp</td>\n",
       "    </tr>\n",
       "    <tr>\n",
       "      <th>6</th>\n",
       "      <td>Verizon</td>\n",
       "      <td>based on 14 salaries</td>\n",
       "      <td>₹ 10.0L</td>\n",
       "      <td>₹ 21.0L</td>\n",
       "      <td>₹ 12.7L</td>\n",
       "      <td>4 yrs exp</td>\n",
       "    </tr>\n",
       "    <tr>\n",
       "      <th>7</th>\n",
       "      <td>Ganit Business Solutions</td>\n",
       "      <td>based on 13 salaries</td>\n",
       "      <td>₹ 8.5L</td>\n",
       "      <td>₹ 15.0L</td>\n",
       "      <td>₹ 12.4L</td>\n",
       "      <td>4 yrs exp</td>\n",
       "    </tr>\n",
       "    <tr>\n",
       "      <th>8</th>\n",
       "      <td>Ericsson</td>\n",
       "      <td>based on 42 salaries</td>\n",
       "      <td>₹ 5.2L</td>\n",
       "      <td>₹ 21.5L</td>\n",
       "      <td>₹ 11.7L</td>\n",
       "      <td>3-4 yrs exp</td>\n",
       "    </tr>\n",
       "    <tr>\n",
       "      <th>9</th>\n",
       "      <td>Deloitte</td>\n",
       "      <td>based on 49 salaries</td>\n",
       "      <td>₹ 6.8L</td>\n",
       "      <td>₹ 20.5L</td>\n",
       "      <td>₹ 11.2L</td>\n",
       "      <td>2-4 yrs exp</td>\n",
       "    </tr>\n",
       "  </tbody>\n",
       "</table>\n",
       "</div>"
      ],
      "text/plain": [
       "               Company Name   Total Salary Record Minimum Salary  \\\n",
       "0                  Ab Inbev  based on 20 salaries        ₹ 15.0L   \n",
       "1                        ZS  based on 12 salaries         ₹ 9.8L   \n",
       "2                     Optum  based on 23 salaries        ₹ 11.0L   \n",
       "3         Fractal Analytics  based on 66 salaries         ₹ 9.5L   \n",
       "4              UnitedHealth  based on 47 salaries         ₹ 7.2L   \n",
       "5           Tiger Analytics  based on 26 salaries         ₹ 8.3L   \n",
       "6                   Verizon  based on 14 salaries        ₹ 10.0L   \n",
       "7  Ganit Business Solutions  based on 13 salaries         ₹ 8.5L   \n",
       "8                  Ericsson  based on 42 salaries         ₹ 5.2L   \n",
       "9                  Deloitte  based on 49 salaries         ₹ 6.8L   \n",
       "\n",
       "  Maximum Salary Average Salary Experience Required  \n",
       "0        ₹ 23.0L        ₹ 19.0L         3-4 yrs exp  \n",
       "1        ₹ 19.5L        ₹ 15.3L           2 yrs exp  \n",
       "2        ₹ 21.3L        ₹ 15.0L         3-4 yrs exp  \n",
       "3        ₹ 22.0L        ₹ 15.0L         2-4 yrs exp  \n",
       "4        ₹ 20.5L        ₹ 13.5L         2-4 yrs exp  \n",
       "5        ₹ 18.5L        ₹ 13.5L         3-4 yrs exp  \n",
       "6        ₹ 21.0L        ₹ 12.7L           4 yrs exp  \n",
       "7        ₹ 15.0L        ₹ 12.4L           4 yrs exp  \n",
       "8        ₹ 21.5L        ₹ 11.7L         3-4 yrs exp  \n",
       "9        ₹ 20.5L        ₹ 11.2L         2-4 yrs exp  "
      ]
     },
     "execution_count": 54,
     "metadata": {},
     "output_type": "execute_result"
    }
   ],
   "source": [
    "df = pd.DataFrame({'Company Name':name,'Total Salary Record':record,'Minimum Salary':min_sal,'Maximum Salary':max_sal,'Average Salary':avg_sal,'Experience Required':experience})\n",
    "df"
   ]
  },
  {
   "cell_type": "code",
   "execution_count": 55,
   "id": "c5ff9058",
   "metadata": {},
   "outputs": [],
   "source": [
    "driver.close()"
   ]
  },
  {
   "cell_type": "code",
   "execution_count": null,
   "id": "30ec7e60",
   "metadata": {},
   "outputs": [],
   "source": []
  }
 ],
 "metadata": {
  "kernelspec": {
   "display_name": "Python 3",
   "language": "python",
   "name": "python3"
  },
  "language_info": {
   "codemirror_mode": {
    "name": "ipython",
    "version": 3
   },
   "file_extension": ".py",
   "mimetype": "text/x-python",
   "name": "python",
   "nbconvert_exporter": "python",
   "pygments_lexer": "ipython3",
   "version": "3.8.8"
  }
 },
 "nbformat": 4,
 "nbformat_minor": 5
}
