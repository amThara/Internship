{
 "cells": [
  {
   "cell_type": "markdown",
   "id": "18ed3863",
   "metadata": {},
   "source": [
    "Q5: Scrape 100 reviews data from flipkart.com for iphone11 phone."
   ]
  },
  {
   "cell_type": "code",
   "execution_count": 1,
   "id": "ed22ff7d",
   "metadata": {},
   "outputs": [],
   "source": [
    "import selenium\n",
    "import pandas as pd\n",
    "from selenium import webdriver"
   ]
  },
  {
   "cell_type": "code",
   "execution_count": 2,
   "id": "6eae454c",
   "metadata": {
    "scrolled": true
   },
   "outputs": [
    {
     "name": "stderr",
     "output_type": "stream",
     "text": [
      "<ipython-input-2-bb24c3c2375b>:1: DeprecationWarning: executable_path has been deprecated, please pass in a Service object\n",
      "  driver = webdriver.Chrome(r\"C:\\Users\\Lenovo\\Desktop\\DS\\chromedriver.exe\")\n"
     ]
    }
   ],
   "source": [
    "driver = webdriver.Chrome(r\"C:\\Users\\Lenovo\\Desktop\\DS\\chromedriver.exe\")"
   ]
  },
  {
   "cell_type": "code",
   "execution_count": 3,
   "id": "bf17e4cd",
   "metadata": {},
   "outputs": [],
   "source": [
    "driver.get('https://www.flipkart.com/apple-iphone-11-black-64-gb-includes- earpods-poweradapter/p/itm0f37c2240b217?pid=MOBFKCTSVZAXUHGR&lid=LSTMOBFKCTSVZAXUHGREPBFGI&marketplace')"
   ]
  },
  {
   "cell_type": "code",
   "execution_count": 4,
   "id": "06452d26",
   "metadata": {
    "scrolled": true
   },
   "outputs": [
    {
     "name": "stderr",
     "output_type": "stream",
     "text": [
      "<ipython-input-4-0134e8aad2a4>:1: DeprecationWarning: find_element_by_* commands are deprecated. Please use find_element() instead\n",
      "  butt = driver.find_element_by_xpath ('/html/body/div[1]/div/div[3]/div[1]/div[2]/div[8]/div/div/div[5]/div/a/div/span')\n"
     ]
    }
   ],
   "source": [
    "butt = driver.find_element_by_xpath ('/html/body/div[1]/div/div[3]/div[1]/div[2]/div[8]/div/div/div[5]/div/a/div/span')\n",
    "butt.click()"
   ]
  },
  {
   "cell_type": "code",
   "execution_count": 5,
   "id": "75ef395c",
   "metadata": {},
   "outputs": [],
   "source": [
    "ratingt= []\n",
    "summary = []\n",
    "review = []"
   ]
  },
  {
   "cell_type": "code",
   "execution_count": 6,
   "id": "e8ba0029",
   "metadata": {
    "scrolled": true
   },
   "outputs": [
    {
     "name": "stderr",
     "output_type": "stream",
     "text": [
      "<ipython-input-6-c384c06557e6>:1: DeprecationWarning: find_elements_by_* commands are deprecated. Please use find_elements() instead\n",
      "  rating_tag = driver.find_elements_by_class_name ('row')\n"
     ]
    },
    {
     "data": {
      "text/plain": [
       "['4.6★\\n77,547 Ratings &\\n5,861 Reviews\\n5★\\n4★\\n3★\\n2★\\n1★\\n60,245\\n10,866\\n2,529\\n919\\n2,988',\n",
       " '4.6★',\n",
       " '77,547 Ratings &',\n",
       " '5,861 Reviews',\n",
       " '5\\nBrilliant',\n",
       " 'The Best Phone for the Money\\n\\nThe iPhone 11 offers superb cameras, a more durable design and excellent battery life for an affordable price.\\n\\nCompelling ultra-wide camera\\nNew Night mode is excellent\\nLong battery life',\n",
       " 'Ankit\\nCertified Buyer, Gurgaon\\nSep, 2019\\n149131913',\n",
       " 'Ankit\\nCertified Buyer, Gurgaon\\nSep, 2019',\n",
       " '149131913',\n",
       " '5\\nSimply awesome',\n",
       " 'Really satisfied with the Product I received... It’s totally genuine and the packaging was also really good so if ur planning to buy just go for it.',\n",
       " 'Flipkart Customer\\nCertified Buyer, Mokokchung\\nNov, 2020\\n4708685',\n",
       " 'Flipkart Customer\\nCertified Buyer, Mokokchung\\nNov, 2020',\n",
       " '4708685',\n",
       " '5\\nBest in the market!',\n",
       " 'Great iPhone very snappy experience as apple kind. Upgraded from iPhone 7.\\nPros\\n-Camera top class\\n- Battery top performed\\n-Chipset no need to say as apple kind\\n-Security as you expect from apple\\n- Display super bright industry leading colour\\naccuracy and super responsive\\n-Build quality as expect from apple sturdy\\npremium durable beautiful stylish.\\n-Os most stable os in smartphone industry\\n\\nCons\\n-No 5G\\n-Display is not based on OLED technology\\n-Charger headphones and 1 apple stic...\\nREAD MORE',\n",
       " 'Manish Raghuvanshi\\nCertified Buyer, Hazaribagh\\n8 months ago\\n1165158',\n",
       " 'Manish Raghuvanshi\\nCertified Buyer, Hazaribagh\\n8 months ago',\n",
       " '1165158',\n",
       " '5\\nPerfect product!',\n",
       " 'Amazing phone with great cameras and better battery which gives you the best performance. I just love the camera .',\n",
       " 'Flipkart Customer\\nCertified Buyer, Hyderabad\\nJun, 2020\\n96821510',\n",
       " 'Flipkart Customer\\nCertified Buyer, Hyderabad\\nJun, 2020',\n",
       " '96821510',\n",
       " '5\\nWorth every penny',\n",
       " 'Previously I was using one plus 3t it was a great phone\\nAnd then I decided to upgrade I am stuck between Samsung s10 plus or iPhone 11\\nI have seen the specs and everything were good except the display it’s somewhere between 720-1080 and it’s not even an amoled it’s an LCD display\\nBut I decided to go with iPhone because I have never used an IOS device I have Been an android user from the past 9 years I ordered IPhone 11 (128gb) product red\\nMy experience after using 3 weeks\\n1. The delivery ...\\nREAD MORE',\n",
       " 'Vamshi Chakrala\\nCertified Buyer, Huzurnagar\\nJan, 2020\\n4712744',\n",
       " 'Vamshi Chakrala\\nCertified Buyer, Huzurnagar\\nJan, 2020',\n",
       " '4712744',\n",
       " '5\\nFabulous!',\n",
       " 'This is my first iOS phone. I am very happy with this product. Very much satisfied with this. I love this phone.',\n",
       " 'Naveen Boopathi\\nCertified Buyer, Chennai\\nMar, 2020\\n2925456',\n",
       " 'Naveen Boopathi\\nCertified Buyer, Chennai\\nMar, 2020',\n",
       " '2925456',\n",
       " '5\\nGreat product',\n",
       " 'Amazing Powerful and Durable Gadget.\\n\\nI’m am very happy with the camera picture quality, Amazing face id unlocked in dark room, Strong battery with perfect screen size as you can carry easily in pocket. This is my third iPhone.\\n\\nI shifted from android Samsung Note series to iPhone because of the strong build quality and peace of mind for next 3-4 years.\\n\\nDon’t think to much just go for it and I suggest you to go for minimum 128gb variant or more 256gb.\\n\\nI’ve attached my puppy pics and no fi...\\nREAD MORE',\n",
       " 'Rahul Verma\\nCertified Buyer, Noida\\nMar, 2020\\n5723954',\n",
       " 'Rahul Verma\\nCertified Buyer, Noida\\nMar, 2020',\n",
       " '5723954',\n",
       " '4\\nGood choice',\n",
       " 'So far it’s been an AMAZING experience coming back to iOS after nearly a decade but it’s not as versatile as android though phone is sturdy dropped it accidentally a couple of times and nothing happened fortunately camera is awesome',\n",
       " 'Bharat Sv\\nCertified Buyer, Bengaluru\\nJun, 2020\\n1085187',\n",
       " 'Bharat Sv\\nCertified Buyer, Bengaluru\\nJun, 2020',\n",
       " '1085187',\n",
       " '5\\nWorth every penny',\n",
       " 'i11 is worthy to buy, too much happy with the product. Thank u flipkart I received the item on time..loved it..',\n",
       " 'Flipkart Customer\\nCertified Buyer, Agartala\\nOct, 2020\\n785132',\n",
       " 'Flipkart Customer\\nCertified Buyer, Agartala\\nOct, 2020',\n",
       " '785132',\n",
       " '5\\nHighly recommended',\n",
       " 'What a camera .....just awesome ..you can feel this iPhone just awesome . Good for gaming also ...try pubg in hd it’s just wow',\n",
       " 'Vishal Dubey\\nCertified Buyer\\nJul, 2020\\n51285',\n",
       " 'Vishal Dubey\\nCertified Buyer\\nJul, 2020',\n",
       " '51285',\n",
       " '',\n",
       " 'ABOUT\\nContact Us\\nAbout Us\\nCareers\\nFlipkart Stories\\nPress\\nFlipkart Wholesale\\nCorporate Information\\nHELP\\nPayments\\nShipping\\nCancellation & Returns\\nFAQ\\nReport Infringement\\nPOLICY\\nReturn Policy\\nTerms Of Use\\nSecurity\\nPrivacy\\nSitemap\\nEPR Compliance\\nSOCIAL\\nFacebook\\nTwitter\\nYouTube\\nMail Us:\\nFlipkart Internet Private Limited,\\nBuildings Alyssa, Begonia &\\nClove Embassy Tech Village,\\nOuter Ring Road, Devarabeesanahalli Village,\\nBengaluru, 560103,\\nKarnataka, India\\nRegistered Office Address:\\nFlipkart Internet Private Limited,\\nBuildings Alyssa, Begonia &\\nClove Embassy Tech Village,\\nOuter Ring Road, Devarabeesanahalli Village,\\nBengaluru, 560103,\\nKarnataka, India\\nCIN : U51109KA2012PTC066107\\nTelephone: 1800 202 9898']"
      ]
     },
     "execution_count": 6,
     "metadata": {},
     "output_type": "execute_result"
    }
   ],
   "source": [
    "rating_tag = driver.find_elements_by_class_name ('row')\n",
    "for i in rating_tag:\n",
    "    rat = i.text\n",
    "    ratingt.append(rat)\n",
    "ratingt"
   ]
  },
  {
   "cell_type": "code",
   "execution_count": 7,
   "id": "8eda8f7b",
   "metadata": {
    "scrolled": true
   },
   "outputs": [
    {
     "data": {
      "text/plain": [
       "['5\\nBrilliant',\n",
       " '5\\nSimply awesome',\n",
       " '5\\nBest in the market!',\n",
       " '5\\nPerfect product!',\n",
       " '5\\nWorth every penny',\n",
       " '5\\nFabulous!',\n",
       " '5\\nGreat product',\n",
       " '4\\nGood choice',\n",
       " '5\\nWorth every penny',\n",
       " '5\\nHighly recommended']"
      ]
     },
     "execution_count": 7,
     "metadata": {},
     "output_type": "execute_result"
    }
   ],
   "source": [
    "del ratingt[0:4]\n",
    "ratingt = ratingt[::5]\n",
    "ratingt = ratingt[:10]\n",
    "ratingt"
   ]
  },
  {
   "cell_type": "code",
   "execution_count": 8,
   "id": "824e9d02",
   "metadata": {},
   "outputs": [
    {
     "name": "stderr",
     "output_type": "stream",
     "text": [
      "<ipython-input-8-132d328af235>:1: DeprecationWarning: find_elements_by_* commands are deprecated. Please use find_elements() instead\n",
      "  summary_tag = driver.find_elements_by_class_name ('_2-N8zT')\n"
     ]
    },
    {
     "data": {
      "text/plain": [
       "['Brilliant',\n",
       " 'Simply awesome',\n",
       " 'Best in the market!',\n",
       " 'Perfect product!',\n",
       " 'Worth every penny',\n",
       " 'Fabulous!',\n",
       " 'Great product',\n",
       " 'Good choice',\n",
       " 'Worth every penny',\n",
       " 'Highly recommended']"
      ]
     },
     "execution_count": 8,
     "metadata": {},
     "output_type": "execute_result"
    }
   ],
   "source": [
    "summary_tag = driver.find_elements_by_class_name ('_2-N8zT')\n",
    "for i in summary_tag:\n",
    "    summ = i.text\n",
    "    summary.append(summ)\n",
    "summary"
   ]
  },
  {
   "cell_type": "code",
   "execution_count": 9,
   "id": "2097b321",
   "metadata": {
    "scrolled": true
   },
   "outputs": [
    {
     "name": "stderr",
     "output_type": "stream",
     "text": [
      "<ipython-input-9-e6a42db8a441>:1: DeprecationWarning: find_elements_by_* commands are deprecated. Please use find_elements() instead\n",
      "  review_tag = driver.find_elements_by_class_name ('t-ZTKy')\n"
     ]
    },
    {
     "data": {
      "text/plain": [
       "['The Best Phone for the Money\\n\\nThe iPhone 11 offers superb cameras, a more durable design and excellent battery life for an affordable price.\\n\\nCompelling ultra-wide camera\\nNew Night mode is excellent\\nLong battery life',\n",
       " 'Really satisfied with the Product I received... It’s totally genuine and the packaging was also really good so if ur planning to buy just go for it.',\n",
       " 'Great iPhone very snappy experience as apple kind. Upgraded from iPhone 7.\\nPros\\n-Camera top class\\n- Battery top performed\\n-Chipset no need to say as apple kind\\n-Security as you expect from apple\\n- Display super bright industry leading colour\\naccuracy and super responsive\\n-Build quality as expect from apple sturdy\\npremium durable beautiful stylish.\\n-Os most stable os in smartphone industry\\n\\nCons\\n-No 5G\\n-Display is not based on OLED technology\\n-Charger headphones and 1 apple stic...\\nREAD MORE',\n",
       " 'Amazing phone with great cameras and better battery which gives you the best performance. I just love the camera .',\n",
       " 'Previously I was using one plus 3t it was a great phone\\nAnd then I decided to upgrade I am stuck between Samsung s10 plus or iPhone 11\\nI have seen the specs and everything were good except the display it’s somewhere between 720-1080 and it’s not even an amoled it’s an LCD display\\nBut I decided to go with iPhone because I have never used an IOS device I have Been an android user from the past 9 years I ordered IPhone 11 (128gb) product red\\nMy experience after using 3 weeks\\n1. The delivery ...\\nREAD MORE',\n",
       " 'This is my first iOS phone. I am very happy with this product. Very much satisfied with this. I love this phone.',\n",
       " 'Amazing Powerful and Durable Gadget.\\n\\nI’m am very happy with the camera picture quality, Amazing face id unlocked in dark room, Strong battery with perfect screen size as you can carry easily in pocket. This is my third iPhone.\\n\\nI shifted from android Samsung Note series to iPhone because of the strong build quality and peace of mind for next 3-4 years.\\n\\nDon’t think to much just go for it and I suggest you to go for minimum 128gb variant or more 256gb.\\n\\nI’ve attached my puppy pics and no fi...\\nREAD MORE',\n",
       " 'So far it’s been an AMAZING experience coming back to iOS after nearly a decade but it’s not as versatile as android though phone is sturdy dropped it accidentally a couple of times and nothing happened fortunately camera is awesome',\n",
       " 'i11 is worthy to buy, too much happy with the product. Thank u flipkart I received the item on time..loved it..',\n",
       " 'What a camera .....just awesome ..you can feel this iPhone just awesome . Good for gaming also ...try pubg in hd it’s just wow']"
      ]
     },
     "execution_count": 9,
     "metadata": {},
     "output_type": "execute_result"
    }
   ],
   "source": [
    "review_tag = driver.find_elements_by_class_name ('t-ZTKy')\n",
    "for i in review_tag:\n",
    "    rev = i.text\n",
    "    review.append(rev)\n",
    "review"
   ]
  },
  {
   "cell_type": "code",
   "execution_count": 10,
   "id": "ef1aafbe",
   "metadata": {},
   "outputs": [],
   "source": [
    "rating1= []\n",
    "rating2= []\n",
    "rating3= []\n",
    "rating4= []\n",
    "rating5= []\n",
    "rating6= []\n",
    "rating7= []\n",
    "rating8= []\n",
    "rating9= []"
   ]
  },
  {
   "cell_type": "code",
   "execution_count": 11,
   "id": "e3476b3c",
   "metadata": {
    "scrolled": true
   },
   "outputs": [
    {
     "name": "stderr",
     "output_type": "stream",
     "text": [
      "<ipython-input-11-7811d50da002>:1: DeprecationWarning: find_element_by_* commands are deprecated. Please use find_element() instead\n",
      "  nextbt = driver.find_element_by_xpath ('/html/body/div[1]/div/div[3]/div/div/div[2]/div[13]/div/div/nav/a[11]/span')\n"
     ]
    }
   ],
   "source": [
    "nextbt = driver.find_element_by_xpath ('/html/body/div[1]/div/div[3]/div/div/div[2]/div[13]/div/div/nav/a[11]/span')\n",
    "nextbt.click()"
   ]
  },
  {
   "cell_type": "code",
   "execution_count": 12,
   "id": "0d7ab441",
   "metadata": {
    "scrolled": true
   },
   "outputs": [
    {
     "name": "stderr",
     "output_type": "stream",
     "text": [
      "<ipython-input-12-f885c397b70f>:1: DeprecationWarning: find_elements_by_* commands are deprecated. Please use find_elements() instead\n",
      "  rating_tag = driver.find_elements_by_class_name ('row')\n",
      "<ipython-input-12-f885c397b70f>:6: DeprecationWarning: find_elements_by_* commands are deprecated. Please use find_elements() instead\n",
      "  summary_tag = driver.find_elements_by_class_name ('_2-N8zT')\n",
      "<ipython-input-12-f885c397b70f>:11: DeprecationWarning: find_elements_by_* commands are deprecated. Please use find_elements() instead\n",
      "  review_tag = driver.find_elements_by_class_name ('t-ZTKy')\n"
     ]
    }
   ],
   "source": [
    "rating_tag = driver.find_elements_by_class_name ('row')\n",
    "for i in rating_tag:\n",
    "    rat = i.text\n",
    "    rating1.append(rat)\n",
    "    \n",
    "summary_tag = driver.find_elements_by_class_name ('_2-N8zT')\n",
    "for i in summary_tag:\n",
    "    summ = i.text\n",
    "    summary.append(summ)\n",
    "    \n",
    "review_tag = driver.find_elements_by_class_name ('t-ZTKy')\n",
    "for i in review_tag:\n",
    "    rev = i.text\n",
    "    review.append(rev)"
   ]
  },
  {
   "cell_type": "code",
   "execution_count": 13,
   "id": "6796bca8",
   "metadata": {},
   "outputs": [
    {
     "data": {
      "text/plain": [
       "['5\\nHighly recommended',\n",
       " '5\\nPerfect product!',\n",
       " '5\\nPerfect product!',\n",
       " '5\\nClassy product',\n",
       " '5\\nPerfect product!',\n",
       " '5\\nWorth every penny',\n",
       " '5\\nSimply awesome',\n",
       " '5\\nHighly recommended',\n",
       " '5\\nWorth every penny',\n",
       " '5\\nWorth every penny']"
      ]
     },
     "execution_count": 13,
     "metadata": {},
     "output_type": "execute_result"
    }
   ],
   "source": [
    "del rating1[0:4]\n",
    "rating1 = rating1[::5]\n",
    "rating1 = rating1[:10]\n",
    "rating1"
   ]
  },
  {
   "cell_type": "code",
   "execution_count": 14,
   "id": "e3487019",
   "metadata": {},
   "outputs": [
    {
     "name": "stderr",
     "output_type": "stream",
     "text": [
      "<ipython-input-14-2de0ee5ac8d9>:1: DeprecationWarning: find_element_by_* commands are deprecated. Please use find_element() instead\n",
      "  nextbt = driver.find_element_by_xpath('/html/body/div[1]/div/div[3]/div/div/div[2]/div[13]/div/div/nav/a[4]')\n"
     ]
    }
   ],
   "source": [
    "nextbt = driver.find_element_by_xpath('/html/body/div[1]/div/div[3]/div/div/div[2]/div[13]/div/div/nav/a[4]')\n",
    "nextbt.click()"
   ]
  },
  {
   "cell_type": "code",
   "execution_count": 15,
   "id": "912e5cc8",
   "metadata": {},
   "outputs": [
    {
     "name": "stderr",
     "output_type": "stream",
     "text": [
      "<ipython-input-15-0a0d73bfe998>:1: DeprecationWarning: find_elements_by_* commands are deprecated. Please use find_elements() instead\n",
      "  rating_tag = driver.find_elements_by_class_name ('row')\n",
      "<ipython-input-15-0a0d73bfe998>:6: DeprecationWarning: find_elements_by_* commands are deprecated. Please use find_elements() instead\n",
      "  summary_tag = driver.find_elements_by_class_name ('_2-N8zT')\n",
      "<ipython-input-15-0a0d73bfe998>:11: DeprecationWarning: find_elements_by_* commands are deprecated. Please use find_elements() instead\n",
      "  review_tag = driver.find_elements_by_class_name ('t-ZTKy')\n"
     ]
    }
   ],
   "source": [
    "rating_tag = driver.find_elements_by_class_name ('row')\n",
    "for i in rating_tag:\n",
    "    rat = i.text\n",
    "    rating2.append(rat)\n",
    "    \n",
    "summary_tag = driver.find_elements_by_class_name ('_2-N8zT')\n",
    "for i in summary_tag:\n",
    "    summ = i.text\n",
    "    summary.append(summ)\n",
    "    \n",
    "review_tag = driver.find_elements_by_class_name ('t-ZTKy')\n",
    "for i in review_tag:\n",
    "    rev = i.text\n",
    "    review.append(rev)"
   ]
  },
  {
   "cell_type": "code",
   "execution_count": 16,
   "id": "1477bc5f",
   "metadata": {},
   "outputs": [
    {
     "data": {
      "text/plain": [
       "['5\\nTerrific',\n",
       " '5\\nWonderful',\n",
       " '4\\nNice product',\n",
       " '5\\nPerfect product!',\n",
       " '5\\nBrilliant',\n",
       " '5\\nClassy product',\n",
       " '5\\nMust buy!',\n",
       " '4\\nGood choice',\n",
       " '5\\nWonderful',\n",
       " '5\\nPerfect product!']"
      ]
     },
     "execution_count": 16,
     "metadata": {},
     "output_type": "execute_result"
    }
   ],
   "source": [
    "del rating2[0:4]\n",
    "rating2 = rating2[::5]\n",
    "rating2 = rating2[:10]\n",
    "rating2"
   ]
  },
  {
   "cell_type": "code",
   "execution_count": 17,
   "id": "1d1deaad",
   "metadata": {},
   "outputs": [
    {
     "name": "stderr",
     "output_type": "stream",
     "text": [
      "<ipython-input-17-469c3fed9694>:1: DeprecationWarning: find_element_by_* commands are deprecated. Please use find_element() instead\n",
      "  next4 = driver.find_element_by_xpath('/html/body/div[1]/div/div[3]/div/div/div[2]/div[13]/div/div/nav/a[5]')\n"
     ]
    }
   ],
   "source": [
    "next4 = driver.find_element_by_xpath('/html/body/div[1]/div/div[3]/div/div/div[2]/div[13]/div/div/nav/a[5]')\n",
    "next4.click()"
   ]
  },
  {
   "cell_type": "code",
   "execution_count": 18,
   "id": "ece7c495",
   "metadata": {},
   "outputs": [
    {
     "name": "stderr",
     "output_type": "stream",
     "text": [
      "<ipython-input-18-6ba86dd97462>:1: DeprecationWarning: find_elements_by_* commands are deprecated. Please use find_elements() instead\n",
      "  rating_tag = driver.find_elements_by_class_name ('row')\n",
      "<ipython-input-18-6ba86dd97462>:6: DeprecationWarning: find_elements_by_* commands are deprecated. Please use find_elements() instead\n",
      "  summary_tag = driver.find_elements_by_class_name ('_2-N8zT')\n",
      "<ipython-input-18-6ba86dd97462>:11: DeprecationWarning: find_elements_by_* commands are deprecated. Please use find_elements() instead\n",
      "  review_tag = driver.find_elements_by_class_name ('t-ZTKy')\n"
     ]
    }
   ],
   "source": [
    "rating_tag = driver.find_elements_by_class_name ('row')\n",
    "for i in rating_tag:\n",
    "    rat = i.text\n",
    "    rating3.append(rat)\n",
    "    \n",
    "summary_tag = driver.find_elements_by_class_name ('_2-N8zT')\n",
    "for i in summary_tag:\n",
    "    summ = i.text\n",
    "    summary.append(summ)\n",
    "    \n",
    "review_tag = driver.find_elements_by_class_name ('t-ZTKy')\n",
    "for i in review_tag:\n",
    "    rev = i.text\n",
    "    review.append(rev)"
   ]
  },
  {
   "cell_type": "code",
   "execution_count": 19,
   "id": "2df7a314",
   "metadata": {},
   "outputs": [
    {
     "data": {
      "text/plain": [
       "['5\\nTerrific purchase',\n",
       " '5\\nSimply awesome',\n",
       " '5\\nGreat product',\n",
       " '5\\nTerrific purchase',\n",
       " '5\\nMind-blowing purchase',\n",
       " '5\\nExcellent',\n",
       " '5\\nSimply awesome',\n",
       " '4\\nGood quality product',\n",
       " '1\\nVery poor',\n",
       " '5\\nClassy product']"
      ]
     },
     "execution_count": 19,
     "metadata": {},
     "output_type": "execute_result"
    }
   ],
   "source": [
    "del rating3[0:4]\n",
    "rating3 = rating3[::5]\n",
    "rating3 = rating3[:10]\n",
    "rating3"
   ]
  },
  {
   "cell_type": "code",
   "execution_count": 20,
   "id": "9cfec938",
   "metadata": {},
   "outputs": [
    {
     "name": "stderr",
     "output_type": "stream",
     "text": [
      "<ipython-input-20-72571ea94da5>:1: DeprecationWarning: find_element_by_* commands are deprecated. Please use find_element() instead\n",
      "  next5 = driver.find_element_by_xpath('/html/body/div[1]/div/div[3]/div/div/div[2]/div[13]/div/div/nav/a[6]')\n"
     ]
    }
   ],
   "source": [
    "next5 = driver.find_element_by_xpath('/html/body/div[1]/div/div[3]/div/div/div[2]/div[13]/div/div/nav/a[6]')\n",
    "next5.click()"
   ]
  },
  {
   "cell_type": "code",
   "execution_count": 21,
   "id": "52eb2cbf",
   "metadata": {},
   "outputs": [
    {
     "name": "stderr",
     "output_type": "stream",
     "text": [
      "<ipython-input-21-32293fbee582>:1: DeprecationWarning: find_elements_by_* commands are deprecated. Please use find_elements() instead\n",
      "  rating_tag = driver.find_elements_by_class_name ('row')\n",
      "<ipython-input-21-32293fbee582>:6: DeprecationWarning: find_elements_by_* commands are deprecated. Please use find_elements() instead\n",
      "  summary_tag = driver.find_elements_by_class_name ('_2-N8zT')\n",
      "<ipython-input-21-32293fbee582>:11: DeprecationWarning: find_elements_by_* commands are deprecated. Please use find_elements() instead\n",
      "  review_tag = driver.find_elements_by_class_name ('t-ZTKy')\n"
     ]
    }
   ],
   "source": [
    "rating_tag = driver.find_elements_by_class_name ('row')\n",
    "for i in rating_tag:\n",
    "    rat = i.text\n",
    "    rating4.append(rat)\n",
    "    \n",
    "summary_tag = driver.find_elements_by_class_name ('_2-N8zT')\n",
    "for i in summary_tag:\n",
    "    summ = i.text\n",
    "    summary.append(summ)\n",
    "    \n",
    "review_tag = driver.find_elements_by_class_name ('t-ZTKy')\n",
    "for i in review_tag:\n",
    "    rev = i.text\n",
    "    review.append(rev)"
   ]
  },
  {
   "cell_type": "code",
   "execution_count": 22,
   "id": "3e8a5919",
   "metadata": {},
   "outputs": [
    {
     "data": {
      "text/plain": [
       "['5\\nPerfect product!',\n",
       " '5\\nMust buy!',\n",
       " '5\\nFabulous!',\n",
       " '5\\nMind-blowing purchase',\n",
       " '5\\nMind-blowing purchase',\n",
       " '5\\nWonderful',\n",
       " '5\\nMust buy!',\n",
       " '5\\nGreat product',\n",
       " '4\\nVery Good',\n",
       " '5\\nClassy product']"
      ]
     },
     "execution_count": 22,
     "metadata": {},
     "output_type": "execute_result"
    }
   ],
   "source": [
    "del rating4[0:4]\n",
    "rating4 = rating4[::5]\n",
    "rating4 = rating4[:10]\n",
    "rating4"
   ]
  },
  {
   "cell_type": "code",
   "execution_count": 23,
   "id": "b3057245",
   "metadata": {},
   "outputs": [
    {
     "name": "stderr",
     "output_type": "stream",
     "text": [
      "<ipython-input-23-ca66d54a06a6>:1: DeprecationWarning: find_element_by_* commands are deprecated. Please use find_element() instead\n",
      "  next6 = driver.find_element_by_xpath('/html/body/div[1]/div/div[3]/div/div/div[2]/div[13]/div/div/nav/a[7]')\n"
     ]
    }
   ],
   "source": [
    "next6 = driver.find_element_by_xpath('/html/body/div[1]/div/div[3]/div/div/div[2]/div[13]/div/div/nav/a[7]')\n",
    "next6.click()"
   ]
  },
  {
   "cell_type": "code",
   "execution_count": 24,
   "id": "f3a0ee17",
   "metadata": {},
   "outputs": [
    {
     "name": "stderr",
     "output_type": "stream",
     "text": [
      "<ipython-input-24-28e7abdcaaec>:1: DeprecationWarning: find_elements_by_* commands are deprecated. Please use find_elements() instead\n",
      "  rating_tag = driver.find_elements_by_class_name ('row')\n",
      "<ipython-input-24-28e7abdcaaec>:6: DeprecationWarning: find_elements_by_* commands are deprecated. Please use find_elements() instead\n",
      "  summary_tag = driver.find_elements_by_class_name ('_2-N8zT')\n",
      "<ipython-input-24-28e7abdcaaec>:11: DeprecationWarning: find_elements_by_* commands are deprecated. Please use find_elements() instead\n",
      "  review_tag = driver.find_elements_by_class_name ('t-ZTKy')\n"
     ]
    }
   ],
   "source": [
    "rating_tag = driver.find_elements_by_class_name ('row')\n",
    "for i in rating_tag:\n",
    "    rat = i.text\n",
    "    rating5.append(rat)\n",
    "    \n",
    "summary_tag = driver.find_elements_by_class_name ('_2-N8zT')\n",
    "for i in summary_tag:\n",
    "    summ = i.text\n",
    "    summary.append(summ)\n",
    "    \n",
    "review_tag = driver.find_elements_by_class_name ('t-ZTKy')\n",
    "for i in review_tag:\n",
    "    rev = i.text\n",
    "    review.append(rev)"
   ]
  },
  {
   "cell_type": "code",
   "execution_count": 25,
   "id": "62a55cca",
   "metadata": {},
   "outputs": [
    {
     "data": {
      "text/plain": [
       "['5\\nPerfect product!',\n",
       " '5\\nJust wow!',\n",
       " '5\\nAwesome',\n",
       " '4\\nPretty good',\n",
       " '5\\nTerrific purchase',\n",
       " '5\\nAwesome',\n",
       " '5\\nClassy product',\n",
       " '5\\nBrilliant',\n",
       " '5\\nTerrific',\n",
       " '5\\nPerfect product!']"
      ]
     },
     "execution_count": 25,
     "metadata": {},
     "output_type": "execute_result"
    }
   ],
   "source": [
    "del rating5[0:4]\n",
    "rating5 = rating5[::5]\n",
    "rating5 = rating5[:10]\n",
    "rating5"
   ]
  },
  {
   "cell_type": "code",
   "execution_count": 26,
   "id": "9664d995",
   "metadata": {},
   "outputs": [
    {
     "name": "stderr",
     "output_type": "stream",
     "text": [
      "<ipython-input-26-2d0d5f514c0e>:1: DeprecationWarning: find_element_by_* commands are deprecated. Please use find_element() instead\n",
      "  next7 = driver.find_element_by_xpath('/html/body/div[1]/div/div[3]/div/div/div[2]/div[13]/div/div/nav/a[8]')\n"
     ]
    }
   ],
   "source": [
    "next7 = driver.find_element_by_xpath('/html/body/div[1]/div/div[3]/div/div/div[2]/div[13]/div/div/nav/a[8]')\n",
    "next7.click()"
   ]
  },
  {
   "cell_type": "code",
   "execution_count": 27,
   "id": "41c065e7",
   "metadata": {},
   "outputs": [
    {
     "name": "stderr",
     "output_type": "stream",
     "text": [
      "<ipython-input-27-037fc4c68243>:1: DeprecationWarning: find_elements_by_* commands are deprecated. Please use find_elements() instead\n",
      "  rating_tag = driver.find_elements_by_class_name ('row')\n",
      "<ipython-input-27-037fc4c68243>:6: DeprecationWarning: find_elements_by_* commands are deprecated. Please use find_elements() instead\n",
      "  summary_tag = driver.find_elements_by_class_name ('_2-N8zT')\n",
      "<ipython-input-27-037fc4c68243>:11: DeprecationWarning: find_elements_by_* commands are deprecated. Please use find_elements() instead\n",
      "  review_tag = driver.find_elements_by_class_name ('t-ZTKy')\n"
     ]
    }
   ],
   "source": [
    "rating_tag = driver.find_elements_by_class_name ('row')\n",
    "for i in rating_tag:\n",
    "    rat = i.text\n",
    "    rating6.append(rat)\n",
    "    \n",
    "summary_tag = driver.find_elements_by_class_name ('_2-N8zT')\n",
    "for i in summary_tag:\n",
    "    summ = i.text\n",
    "    summary.append(summ)\n",
    "    \n",
    "review_tag = driver.find_elements_by_class_name ('t-ZTKy')\n",
    "for i in review_tag:\n",
    "    rev = i.text\n",
    "    review.append(rev)"
   ]
  },
  {
   "cell_type": "code",
   "execution_count": 28,
   "id": "484945fc",
   "metadata": {},
   "outputs": [
    {
     "data": {
      "text/plain": [
       "['4\\nGood quality product',\n",
       " '5\\nBest in the market!',\n",
       " '5\\nPerfect product!',\n",
       " '5\\nAwesome',\n",
       " '4\\nValue-for-money',\n",
       " '5\\nJust wow!',\n",
       " '1\\nWorthless',\n",
       " '5\\nSuper!',\n",
       " '5\\nExcellent',\n",
       " '4\\nNice product']"
      ]
     },
     "execution_count": 28,
     "metadata": {},
     "output_type": "execute_result"
    }
   ],
   "source": [
    "del rating6[0:4]\n",
    "rating6 = rating6[::5]\n",
    "rating6 = rating6[:10]\n",
    "rating6"
   ]
  },
  {
   "cell_type": "code",
   "execution_count": 29,
   "id": "db3dafce",
   "metadata": {},
   "outputs": [
    {
     "name": "stderr",
     "output_type": "stream",
     "text": [
      "<ipython-input-29-6f2fde8c541c>:1: DeprecationWarning: find_element_by_* commands are deprecated. Please use find_element() instead\n",
      "  next8 = driver.find_element_by_xpath('/html/body/div[1]/div/div[3]/div/div/div[2]/div[13]/div/div/nav/a[9]')\n"
     ]
    }
   ],
   "source": [
    "next8 = driver.find_element_by_xpath('/html/body/div[1]/div/div[3]/div/div/div[2]/div[13]/div/div/nav/a[9]')\n",
    "next8.click()"
   ]
  },
  {
   "cell_type": "code",
   "execution_count": 30,
   "id": "5d8810bb",
   "metadata": {},
   "outputs": [
    {
     "name": "stderr",
     "output_type": "stream",
     "text": [
      "<ipython-input-30-68ee4d331c7a>:1: DeprecationWarning: find_elements_by_* commands are deprecated. Please use find_elements() instead\n",
      "  rating_tag = driver.find_elements_by_class_name ('row')\n",
      "<ipython-input-30-68ee4d331c7a>:6: DeprecationWarning: find_elements_by_* commands are deprecated. Please use find_elements() instead\n",
      "  summary_tag = driver.find_elements_by_class_name ('_2-N8zT')\n",
      "<ipython-input-30-68ee4d331c7a>:11: DeprecationWarning: find_elements_by_* commands are deprecated. Please use find_elements() instead\n",
      "  review_tag = driver.find_elements_by_class_name ('t-ZTKy')\n"
     ]
    }
   ],
   "source": [
    "rating_tag = driver.find_elements_by_class_name ('row')\n",
    "for i in rating_tag:\n",
    "    rat = i.text\n",
    "    rating7.append(rat)\n",
    "    \n",
    "summary_tag = driver.find_elements_by_class_name ('_2-N8zT')\n",
    "for i in summary_tag:\n",
    "    summ = i.text\n",
    "    summary.append(summ)\n",
    "    \n",
    "review_tag = driver.find_elements_by_class_name ('t-ZTKy')\n",
    "for i in review_tag:\n",
    "    rev = i.text\n",
    "    review.append(rev)"
   ]
  },
  {
   "cell_type": "code",
   "execution_count": 31,
   "id": "6f470438",
   "metadata": {},
   "outputs": [
    {
     "data": {
      "text/plain": [
       "['5\\nWorth every penny',\n",
       " '5\\nWonderful',\n",
       " '5\\nSuper!',\n",
       " '5\\nClassy product',\n",
       " '5\\nMust buy!',\n",
       " '4\\nWonderful',\n",
       " '5\\nMind-blowing purchase',\n",
       " '4\\nGood quality product',\n",
       " '5\\nFabulous!',\n",
       " '5\\nWorth every penny']"
      ]
     },
     "execution_count": 31,
     "metadata": {},
     "output_type": "execute_result"
    }
   ],
   "source": [
    "del rating7[0:4]\n",
    "rating7 = rating7[::5]\n",
    "rating7 = rating7[:10]\n",
    "rating7"
   ]
  },
  {
   "cell_type": "code",
   "execution_count": 32,
   "id": "56ac4246",
   "metadata": {},
   "outputs": [
    {
     "name": "stderr",
     "output_type": "stream",
     "text": [
      "<ipython-input-32-7a4f75534fb7>:1: DeprecationWarning: find_element_by_* commands are deprecated. Please use find_element() instead\n",
      "  next9 = driver.find_element_by_xpath('/html/body/div[1]/div/div[3]/div/div/div[2]/div[13]/div/div/nav/a[6]')\n"
     ]
    }
   ],
   "source": [
    "next9 = driver.find_element_by_xpath('/html/body/div[1]/div/div[3]/div/div/div[2]/div[13]/div/div/nav/a[6]')\n",
    "next9.click()"
   ]
  },
  {
   "cell_type": "code",
   "execution_count": 33,
   "id": "50f5091c",
   "metadata": {},
   "outputs": [
    {
     "name": "stderr",
     "output_type": "stream",
     "text": [
      "<ipython-input-33-499ebab569c7>:1: DeprecationWarning: find_elements_by_* commands are deprecated. Please use find_elements() instead\n",
      "  rating_tag = driver.find_elements_by_class_name ('row')\n",
      "<ipython-input-33-499ebab569c7>:6: DeprecationWarning: find_elements_by_* commands are deprecated. Please use find_elements() instead\n",
      "  summary_tag = driver.find_elements_by_class_name ('_2-N8zT')\n",
      "<ipython-input-33-499ebab569c7>:11: DeprecationWarning: find_elements_by_* commands are deprecated. Please use find_elements() instead\n",
      "  review_tag = driver.find_elements_by_class_name ('t-ZTKy')\n"
     ]
    }
   ],
   "source": [
    "rating_tag = driver.find_elements_by_class_name ('row')\n",
    "for i in rating_tag:\n",
    "    rat = i.text\n",
    "    rating8.append(rat)\n",
    "    \n",
    "summary_tag = driver.find_elements_by_class_name ('_2-N8zT')\n",
    "for i in summary_tag:\n",
    "    summ = i.text\n",
    "    summary.append(summ)\n",
    "    \n",
    "review_tag = driver.find_elements_by_class_name ('t-ZTKy')\n",
    "for i in review_tag:\n",
    "    rev = i.text\n",
    "    review.append(rev)"
   ]
  },
  {
   "cell_type": "code",
   "execution_count": 34,
   "id": "e43eec8e",
   "metadata": {},
   "outputs": [
    {
     "data": {
      "text/plain": [
       "['5\\nWorth every penny',\n",
       " '5\\nWonderful',\n",
       " '5\\nSuper!',\n",
       " '5\\nClassy product',\n",
       " '5\\nMust buy!',\n",
       " '4\\nWonderful',\n",
       " '5\\nMind-blowing purchase',\n",
       " '4\\nGood quality product',\n",
       " '5\\nFabulous!',\n",
       " '5\\nWorth every penny']"
      ]
     },
     "execution_count": 34,
     "metadata": {},
     "output_type": "execute_result"
    }
   ],
   "source": [
    "del rating8[0:4]\n",
    "rating8 = rating8[::5]\n",
    "rating8 = rating8[:10]\n",
    "rating8"
   ]
  },
  {
   "cell_type": "code",
   "execution_count": 35,
   "id": "a648dec9",
   "metadata": {},
   "outputs": [
    {
     "name": "stderr",
     "output_type": "stream",
     "text": [
      "<ipython-input-35-5e1cc4825c6a>:1: DeprecationWarning: find_element_by_* commands are deprecated. Please use find_element() instead\n",
      "  next10 = driver.find_element_by_xpath('/html/body/div[1]/div/div[3]/div/div/div[2]/div[13]/div/div/nav/a[7]')\n"
     ]
    }
   ],
   "source": [
    "next10 = driver.find_element_by_xpath('/html/body/div[1]/div/div[3]/div/div/div[2]/div[13]/div/div/nav/a[7]')\n",
    "next10.click()"
   ]
  },
  {
   "cell_type": "code",
   "execution_count": 36,
   "id": "d40767e8",
   "metadata": {},
   "outputs": [
    {
     "name": "stderr",
     "output_type": "stream",
     "text": [
      "<ipython-input-36-12463bf8e9cf>:1: DeprecationWarning: find_elements_by_* commands are deprecated. Please use find_elements() instead\n",
      "  rating_tag = driver.find_elements_by_class_name ('row')\n",
      "<ipython-input-36-12463bf8e9cf>:6: DeprecationWarning: find_elements_by_* commands are deprecated. Please use find_elements() instead\n",
      "  summary_tag = driver.find_elements_by_class_name ('_2-N8zT')\n",
      "<ipython-input-36-12463bf8e9cf>:11: DeprecationWarning: find_elements_by_* commands are deprecated. Please use find_elements() instead\n",
      "  review_tag = driver.find_elements_by_class_name ('t-ZTKy')\n"
     ]
    }
   ],
   "source": [
    "rating_tag = driver.find_elements_by_class_name ('row')\n",
    "for i in rating_tag:\n",
    "    rat = i.text\n",
    "    rating9.append(rat)\n",
    "    \n",
    "summary_tag = driver.find_elements_by_class_name ('_2-N8zT')\n",
    "for i in summary_tag:\n",
    "    summ = i.text\n",
    "    summary.append(summ)\n",
    "    \n",
    "review_tag = driver.find_elements_by_class_name ('t-ZTKy')\n",
    "for i in review_tag:\n",
    "    rev = i.text\n",
    "    review.append(rev)"
   ]
  },
  {
   "cell_type": "code",
   "execution_count": 37,
   "id": "cd1788b0",
   "metadata": {},
   "outputs": [
    {
     "data": {
      "text/plain": [
       "['4\\nGood quality product',\n",
       " '5\\nBest in the market!',\n",
       " '5\\nExcellent',\n",
       " '5\\nMind-blowing purchase',\n",
       " '5\\nSuper!',\n",
       " '5\\nBest in the market!',\n",
       " '5\\nMind-blowing purchase',\n",
       " '5\\nClassy product',\n",
       " '5\\nBrilliant',\n",
       " '5\\nMost Price worthy Iphone']"
      ]
     },
     "execution_count": 37,
     "metadata": {},
     "output_type": "execute_result"
    }
   ],
   "source": [
    "del rating9[0:4]\n",
    "rating9 = rating9[::5]\n",
    "rating9 = rating9[:10]\n",
    "rating9"
   ]
  },
  {
   "cell_type": "code",
   "execution_count": 43,
   "id": "43f553f2",
   "metadata": {
    "scrolled": true
   },
   "outputs": [
    {
     "data": {
      "text/plain": [
       "['5\\nBrilliant',\n",
       " '5\\nSimply awesome',\n",
       " '5\\nBest in the market!',\n",
       " '5\\nPerfect product!',\n",
       " '5\\nWorth every penny',\n",
       " '5\\nFabulous!',\n",
       " '5\\nGreat product',\n",
       " '4\\nGood choice',\n",
       " '5\\nWorth every penny',\n",
       " '5\\nHighly recommended',\n",
       " '5\\nHighly recommended',\n",
       " '5\\nPerfect product!',\n",
       " '5\\nPerfect product!',\n",
       " '5\\nClassy product',\n",
       " '5\\nPerfect product!',\n",
       " '5\\nWorth every penny',\n",
       " '5\\nSimply awesome',\n",
       " '5\\nHighly recommended',\n",
       " '5\\nWorth every penny',\n",
       " '5\\nWorth every penny',\n",
       " '5\\nTerrific',\n",
       " '5\\nWonderful',\n",
       " '4\\nNice product',\n",
       " '5\\nPerfect product!',\n",
       " '5\\nBrilliant',\n",
       " '5\\nClassy product',\n",
       " '5\\nMust buy!',\n",
       " '4\\nGood choice',\n",
       " '5\\nWonderful',\n",
       " '5\\nPerfect product!',\n",
       " '5\\nTerrific purchase',\n",
       " '5\\nSimply awesome',\n",
       " '5\\nGreat product',\n",
       " '5\\nTerrific purchase',\n",
       " '5\\nMind-blowing purchase',\n",
       " '5\\nExcellent',\n",
       " '5\\nSimply awesome',\n",
       " '4\\nGood quality product',\n",
       " '1\\nVery poor',\n",
       " '5\\nClassy product',\n",
       " '5\\nPerfect product!',\n",
       " '5\\nMust buy!',\n",
       " '5\\nFabulous!',\n",
       " '5\\nMind-blowing purchase',\n",
       " '5\\nMind-blowing purchase',\n",
       " '5\\nWonderful',\n",
       " '5\\nMust buy!',\n",
       " '5\\nGreat product',\n",
       " '4\\nVery Good',\n",
       " '5\\nClassy product',\n",
       " '5\\nPerfect product!',\n",
       " '5\\nJust wow!',\n",
       " '5\\nAwesome',\n",
       " '4\\nPretty good',\n",
       " '5\\nTerrific purchase',\n",
       " '5\\nAwesome',\n",
       " '5\\nClassy product',\n",
       " '5\\nBrilliant',\n",
       " '5\\nTerrific',\n",
       " '5\\nPerfect product!',\n",
       " '4\\nGood quality product',\n",
       " '5\\nBest in the market!',\n",
       " '5\\nPerfect product!',\n",
       " '5\\nAwesome',\n",
       " '4\\nValue-for-money',\n",
       " '5\\nJust wow!',\n",
       " '1\\nWorthless',\n",
       " '5\\nSuper!',\n",
       " '5\\nExcellent',\n",
       " '4\\nNice product',\n",
       " '5\\nWorth every penny',\n",
       " '5\\nWonderful',\n",
       " '5\\nSuper!',\n",
       " '5\\nClassy product',\n",
       " '5\\nMust buy!',\n",
       " '4\\nWonderful',\n",
       " '5\\nMind-blowing purchase',\n",
       " '4\\nGood quality product',\n",
       " '5\\nFabulous!',\n",
       " '5\\nWorth every penny',\n",
       " '5\\nWorth every penny',\n",
       " '5\\nWonderful',\n",
       " '5\\nSuper!',\n",
       " '5\\nClassy product',\n",
       " '5\\nMust buy!',\n",
       " '4\\nWonderful',\n",
       " '5\\nMind-blowing purchase',\n",
       " '4\\nGood quality product',\n",
       " '5\\nFabulous!',\n",
       " '5\\nWorth every penny',\n",
       " '4\\nGood quality product',\n",
       " '5\\nBest in the market!',\n",
       " '5\\nExcellent',\n",
       " '5\\nMind-blowing purchase',\n",
       " '5\\nSuper!',\n",
       " '5\\nBest in the market!',\n",
       " '5\\nMind-blowing purchase',\n",
       " '5\\nClassy product',\n",
       " '5\\nBrilliant',\n",
       " '5\\nMost Price worthy Iphone']"
      ]
     },
     "execution_count": 43,
     "metadata": {},
     "output_type": "execute_result"
    }
   ],
   "source": [
    "rating = ratingt + rating1 + rating2 + rating3 + rating4 + rating5 + rating6 + rating7 + rating8 + rating9\n",
    "rating"
   ]
  },
  {
   "cell_type": "code",
   "execution_count": 44,
   "id": "5bb32111",
   "metadata": {
    "scrolled": true
   },
   "outputs": [
    {
     "data": {
      "text/plain": [
       "['5',\n",
       " '5',\n",
       " '5',\n",
       " '5',\n",
       " '5',\n",
       " '5',\n",
       " '5',\n",
       " '4',\n",
       " '5',\n",
       " '5',\n",
       " '5',\n",
       " '5',\n",
       " '5',\n",
       " '5',\n",
       " '5',\n",
       " '5',\n",
       " '5',\n",
       " '5',\n",
       " '5',\n",
       " '5',\n",
       " '5',\n",
       " '5',\n",
       " '4',\n",
       " '5',\n",
       " '5',\n",
       " '5',\n",
       " '5',\n",
       " '4',\n",
       " '5',\n",
       " '5',\n",
       " '5',\n",
       " '5',\n",
       " '5',\n",
       " '5',\n",
       " '5',\n",
       " '5',\n",
       " '5',\n",
       " '4',\n",
       " '1',\n",
       " '5',\n",
       " '5',\n",
       " '5',\n",
       " '5',\n",
       " '5',\n",
       " '5',\n",
       " '5',\n",
       " '5',\n",
       " '5',\n",
       " '4',\n",
       " '5',\n",
       " '5',\n",
       " '5',\n",
       " '5',\n",
       " '4',\n",
       " '5',\n",
       " '5',\n",
       " '5',\n",
       " '5',\n",
       " '5',\n",
       " '5',\n",
       " '4',\n",
       " '5',\n",
       " '5',\n",
       " '5',\n",
       " '4',\n",
       " '5',\n",
       " '1',\n",
       " '5',\n",
       " '5',\n",
       " '4',\n",
       " '5',\n",
       " '5',\n",
       " '5',\n",
       " '5',\n",
       " '5',\n",
       " '4',\n",
       " '5',\n",
       " '4',\n",
       " '5',\n",
       " '5',\n",
       " '5',\n",
       " '5',\n",
       " '5',\n",
       " '5',\n",
       " '5',\n",
       " '4',\n",
       " '5',\n",
       " '4',\n",
       " '5',\n",
       " '5',\n",
       " '4',\n",
       " '5',\n",
       " '5',\n",
       " '5',\n",
       " '5',\n",
       " '5',\n",
       " '5',\n",
       " '5',\n",
       " '5',\n",
       " '5']"
      ]
     },
     "execution_count": 44,
     "metadata": {},
     "output_type": "execute_result"
    }
   ],
   "source": [
    "rating = [i.split ('\\n')[0] for i in rating]\n",
    "rating"
   ]
  },
  {
   "cell_type": "code",
   "execution_count": 45,
   "id": "6b1010f8",
   "metadata": {},
   "outputs": [
    {
     "name": "stdout",
     "output_type": "stream",
     "text": [
      "100 100 100\n"
     ]
    }
   ],
   "source": [
    "print (len (rating),len (summary),len (review))"
   ]
  },
  {
   "cell_type": "code",
   "execution_count": 46,
   "id": "f9bb5276",
   "metadata": {
    "scrolled": true
   },
   "outputs": [
    {
     "data": {
      "text/html": [
       "<div>\n",
       "<style scoped>\n",
       "    .dataframe tbody tr th:only-of-type {\n",
       "        vertical-align: middle;\n",
       "    }\n",
       "\n",
       "    .dataframe tbody tr th {\n",
       "        vertical-align: top;\n",
       "    }\n",
       "\n",
       "    .dataframe thead th {\n",
       "        text-align: right;\n",
       "    }\n",
       "</style>\n",
       "<table border=\"1\" class=\"dataframe\">\n",
       "  <thead>\n",
       "    <tr style=\"text-align: right;\">\n",
       "      <th></th>\n",
       "      <th>Rating</th>\n",
       "      <th>Review Summary</th>\n",
       "      <th>Full Review</th>\n",
       "    </tr>\n",
       "  </thead>\n",
       "  <tbody>\n",
       "    <tr>\n",
       "      <th>0</th>\n",
       "      <td>5</td>\n",
       "      <td>Brilliant</td>\n",
       "      <td>The Best Phone for the Money\\n\\nThe iPhone 11 ...</td>\n",
       "    </tr>\n",
       "    <tr>\n",
       "      <th>1</th>\n",
       "      <td>5</td>\n",
       "      <td>Simply awesome</td>\n",
       "      <td>Really satisfied with the Product I received.....</td>\n",
       "    </tr>\n",
       "    <tr>\n",
       "      <th>2</th>\n",
       "      <td>5</td>\n",
       "      <td>Best in the market!</td>\n",
       "      <td>Great iPhone very snappy experience as apple k...</td>\n",
       "    </tr>\n",
       "    <tr>\n",
       "      <th>3</th>\n",
       "      <td>5</td>\n",
       "      <td>Perfect product!</td>\n",
       "      <td>Amazing phone with great cameras and better ba...</td>\n",
       "    </tr>\n",
       "    <tr>\n",
       "      <th>4</th>\n",
       "      <td>5</td>\n",
       "      <td>Worth every penny</td>\n",
       "      <td>Previously I was using one plus 3t it was a gr...</td>\n",
       "    </tr>\n",
       "    <tr>\n",
       "      <th>...</th>\n",
       "      <td>...</td>\n",
       "      <td>...</td>\n",
       "      <td>...</td>\n",
       "    </tr>\n",
       "    <tr>\n",
       "      <th>95</th>\n",
       "      <td>5</td>\n",
       "      <td>Best in the market!</td>\n",
       "      <td>Really very nice... my dad gifted me really I ...</td>\n",
       "    </tr>\n",
       "    <tr>\n",
       "      <th>96</th>\n",
       "      <td>5</td>\n",
       "      <td>Mind-blowing purchase</td>\n",
       "      <td>Released in 2019\\nIn 2021 still the best in se...</td>\n",
       "    </tr>\n",
       "    <tr>\n",
       "      <th>97</th>\n",
       "      <td>5</td>\n",
       "      <td>Classy product</td>\n",
       "      <td>Got my iPhone 11 today! It’s totally worth it ...</td>\n",
       "    </tr>\n",
       "    <tr>\n",
       "      <th>98</th>\n",
       "      <td>5</td>\n",
       "      <td>Brilliant</td>\n",
       "      <td>Wow wow and wow, in 48k you will not get anyth...</td>\n",
       "    </tr>\n",
       "    <tr>\n",
       "      <th>99</th>\n",
       "      <td>5</td>\n",
       "      <td>Most Price worthy Iphone</td>\n",
       "      <td>Reviewing within 1st Month\\n\\n\\n1st Month Revi...</td>\n",
       "    </tr>\n",
       "  </tbody>\n",
       "</table>\n",
       "<p>100 rows × 3 columns</p>\n",
       "</div>"
      ],
      "text/plain": [
       "   Rating            Review Summary  \\\n",
       "0       5                 Brilliant   \n",
       "1       5            Simply awesome   \n",
       "2       5       Best in the market!   \n",
       "3       5          Perfect product!   \n",
       "4       5         Worth every penny   \n",
       "..    ...                       ...   \n",
       "95      5       Best in the market!   \n",
       "96      5     Mind-blowing purchase   \n",
       "97      5            Classy product   \n",
       "98      5                 Brilliant   \n",
       "99      5  Most Price worthy Iphone   \n",
       "\n",
       "                                          Full Review  \n",
       "0   The Best Phone for the Money\\n\\nThe iPhone 11 ...  \n",
       "1   Really satisfied with the Product I received.....  \n",
       "2   Great iPhone very snappy experience as apple k...  \n",
       "3   Amazing phone with great cameras and better ba...  \n",
       "4   Previously I was using one plus 3t it was a gr...  \n",
       "..                                                ...  \n",
       "95  Really very nice... my dad gifted me really I ...  \n",
       "96  Released in 2019\\nIn 2021 still the best in se...  \n",
       "97  Got my iPhone 11 today! It’s totally worth it ...  \n",
       "98  Wow wow and wow, in 48k you will not get anyth...  \n",
       "99  Reviewing within 1st Month\\n\\n\\n1st Month Revi...  \n",
       "\n",
       "[100 rows x 3 columns]"
      ]
     },
     "execution_count": 46,
     "metadata": {},
     "output_type": "execute_result"
    }
   ],
   "source": [
    "df = pd.DataFrame({'Rating': rating,'Review Summary': summary,'Full Review':review})\n",
    "df"
   ]
  },
  {
   "cell_type": "code",
   "execution_count": 47,
   "id": "fb103852",
   "metadata": {},
   "outputs": [],
   "source": [
    "driver.close()"
   ]
  },
  {
   "cell_type": "code",
   "execution_count": null,
   "id": "4ea1002e",
   "metadata": {},
   "outputs": [],
   "source": []
  }
 ],
 "metadata": {
  "kernelspec": {
   "display_name": "Python 3",
   "language": "python",
   "name": "python3"
  },
  "language_info": {
   "codemirror_mode": {
    "name": "ipython",
    "version": 3
   },
   "file_extension": ".py",
   "mimetype": "text/x-python",
   "name": "python",
   "nbconvert_exporter": "python",
   "pygments_lexer": "ipython3",
   "version": "3.8.8"
  }
 },
 "nbformat": 4,
 "nbformat_minor": 5
}
