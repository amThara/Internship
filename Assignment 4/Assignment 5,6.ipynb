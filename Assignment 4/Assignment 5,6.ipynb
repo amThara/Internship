{
 "cells": [
  {
   "cell_type": "markdown",
   "id": "74d6cc8c",
   "metadata": {},
   "source": [
    "5. Write a program to scrap geospatial coordinates (latitude, longitude) of a city searched on google maps."
   ]
  },
  {
   "cell_type": "code",
   "execution_count": 28,
   "id": "bf6bad42",
   "metadata": {},
   "outputs": [],
   "source": [
    "import pandas as pd\n",
    "import selenium\n",
    "from selenium import webdriver\n",
    "import time\n",
    "from selenium.common.exceptions import NoSuchElementException\n",
    "\n",
    "import warnings\n",
    "warnings.filterwarnings('ignore')"
   ]
  },
  {
   "cell_type": "code",
   "execution_count": 29,
   "id": "469cf203",
   "metadata": {},
   "outputs": [],
   "source": [
    "driver = webdriver.Chrome(r\"C:/Users/Lenovo/Desktop/DS/chromedriver.exe\")\n",
    "driver.get ('https://www.google.com/maps/')"
   ]
  },
  {
   "cell_type": "code",
   "execution_count": 30,
   "id": "dcca8be5",
   "metadata": {},
   "outputs": [],
   "source": [
    "search = driver.find_element_by_xpath(\"/html/body/div[3]/div[9]/div[3]/div[1]/div[1]/div[1]/div[2]/form/div/div[3]/div/input[1]\")\n",
    "search.send_keys('Tirupur')"
   ]
  },
  {
   "cell_type": "code",
   "execution_count": 31,
   "id": "9e50adf6",
   "metadata": {},
   "outputs": [],
   "source": [
    "butt = driver.find_element_by_xpath(\"/html/body/div[3]/div[9]/div[3]/div[1]/div[1]/div[1]/div[2]/div[1]/button\")\n",
    "butt.click()"
   ]
  },
  {
   "cell_type": "code",
   "execution_count": 33,
   "id": "04a7e392",
   "metadata": {},
   "outputs": [],
   "source": [
    "#https://www.google.com/maps/place/Tiruppur,+Tamil+Nadu/@11.1087426,77.293771,12z/data=!4m5!3m4!1s0x3ba907b0424d75b9:0x4750551698a91687!8m2!3d11.1085242!4d77.3410656\n",
    "ss = ['https://www.google.com/maps/place/Tiruppur,+Tamil+Nadu/@11.1087426,77.293771,12z/data=!4m5!3m4!1s0x3ba907b0424d75b9:0x4750551698a91687!8m2!3d11.1085242!4d77.3410656']\n"
   ]
  },
  {
   "cell_type": "code",
   "execution_count": 34,
   "id": "9ae62ab3",
   "metadata": {},
   "outputs": [
    {
     "data": {
      "text/plain": [
       "['11.1087426,77.293771,12z/data=!4m5!3m4!1s0x3ba907b0424d75b9:0x4750551698a91687!8m2!3d11.1085242!4d77.3410656']"
      ]
     },
     "execution_count": 34,
     "metadata": {},
     "output_type": "execute_result"
    }
   ],
   "source": [
    "lat = [i.split('@')[1] for i in ss]\n",
    "lat"
   ]
  },
  {
   "cell_type": "code",
   "execution_count": 35,
   "id": "faf94fc6",
   "metadata": {},
   "outputs": [
    {
     "data": {
      "text/plain": [
       "[['11.1087426', '77.293771']]"
      ]
     },
     "execution_count": 35,
     "metadata": {},
     "output_type": "execute_result"
    }
   ],
   "source": [
    "lat = [i.split(',')[0:2] for i in lat]\n",
    "lat"
   ]
  },
  {
   "cell_type": "code",
   "execution_count": null,
   "id": "5d67bf6b",
   "metadata": {},
   "outputs": [],
   "source": []
  },
  {
   "cell_type": "markdown",
   "id": "9c8dd1d4",
   "metadata": {},
   "source": [
    "6. Write a program to scrap details of all the funding deals for second quarter (i.e Jan 21 – March 21) from trak.in."
   ]
  },
  {
   "cell_type": "code",
   "execution_count": 3,
   "id": "c6d7f5b4",
   "metadata": {},
   "outputs": [],
   "source": [
    "driver = webdriver.Chrome(r\"C:/Users/Lenovo/Desktop/DS/chromedriver.exe\")\n",
    "driver.get ('https://trak.in/')"
   ]
  },
  {
   "cell_type": "code",
   "execution_count": 5,
   "id": "e9c53795",
   "metadata": {
    "scrolled": true
   },
   "outputs": [],
   "source": [
    "try:\n",
    "    more = driver.find_element_by_xpath(\"//li[@class='bs-pretty-tabs-container menu-item-has-children menu-item better-anim-fade bsm-leave']\")\n",
    "    more.click()\n",
    "except:\n",
    "    deals = driver.find_element_by_xpath(\"/html/body/div[1]/header/div[2]/div/div/div/div/nav/ul/li[8]/ul/li[2]/a\")\n",
    "    deals.click()"
   ]
  },
  {
   "cell_type": "code",
   "execution_count": 6,
   "id": "3423184a",
   "metadata": {
    "scrolled": true
   },
   "outputs": [],
   "source": [
    "try:\n",
    "    closead = driver.find_element_by_xpath(\"//span[@class='ns-8occp-e-21']\")\n",
    "    closead.click() \n",
    "except:\n",
    "    pass"
   ]
  },
  {
   "cell_type": "code",
   "execution_count": 7,
   "id": "96c08e2c",
   "metadata": {},
   "outputs": [],
   "source": [
    "col1 =[]\n",
    "col2 =[]\n",
    "col3 =[]\n",
    "col4 =[]\n",
    "col5 =[]\n",
    "col6 =[]\n",
    "col7 =[]\n",
    "col8 =[]\n",
    "col9 =[]"
   ]
  },
  {
   "cell_type": "code",
   "execution_count": 8,
   "id": "47de05c6",
   "metadata": {},
   "outputs": [],
   "source": [
    "col = driver.find_elements_by_xpath(\"//tr[@class='row-2 even']/td[1]\")\n",
    "for i in col:\n",
    "    colu = i.text\n",
    "    col1.append(colu)\n",
    "col = driver.find_elements_by_xpath(\"//tr[@class='row-2 even']/td[2]\")\n",
    "for i in col:\n",
    "    colu = i.text\n",
    "    col2.append(colu)\n",
    "col = driver.find_elements_by_xpath(\"//tr[@class='row-2 even']/td[3]\")\n",
    "for i in col:\n",
    "    colu = i.text\n",
    "    col3.append(colu)\n",
    "col = driver.find_elements_by_xpath(\"//tr[@class='row-2 even']/td[4]\")\n",
    "for i in col:\n",
    "    colu = i.text\n",
    "    col4.append(colu)\n",
    "col = driver.find_elements_by_xpath(\"//tr[@class='row-2 even']/td[5]\")\n",
    "for i in col:\n",
    "    colu = i.text\n",
    "    col5.append(colu)\n",
    "col = driver.find_elements_by_xpath(\"//tr[@class='row-2 even']/td[6]\")\n",
    "for i in col:\n",
    "    colu = i.text\n",
    "    col6.append(colu)\n",
    "col = driver.find_elements_by_xpath(\"//tr[@class='row-2 even']/td[7]\")\n",
    "for i in col:\n",
    "    colu = i.text\n",
    "    col7.append(colu)\n",
    "col = driver.find_elements_by_xpath(\"//tr[@class='row-2 even']/td[8]\")\n",
    "for i in col:\n",
    "    colu = i.text\n",
    "    col8.append(colu)"
   ]
  },
  {
   "cell_type": "code",
   "execution_count": 9,
   "id": "b742b298",
   "metadata": {
    "scrolled": true
   },
   "outputs": [
    {
     "name": "stdout",
     "output_type": "stream",
     "text": [
      "45 45 45 45 45 45 45 45\n"
     ]
    }
   ],
   "source": [
    "print(len(col1),len(col2),len(col3),len(col4),len(col5),len(col6),len(col7),len(col8))"
   ]
  },
  {
   "cell_type": "code",
   "execution_count": 11,
   "id": "ad9b208c",
   "metadata": {},
   "outputs": [],
   "source": [
    "col = driver.find_elements_by_xpath(\"//tr[@class='row-3 odd']/td[1]\")\n",
    "for i in col:\n",
    "    colu = i.text\n",
    "    col1.append(colu)\n",
    "col = driver.find_elements_by_xpath(\"//tr[@class='row-3 odd']/td[2]\")\n",
    "for i in col:\n",
    "    colu = i.text\n",
    "    col2.append(colu)\n",
    "col = driver.find_elements_by_xpath(\"//tr[@class='row-3 odd']/td[3]\")\n",
    "for i in col:\n",
    "    colu = i.text\n",
    "    col3.append(colu)\n",
    "col = driver.find_elements_by_xpath(\"//tr[@class='row-3 odd']/td[4]\")\n",
    "for i in col:\n",
    "    colu = i.text\n",
    "    col4.append(colu)\n",
    "col = driver.find_elements_by_xpath(\"//tr[@class='row-3 odd']/td[5]\")\n",
    "for i in col:\n",
    "    colu = i.text\n",
    "    col5.append(colu)\n",
    "col = driver.find_elements_by_xpath(\"//tr[@class='row-3 odd']/td[6]\")\n",
    "for i in col:\n",
    "    colu = i.text\n",
    "    col6.append(colu)\n",
    "col = driver.find_elements_by_xpath(\"//tr[@class='row-3 odd']/td[7]\")\n",
    "for i in col:\n",
    "    colu = i.text\n",
    "    col7.append(colu)\n",
    "col = driver.find_elements_by_xpath(\"//tr[@class='row-3 odd']/td[8]\")\n",
    "for i in col:\n",
    "    colu = i.text\n",
    "    col8.append(colu)"
   ]
  },
  {
   "cell_type": "code",
   "execution_count": 12,
   "id": "69ce090a",
   "metadata": {},
   "outputs": [
    {
     "name": "stdout",
     "output_type": "stream",
     "text": [
      "90 90 90 90 90 90 90 90\n"
     ]
    }
   ],
   "source": [
    "print(len(col1),len(col2),len(col3),len(col4),len(col5),len(col6),len(col7),len(col8))"
   ]
  },
  {
   "cell_type": "code",
   "execution_count": 13,
   "id": "0c002b49",
   "metadata": {},
   "outputs": [],
   "source": [
    "col = driver.find_elements_by_xpath(\"//tr[@class='row-4 even']/td[1]\")\n",
    "for i in col:\n",
    "    colu = i.text\n",
    "    col1.append(colu)\n",
    "col = driver.find_elements_by_xpath(\"//tr[@class='row-4 even']/td[2]\")\n",
    "for i in col:\n",
    "    colu = i.text\n",
    "    col2.append(colu)\n",
    "col = driver.find_elements_by_xpath(\"//tr[@class='row-4 even']/td[3]\")\n",
    "for i in col:\n",
    "    colu = i.text\n",
    "    col3.append(colu)\n",
    "col = driver.find_elements_by_xpath(\"//tr[@class='row-4 even']/td[4]\")\n",
    "for i in col:\n",
    "    colu = i.text\n",
    "    col4.append(colu)\n",
    "col = driver.find_elements_by_xpath(\"//tr[@class='row-4 even']/td[5]\")\n",
    "for i in col:\n",
    "    colu = i.text\n",
    "    col5.append(colu)\n",
    "col = driver.find_elements_by_xpath(\"//tr[@class='row-4 even']/td[6]\")\n",
    "for i in col:\n",
    "    colu = i.text\n",
    "    col6.append(colu)\n",
    "col = driver.find_elements_by_xpath(\"//tr[@class='row-4 even']/td[7]\")\n",
    "for i in col:\n",
    "    colu = i.text\n",
    "    col7.append(colu)\n",
    "col = driver.find_elements_by_xpath(\"//tr[@class='row-4 even']/td[8]\")\n",
    "for i in col:\n",
    "    colu = i.text\n",
    "    col8.append(colu)"
   ]
  },
  {
   "cell_type": "code",
   "execution_count": 14,
   "id": "5aac0302",
   "metadata": {},
   "outputs": [
    {
     "name": "stdout",
     "output_type": "stream",
     "text": [
      "135 135 135 135 135 135 135 135\n"
     ]
    }
   ],
   "source": [
    "print(len(col1),len(col2),len(col3),len(col4),len(col5),len(col6),len(col7),len(col8))"
   ]
  },
  {
   "cell_type": "code",
   "execution_count": 15,
   "id": "4070d98b",
   "metadata": {},
   "outputs": [],
   "source": [
    "col = driver.find_elements_by_xpath(\"//tr[@class='row-5 odd']/td[1]\")\n",
    "for i in col:\n",
    "    colu = i.text\n",
    "    col1.append(colu)\n",
    "col = driver.find_elements_by_xpath(\"//tr[@class='row-5 odd']/td[2]\")\n",
    "for i in col:\n",
    "    colu = i.text\n",
    "    col2.append(colu)\n",
    "col = driver.find_elements_by_xpath(\"//tr[@class='row-5 odd']/td[3]\")\n",
    "for i in col:\n",
    "    colu = i.text\n",
    "    col3.append(colu)\n",
    "col = driver.find_elements_by_xpath(\"//tr[@class='row-5 odd']/td[4]\")\n",
    "for i in col:\n",
    "    colu = i.text\n",
    "    col4.append(colu)\n",
    "col = driver.find_elements_by_xpath(\"//tr[@class='row-5 odd']/td[5]\")\n",
    "for i in col:\n",
    "    colu = i.text\n",
    "    col5.append(colu)\n",
    "col = driver.find_elements_by_xpath(\"//tr[@class='row-5 odd']/td[6]\")\n",
    "for i in col:\n",
    "    colu = i.text\n",
    "    col6.append(colu)\n",
    "col = driver.find_elements_by_xpath(\"//tr[@class='row-5 odd']/td[7]\")\n",
    "for i in col:\n",
    "    colu = i.text\n",
    "    col7.append(colu)\n",
    "col = driver.find_elements_by_xpath(\"//tr[@class='row-5 odd']/td[8]\")\n",
    "for i in col:\n",
    "    colu = i.text\n",
    "    col8.append(colu)"
   ]
  },
  {
   "cell_type": "code",
   "execution_count": 16,
   "id": "7af25352",
   "metadata": {},
   "outputs": [
    {
     "name": "stdout",
     "output_type": "stream",
     "text": [
      "179 179 179 179 179 179 179 179\n"
     ]
    }
   ],
   "source": [
    "print(len(col1),len(col2),len(col3),len(col4),len(col5),len(col6),len(col7),len(col8))"
   ]
  },
  {
   "cell_type": "code",
   "execution_count": 17,
   "id": "9467a648",
   "metadata": {},
   "outputs": [],
   "source": [
    "col = driver.find_elements_by_xpath(\"//tr[@class='row-6 even']/td[1]\")\n",
    "for i in col:\n",
    "    colu = i.text\n",
    "    col1.append(colu)\n",
    "col = driver.find_elements_by_xpath(\"//tr[@class='row-6 even']/td[2]\")\n",
    "for i in col:\n",
    "    colu = i.text\n",
    "    col2.append(colu)\n",
    "col = driver.find_elements_by_xpath(\"//tr[@class='row-6 even']/td[3]\")\n",
    "for i in col:\n",
    "    colu = i.text\n",
    "    col3.append(colu)\n",
    "col = driver.find_elements_by_xpath(\"//tr[@class='row-6 even']/td[4]\")\n",
    "for i in col:\n",
    "    colu = i.text\n",
    "    col4.append(colu)\n",
    "col = driver.find_elements_by_xpath(\"//tr[@class='row-6 even']/td[5]\")\n",
    "for i in col:\n",
    "    colu = i.text\n",
    "    col5.append(colu)\n",
    "col = driver.find_elements_by_xpath(\"//tr[@class='row-6 even']/td[6]\")\n",
    "for i in col:\n",
    "    colu = i.text\n",
    "    col6.append(colu)\n",
    "col = driver.find_elements_by_xpath(\"//tr[@class='row-6 even']/td[7]\")\n",
    "for i in col:\n",
    "    colu = i.text\n",
    "    col7.append(colu)\n",
    "col = driver.find_elements_by_xpath(\"//tr[@class='row-6 even']/td[8]\")\n",
    "for i in col:\n",
    "    colu = i.text\n",
    "    col8.append(colu)"
   ]
  },
  {
   "cell_type": "code",
   "execution_count": 18,
   "id": "f105d445",
   "metadata": {},
   "outputs": [
    {
     "name": "stdout",
     "output_type": "stream",
     "text": [
      "221 221 221 221 221 221 221 221\n"
     ]
    }
   ],
   "source": [
    "print(len(col1),len(col2),len(col3),len(col4),len(col5),len(col6),len(col7),len(col8))"
   ]
  },
  {
   "cell_type": "code",
   "execution_count": 19,
   "id": "e3d32976",
   "metadata": {},
   "outputs": [],
   "source": [
    "col = driver.find_elements_by_xpath(\"//tr[@class='row-7 odd']/td[1]\")\n",
    "for i in col:\n",
    "    colu = i.text\n",
    "    col1.append(colu)\n",
    "col = driver.find_elements_by_xpath(\"//tr[@class='row-7 odd']/td[2]\")\n",
    "for i in col:\n",
    "    colu = i.text\n",
    "    col2.append(colu)\n",
    "col = driver.find_elements_by_xpath(\"//tr[@class='row-7 odd']/td[3]\")\n",
    "for i in col:\n",
    "    colu = i.text\n",
    "    col3.append(colu)\n",
    "col = driver.find_elements_by_xpath(\"//tr[@class='row-7 odd']/td[4]\")\n",
    "for i in col:\n",
    "    colu = i.text\n",
    "    col4.append(colu)\n",
    "col = driver.find_elements_by_xpath(\"//tr[@class='row-7 odd']/td[5]\")\n",
    "for i in col:\n",
    "    colu = i.text\n",
    "    col5.append(colu)\n",
    "col = driver.find_elements_by_xpath(\"//tr[@class='row-7 odd']/td[6]\")\n",
    "for i in col:\n",
    "    colu = i.text\n",
    "    col6.append(colu)\n",
    "col = driver.find_elements_by_xpath(\"//tr[@class='row-7 odd']/td[7]\")\n",
    "for i in col:\n",
    "    colu = i.text\n",
    "    col7.append(colu)\n",
    "col = driver.find_elements_by_xpath(\"//tr[@class='row-7 odd']/td[8]\")\n",
    "for i in col:\n",
    "    colu = i.text\n",
    "    col8.append(colu)"
   ]
  },
  {
   "cell_type": "code",
   "execution_count": 20,
   "id": "d4790348",
   "metadata": {},
   "outputs": [
    {
     "name": "stdout",
     "output_type": "stream",
     "text": [
      "262 262 262 262 262 262 262 262\n"
     ]
    }
   ],
   "source": [
    "print(len(col1),len(col2),len(col3),len(col4),len(col5),len(col6),len(col7),len(col8))"
   ]
  },
  {
   "cell_type": "code",
   "execution_count": 21,
   "id": "83e78e54",
   "metadata": {},
   "outputs": [],
   "source": [
    "col = driver.find_elements_by_xpath(\"//tr[@class='row-8 even']/td[1]\")\n",
    "for i in col:\n",
    "    colu = i.text\n",
    "    col1.append(colu)\n",
    "col = driver.find_elements_by_xpath(\"//tr[@class='row-8 even']/td[2]\")\n",
    "for i in col:\n",
    "    colu = i.text\n",
    "    col2.append(colu)\n",
    "col = driver.find_elements_by_xpath(\"//tr[@class='row-8 even']/td[3]\")\n",
    "for i in col:\n",
    "    colu = i.text\n",
    "    col3.append(colu)\n",
    "col = driver.find_elements_by_xpath(\"//tr[@class='row-8 even']/td[4]\")\n",
    "for i in col:\n",
    "    colu = i.text\n",
    "    col4.append(colu)\n",
    "col = driver.find_elements_by_xpath(\"//tr[@class='row-8 even']/td[5]\")\n",
    "for i in col:\n",
    "    colu = i.text\n",
    "    col5.append(colu)\n",
    "col = driver.find_elements_by_xpath(\"//tr[@class='row-8 even']/td[6]\")\n",
    "for i in col:\n",
    "    colu = i.text\n",
    "    col6.append(colu)\n",
    "col = driver.find_elements_by_xpath(\"//tr[@class='row-8 even']/td[7]\")\n",
    "for i in col:\n",
    "    colu = i.text\n",
    "    col7.append(colu)\n",
    "col = driver.find_elements_by_xpath(\"//tr[@class='row-8 even']/td[8]\")\n",
    "for i in col:\n",
    "    colu = i.text\n",
    "    col8.append(colu)"
   ]
  },
  {
   "cell_type": "code",
   "execution_count": 22,
   "id": "bb71cc0f",
   "metadata": {},
   "outputs": [
    {
     "name": "stdout",
     "output_type": "stream",
     "text": [
      "301 301 301 301 301 301 301 301\n"
     ]
    }
   ],
   "source": [
    "print(len(col1),len(col2),len(col3),len(col4),len(col5),len(col6),len(col7),len(col8))"
   ]
  },
  {
   "cell_type": "code",
   "execution_count": 23,
   "id": "2d28789a",
   "metadata": {},
   "outputs": [],
   "source": [
    "col = driver.find_elements_by_xpath(\"//tr[@class='row-9 odd']/td[1]\")\n",
    "for i in col:\n",
    "    colu = i.text\n",
    "    col1.append(colu)\n",
    "col = driver.find_elements_by_xpath(\"//tr[@class='row-9 odd']/td[2]\")\n",
    "for i in col:\n",
    "    colu = i.text\n",
    "    col2.append(colu)\n",
    "col = driver.find_elements_by_xpath(\"//tr[@class='row-9 odd']/td[3]\")\n",
    "for i in col:\n",
    "    colu = i.text\n",
    "    col3.append(colu)\n",
    "col = driver.find_elements_by_xpath(\"//tr[@class='row-9 odd']/td[4]\")\n",
    "for i in col:\n",
    "    colu = i.text\n",
    "    col4.append(colu)\n",
    "col = driver.find_elements_by_xpath(\"//tr[@class='row-9 odd']/td[5]\")\n",
    "for i in col:\n",
    "    colu = i.text\n",
    "    col5.append(colu)\n",
    "col = driver.find_elements_by_xpath(\"//tr[@class='row-9 odd']/td[6]\")\n",
    "for i in col:\n",
    "    colu = i.text\n",
    "    col6.append(colu)\n",
    "col = driver.find_elements_by_xpath(\"//tr[@class='row-9 odd']/td[7]\")\n",
    "for i in col:\n",
    "    colu = i.text\n",
    "    col7.append(colu)\n",
    "col = driver.find_elements_by_xpath(\"//tr[@class='row-9 odd']/td[8]\")\n",
    "for i in col:\n",
    "    colu = i.text\n",
    "    col8.append(colu)"
   ]
  },
  {
   "cell_type": "code",
   "execution_count": 24,
   "id": "86e43ce1",
   "metadata": {},
   "outputs": [
    {
     "name": "stdout",
     "output_type": "stream",
     "text": [
      "334 334 334 334 334 334 334 334\n"
     ]
    }
   ],
   "source": [
    "print(len(col1),len(col2),len(col3),len(col4),len(col5),len(col6),len(col7),len(col8))"
   ]
  },
  {
   "cell_type": "code",
   "execution_count": 25,
   "id": "7480d2db",
   "metadata": {},
   "outputs": [
    {
     "data": {
      "text/html": [
       "<div>\n",
       "<style scoped>\n",
       "    .dataframe tbody tr th:only-of-type {\n",
       "        vertical-align: middle;\n",
       "    }\n",
       "\n",
       "    .dataframe tbody tr th {\n",
       "        vertical-align: top;\n",
       "    }\n",
       "\n",
       "    .dataframe thead th {\n",
       "        text-align: right;\n",
       "    }\n",
       "</style>\n",
       "<table border=\"1\" class=\"dataframe\">\n",
       "  <thead>\n",
       "    <tr style=\"text-align: right;\">\n",
       "      <th></th>\n",
       "      <th>Sl.No.</th>\n",
       "      <th>Date</th>\n",
       "      <th>Starup name</th>\n",
       "      <th>Industry/Ventricle</th>\n",
       "      <th>Sub-ventricle</th>\n",
       "      <th>Location/city</th>\n",
       "      <th>Investorname</th>\n",
       "      <th>Investment type</th>\n",
       "    </tr>\n",
       "  </thead>\n",
       "  <tbody>\n",
       "    <tr>\n",
       "      <th>0</th>\n",
       "      <td>1</td>\n",
       "      <td>01/04/2021</td>\n",
       "      <td>BYJU’S</td>\n",
       "      <td>Edu-tech</td>\n",
       "      <td>Online tutoring</td>\n",
       "      <td>Bengaluru</td>\n",
       "      <td>Innoven Capital</td>\n",
       "      <td>Series F</td>\n",
       "    </tr>\n",
       "    <tr>\n",
       "      <th>1</th>\n",
       "      <td>1</td>\n",
       "      <td>04/03/2021</td>\n",
       "      <td>DealShare</td>\n",
       "      <td>E-commerce</td>\n",
       "      <td>Online shopping platform</td>\n",
       "      <td>Jaipur, Rajasthan</td>\n",
       "      <td>Innoven Capital</td>\n",
       "      <td>Debt Financing</td>\n",
       "    </tr>\n",
       "    <tr>\n",
       "      <th>2</th>\n",
       "      <td>1</td>\n",
       "      <td>11/02/2021</td>\n",
       "      <td>Doubtnut</td>\n",
       "      <td>Edu Tech</td>\n",
       "      <td>E-Learning Platform</td>\n",
       "      <td>Gurgaon</td>\n",
       "      <td>SIG Global, Sequoia Capital, WaterBridge Ventu...</td>\n",
       "      <td>Series B</td>\n",
       "    </tr>\n",
       "    <tr>\n",
       "      <th>3</th>\n",
       "      <td>1</td>\n",
       "      <td>15/01/2021</td>\n",
       "      <td>Digit Insurance</td>\n",
       "      <td>Financial Services</td>\n",
       "      <td>Insurance Services</td>\n",
       "      <td>Bengaluru</td>\n",
       "      <td>A91 Partners, Faering Capital, TVS Capital Funds</td>\n",
       "      <td>Venture</td>\n",
       "    </tr>\n",
       "    <tr>\n",
       "      <th>4</th>\n",
       "      <td>1</td>\n",
       "      <td>15/12/2020</td>\n",
       "      <td>Bira 91</td>\n",
       "      <td>Food and Beverage</td>\n",
       "      <td>Craft Beer</td>\n",
       "      <td>New Delhi</td>\n",
       "      <td>Nishant Mittal, Pankaj Chaddah and Shikha Suni...</td>\n",
       "      <td>Funding</td>\n",
       "    </tr>\n",
       "    <tr>\n",
       "      <th>...</th>\n",
       "      <td>...</td>\n",
       "      <td>...</td>\n",
       "      <td>...</td>\n",
       "      <td>...</td>\n",
       "      <td>...</td>\n",
       "      <td>...</td>\n",
       "      <td>...</td>\n",
       "      <td>...</td>\n",
       "    </tr>\n",
       "    <tr>\n",
       "      <th>329</th>\n",
       "      <td>8</td>\n",
       "      <td>08/08/2018</td>\n",
       "      <td>Hansel io</td>\n",
       "      <td>Consumer Internet</td>\n",
       "      <td>Real-time Mobile App Management</td>\n",
       "      <td>Bengaluru</td>\n",
       "      <td>Vertex Ventures</td>\n",
       "      <td>Seed/ Angel Funding</td>\n",
       "    </tr>\n",
       "    <tr>\n",
       "      <th>330</th>\n",
       "      <td>8</td>\n",
       "      <td>10/07/2018</td>\n",
       "      <td>Avenue Growth</td>\n",
       "      <td>Consumer Internet</td>\n",
       "      <td>Online Platform That Connects Brands With Free...</td>\n",
       "      <td>Gurugram</td>\n",
       "      <td>Avtar Monga, chief operating office at IDFC Ba...</td>\n",
       "      <td>Seed/ Angel Funding</td>\n",
       "    </tr>\n",
       "    <tr>\n",
       "      <th>331</th>\n",
       "      <td>8</td>\n",
       "      <td>06/09/2018</td>\n",
       "      <td>Dream11</td>\n",
       "      <td>Consumer Internet</td>\n",
       "      <td>Online Gaming Platform</td>\n",
       "      <td>Mumbai</td>\n",
       "      <td>Tencent, Kalaari Capital and Private equity fi...</td>\n",
       "      <td>Private Equity</td>\n",
       "    </tr>\n",
       "    <tr>\n",
       "      <th>332</th>\n",
       "      <td>8</td>\n",
       "      <td>08/08/2018</td>\n",
       "      <td>Hansel io</td>\n",
       "      <td>Consumer Internet</td>\n",
       "      <td>Real-time Mobile App Management</td>\n",
       "      <td>Bengaluru</td>\n",
       "      <td>Vertex Ventures</td>\n",
       "      <td>Seed/ Angel Funding</td>\n",
       "    </tr>\n",
       "    <tr>\n",
       "      <th>333</th>\n",
       "      <td>8</td>\n",
       "      <td>10/07/2018</td>\n",
       "      <td>Avenue Growth</td>\n",
       "      <td>Consumer Internet</td>\n",
       "      <td>Online Platform That Connects Brands With Free...</td>\n",
       "      <td>Gurugram</td>\n",
       "      <td>Avtar Monga, chief operating office at IDFC Ba...</td>\n",
       "      <td>Seed/ Angel Funding</td>\n",
       "    </tr>\n",
       "  </tbody>\n",
       "</table>\n",
       "<p>334 rows × 8 columns</p>\n",
       "</div>"
      ],
      "text/plain": [
       "    Sl.No.        Date      Starup name  Industry/Ventricle  \\\n",
       "0        1  01/04/2021           BYJU’S            Edu-tech   \n",
       "1        1  04/03/2021        DealShare          E-commerce   \n",
       "2        1  11/02/2021         Doubtnut            Edu Tech   \n",
       "3        1  15/01/2021  Digit Insurance  Financial Services   \n",
       "4        1  15/12/2020          Bira 91   Food and Beverage   \n",
       "..     ...         ...              ...                 ...   \n",
       "329      8  08/08/2018        Hansel io   Consumer Internet   \n",
       "330      8  10/07/2018    Avenue Growth   Consumer Internet   \n",
       "331      8  06/09/2018          Dream11   Consumer Internet   \n",
       "332      8  08/08/2018        Hansel io   Consumer Internet   \n",
       "333      8  10/07/2018    Avenue Growth   Consumer Internet   \n",
       "\n",
       "                                         Sub-ventricle      Location/city  \\\n",
       "0                                      Online tutoring          Bengaluru   \n",
       "1                             Online shopping platform  Jaipur, Rajasthan   \n",
       "2                                  E-Learning Platform            Gurgaon   \n",
       "3                                   Insurance Services          Bengaluru   \n",
       "4                                           Craft Beer          New Delhi   \n",
       "..                                                 ...                ...   \n",
       "329                    Real-time Mobile App Management          Bengaluru   \n",
       "330  Online Platform That Connects Brands With Free...           Gurugram   \n",
       "331                             Online Gaming Platform             Mumbai   \n",
       "332                    Real-time Mobile App Management          Bengaluru   \n",
       "333  Online Platform That Connects Brands With Free...           Gurugram   \n",
       "\n",
       "                                          Investorname      Investment type  \n",
       "0                                      Innoven Capital             Series F  \n",
       "1                                      Innoven Capital       Debt Financing  \n",
       "2    SIG Global, Sequoia Capital, WaterBridge Ventu...             Series B  \n",
       "3     A91 Partners, Faering Capital, TVS Capital Funds              Venture  \n",
       "4    Nishant Mittal, Pankaj Chaddah and Shikha Suni...              Funding  \n",
       "..                                                 ...                  ...  \n",
       "329                                    Vertex Ventures  Seed/ Angel Funding  \n",
       "330  Avtar Monga, chief operating office at IDFC Ba...  Seed/ Angel Funding  \n",
       "331  Tencent, Kalaari Capital and Private equity fi...       Private Equity  \n",
       "332                                    Vertex Ventures  Seed/ Angel Funding  \n",
       "333  Avtar Monga, chief operating office at IDFC Ba...  Seed/ Angel Funding  \n",
       "\n",
       "[334 rows x 8 columns]"
      ]
     },
     "execution_count": 25,
     "metadata": {},
     "output_type": "execute_result"
    }
   ],
   "source": [
    "df = pd.DataFrame({'Sl.No.':col1,'Date':col2,'Starup name':col3,'Industry/Ventricle':col4,'Sub-ventricle':col5,'Location/city':col6,'Investorname':col7,'Investment type':col8})\n",
    "df"
   ]
  },
  {
   "cell_type": "code",
   "execution_count": 27,
   "id": "20bea993",
   "metadata": {},
   "outputs": [],
   "source": [
    "driver.close()"
   ]
  },
  {
   "cell_type": "code",
   "execution_count": null,
   "id": "8d1f94f5",
   "metadata": {},
   "outputs": [],
   "source": []
  }
 ],
 "metadata": {
  "kernelspec": {
   "display_name": "Python 3",
   "language": "python",
   "name": "python3"
  },
  "language_info": {
   "codemirror_mode": {
    "name": "ipython",
    "version": 3
   },
   "file_extension": ".py",
   "mimetype": "text/x-python",
   "name": "python",
   "nbconvert_exporter": "python",
   "pygments_lexer": "ipython3",
   "version": "3.8.8"
  }
 },
 "nbformat": 4,
 "nbformat_minor": 5
}
