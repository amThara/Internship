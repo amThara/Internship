{
 "cells": [
  {
   "cell_type": "markdown",
   "id": "6b5ba32f",
   "metadata": {},
   "source": [
    "7. Write a program to scrap all the available details of best gaming laptops from digit.in."
   ]
  },
  {
   "cell_type": "code",
   "execution_count": 106,
   "id": "564496f1",
   "metadata": {},
   "outputs": [],
   "source": [
    "import pandas as pd\n",
    "import selenium\n",
    "from selenium import webdriver\n",
    "import time\n",
    "from selenium.common.exceptions import NoSuchElementException\n",
    "\n",
    "import warnings\n",
    "warnings.filterwarnings('ignore')"
   ]
  },
  {
   "cell_type": "code",
   "execution_count": 107,
   "id": "f75ff3b3",
   "metadata": {},
   "outputs": [],
   "source": [
    "driver = webdriver.Chrome(r\"C:/Users/Lenovo/Desktop/DS/chromedriver.exe\")\n",
    "driver.get ('https://www.digit.in/')"
   ]
  },
  {
   "cell_type": "code",
   "execution_count": 109,
   "id": "11688257",
   "metadata": {},
   "outputs": [],
   "source": [
    " = driver.find_element_by_xpath(\"/html/body/div[1]/div/div[4]/ul/li[3]/a\")\n",
    "butt.click()"
   ]
  },
  {
   "cell_type": "code",
   "execution_count": 110,
   "id": "183a90ac",
   "metadata": {},
   "outputs": [],
   "source": [
    "butt1 = driver.find_element_by_xpath(\"/html/body/div[6]/div/div[2]/div[2]/ul/li[10]/a\")\n",
    "butt1.click()"
   ]
  },
  {
   "cell_type": "code",
   "execution_count": 116,
   "id": "0f5e6d94",
   "metadata": {},
   "outputs": [
    {
     "data": {
      "text/plain": [
       "10"
      ]
     },
     "execution_count": 116,
     "metadata": {},
     "output_type": "execute_result"
    }
   ],
   "source": [
    "#name\n",
    "name = []\n",
    "for i in driver.find_elements_by_xpath (\"//div[@class='TopNumbeHeading active sticky-footer']/a\"):\n",
    "    name.append(i.text)\n",
    "len(name)"
   ]
  },
  {
   "cell_type": "code",
   "execution_count": 117,
   "id": "4348c572",
   "metadata": {},
   "outputs": [
    {
     "data": {
      "text/plain": [
       "['ACER NITRO 5 RYZEN 9 (2021)',\n",
       " 'MSI STEALTH 15M 11TH GEN CORE I7-11375H (2021',\n",
       " 'ASUS ROG STRIX SCAR 15 RYZEN 9-5900HX (2021)',\n",
       " 'ALIENWARE AREA 51M R2',\n",
       " 'ALIENWARE M15 R3',\n",
       " 'ASUS ROG STRIX SCAR 15',\n",
       " 'ASUS ROG ZEPHYRUS G14',\n",
       " 'LENOVO LEGION 5I',\n",
       " 'ASUS ROG ZEPHYRUS DUO 15',\n",
       " 'ACER ASPIRE 7 GAMING']"
      ]
     },
     "execution_count": 117,
     "metadata": {},
     "output_type": "execute_result"
    }
   ],
   "source": [
    "name"
   ]
  },
  {
   "cell_type": "code",
   "execution_count": 131,
   "id": "fb3b3545",
   "metadata": {},
   "outputs": [
    {
     "data": {
      "text/plain": [
       "['SPECIFICATION\\nOS : Windows 10\\nDisplay : 15.6\" (1920 x 1080)\\nProcessor : AMD Ryzen 9 Octa Core | 2.4 GHz\\nMemory : 1 TB HDD/16 GBGB DDR4\\nWeight : 2.4\\nDimension : 363.4 x 255 x 23.9\\nGraphics Processor : NVIDIA GeForce RTX 3070',\n",
       " 'SPECIFICATION\\nOS : Windows 10\\nDisplay : 15.6\" (1920 x 1080)\\nProcessor : Intel Core i7 11th Gen - 11375H | NA\\nMemory : 1 TB SSD/16 GBGB DDR4\\nWeight : 1.7\\nDimension : 358.3 x 248 x 16.15\\nGraphics Processor : NVIDIA GeForce RTX 3060',\n",
       " 'SPECIFICATION\\nOS : Windows 10\\nDisplay : 15.6\" (2560 x 1440)\\nProcessor : AMD Ryzen 9 Octa Core - 5900HX | 3.3 GHz\\nMemory : 2 TB SSD/32 GBGB DDR4\\nWeight : 2.30\\nDimension : 354 x 259 x 22.6\\nGraphics Processor : NVIDIA GeForce RTX 3080',\n",
       " 'SPECIFICATION\\nOS : Windows 10 Home\\nDisplay : 17.3\" (1920 x 1080)\\nProcessor : 10th Gen Intel® Core™ i7-10700 | 2.90 GHz\\nMemory : 1 TB SSD/16 GBGB DDR4\\nWeight : 4.1\\nDimension : 27.65 x 402.6 x 319.14\\nGraphics Processor : Intel® UHD Graphics 630\\nPrice : ₹342,989',\n",
       " 'SPECIFICATION\\nOS : Windows 10 Home\\nDisplay : 15.6\" (3840 x 2160)\\nProcessor : 10th Gen Intel® Core™ i9-10980HK | NA\\nMemory : 1 TB SSD/16 GBGB DDR4\\nWeight : NA\\nDimension : NA\\nGraphics Processor : NA',\n",
       " 'SPECIFICATION\\nOS : Windows 10 Home\\nDisplay : 15.6\" (1920 x 1080)\\nProcessor : AMD Ryzen™ 9 5900HX | 3.3 GHz\\nMemory : 1 TB SSD/16 GBGB DDR4\\nWeight : 2.30\\nDimension : 35.4 x 25.9 x 2.26\\nGraphics Processor : NVIDIA® GeForce RTX™ 3070',\n",
       " 'SPECIFICATION\\nOS : Windows 10 Home\\nDisplay : 14\" (1920 x 1080)\\nProcessor : AMD 3rd Gen Ryzen 9 | 3.3 GHz\\nMemory : 1 TB SSD/16 GBGB DDR4\\nWeight : 1.65\\nDimension : 32.5 x 22.1 x 1.8\\nGraphics Processor : NVIDIA GeForce RTX 2060',\n",
       " 'SPECIFICATION\\nOS : Windows 10 Pro\\nDisplay : 15.6\" (1920 x 1080)\\nProcessor : 10th Gen Intel® Core™ i5-10300H | 2.50 GHz\\nMemory : 1 TB SSD/16 GBGB DDR4\\nWeight : 2.3\\nDimension : 363.06 x 259.61 x 23.57\\nGraphics Processor : NVIDIA® GeForce® GTX 1650 4GB',\n",
       " 'SPECIFICATION\\nOS : Windows 10\\nDisplay : 15.6\" (3840 x 1100)\\nProcessor : Intel Core i7 10th Gen 10875H | NA\\nMemory : 512 GB SSD/4 GBGB DDR4\\nWeight : 2.4\\nDimension : 268.30 x 360.00 x 20.90\\nGraphics Processor : NVIDIA GeForce RTX 2070 Max-Q',\n",
       " 'SPECIFICATION\\nOS : Windows 10 Home\\nDisplay : 15.6\" (1920 x 1080)\\nProcessor : AMD Ryzen™ 5-5500U hexa-core | NA\\nMemory : 512 GB SSD/8 GBGB DDR4\\nWeight : 2.15\\nDimension : 2.29 x 36.3 x 25.4\\nGraphics Processor : NVIDIA® GeForce® GTX 1650']"
      ]
     },
     "execution_count": 131,
     "metadata": {},
     "output_type": "execute_result"
    }
   ],
   "source": [
    "common = []\n",
    "for i in driver.find_elements_by_xpath (\"//div[@class='Spcs-details']\"):\n",
    "    common.append(i.text)\n",
    "common"
   ]
  },
  {
   "cell_type": "code",
   "execution_count": 132,
   "id": "2de10094",
   "metadata": {},
   "outputs": [
    {
     "data": {
      "text/plain": [
       "['OS : Windows 10',\n",
       " 'OS : Windows 10',\n",
       " 'OS : Windows 10',\n",
       " 'OS : Windows 10 Home',\n",
       " 'OS : Windows 10 Home',\n",
       " 'OS : Windows 10 Home',\n",
       " 'OS : Windows 10 Home',\n",
       " 'OS : Windows 10 Pro',\n",
       " 'OS : Windows 10',\n",
       " 'OS : Windows 10 Home']"
      ]
     },
     "execution_count": 132,
     "metadata": {},
     "output_type": "execute_result"
    }
   ],
   "source": [
    "os = [i.split('\\n')[1] for i in common]\n",
    "os"
   ]
  },
  {
   "cell_type": "code",
   "execution_count": 133,
   "id": "def920a9",
   "metadata": {},
   "outputs": [
    {
     "data": {
      "text/plain": [
       "['Display : 15.6\" (1920 x 1080)',\n",
       " 'Display : 15.6\" (1920 x 1080)',\n",
       " 'Display : 15.6\" (2560 x 1440)',\n",
       " 'Display : 17.3\" (1920 x 1080)',\n",
       " 'Display : 15.6\" (3840 x 2160)',\n",
       " 'Display : 15.6\" (1920 x 1080)',\n",
       " 'Display : 14\" (1920 x 1080)',\n",
       " 'Display : 15.6\" (1920 x 1080)',\n",
       " 'Display : 15.6\" (3840 x 1100)',\n",
       " 'Display : 15.6\" (1920 x 1080)']"
      ]
     },
     "execution_count": 133,
     "metadata": {},
     "output_type": "execute_result"
    }
   ],
   "source": [
    "display = [i.split('\\n')[2] for i in common]\n",
    "display"
   ]
  },
  {
   "cell_type": "code",
   "execution_count": 136,
   "id": "cc8fe28f",
   "metadata": {},
   "outputs": [
    {
     "data": {
      "text/plain": [
       "['Processor : AMD Ryzen 9 Octa Core | 2.4 GHz',\n",
       " 'Processor : Intel Core i7 11th Gen - 11375H | NA',\n",
       " 'Processor : AMD Ryzen 9 Octa Core - 5900HX | 3.3 GHz',\n",
       " 'Processor : 10th Gen Intel® Core™ i7-10700 | 2.90 GHz',\n",
       " 'Processor : 10th Gen Intel® Core™ i9-10980HK | NA',\n",
       " 'Processor : AMD Ryzen™ 9 5900HX | 3.3 GHz',\n",
       " 'Processor : AMD 3rd Gen Ryzen 9 | 3.3 GHz',\n",
       " 'Processor : 10th Gen Intel® Core™ i5-10300H | 2.50 GHz',\n",
       " 'Processor : Intel Core i7 10th Gen 10875H | NA',\n",
       " 'Processor : AMD Ryzen™ 5-5500U hexa-core | NA']"
      ]
     },
     "execution_count": 136,
     "metadata": {},
     "output_type": "execute_result"
    }
   ],
   "source": [
    "processor = [i.split('\\n')[3] for i in common]\n",
    "processor"
   ]
  },
  {
   "cell_type": "code",
   "execution_count": 137,
   "id": "c4e4d167",
   "metadata": {},
   "outputs": [
    {
     "data": {
      "text/plain": [
       "['Memory : 1 TB HDD/16 GBGB DDR4',\n",
       " 'Memory : 1 TB SSD/16 GBGB DDR4',\n",
       " 'Memory : 2 TB SSD/32 GBGB DDR4',\n",
       " 'Memory : 1 TB SSD/16 GBGB DDR4',\n",
       " 'Memory : 1 TB SSD/16 GBGB DDR4',\n",
       " 'Memory : 1 TB SSD/16 GBGB DDR4',\n",
       " 'Memory : 1 TB SSD/16 GBGB DDR4',\n",
       " 'Memory : 1 TB SSD/16 GBGB DDR4',\n",
       " 'Memory : 512 GB SSD/4 GBGB DDR4',\n",
       " 'Memory : 512 GB SSD/8 GBGB DDR4']"
      ]
     },
     "execution_count": 137,
     "metadata": {},
     "output_type": "execute_result"
    }
   ],
   "source": [
    "memory = [i.split('\\n')[4] for i in common]\n",
    "memory"
   ]
  },
  {
   "cell_type": "code",
   "execution_count": 138,
   "id": "7fdc07c8",
   "metadata": {},
   "outputs": [
    {
     "data": {
      "text/plain": [
       "['Weight : 2.4',\n",
       " 'Weight : 1.7',\n",
       " 'Weight : 2.30',\n",
       " 'Weight : 4.1',\n",
       " 'Weight : NA',\n",
       " 'Weight : 2.30',\n",
       " 'Weight : 1.65',\n",
       " 'Weight : 2.3',\n",
       " 'Weight : 2.4',\n",
       " 'Weight : 2.15']"
      ]
     },
     "execution_count": 138,
     "metadata": {},
     "output_type": "execute_result"
    }
   ],
   "source": [
    "weight = [i.split('\\n')[5] for i in common]\n",
    "weight"
   ]
  },
  {
   "cell_type": "code",
   "execution_count": 139,
   "id": "9f2afabf",
   "metadata": {},
   "outputs": [
    {
     "data": {
      "text/plain": [
       "['Dimension : 363.4 x 255 x 23.9',\n",
       " 'Dimension : 358.3 x 248 x 16.15',\n",
       " 'Dimension : 354 x 259 x 22.6',\n",
       " 'Dimension : 27.65 x 402.6 x 319.14',\n",
       " 'Dimension : NA',\n",
       " 'Dimension : 35.4 x 25.9 x 2.26',\n",
       " 'Dimension : 32.5 x 22.1 x 1.8',\n",
       " 'Dimension : 363.06 x 259.61 x 23.57',\n",
       " 'Dimension : 268.30 x 360.00 x 20.90',\n",
       " 'Dimension : 2.29 x 36.3 x 25.4']"
      ]
     },
     "execution_count": 139,
     "metadata": {},
     "output_type": "execute_result"
    }
   ],
   "source": [
    "dimension = [i.split('\\n')[6] for i in common]\n",
    "dimension"
   ]
  },
  {
   "cell_type": "code",
   "execution_count": 140,
   "id": "252ed770",
   "metadata": {},
   "outputs": [
    {
     "data": {
      "text/plain": [
       "['Graphics Processor : NVIDIA GeForce RTX 3070',\n",
       " 'Graphics Processor : NVIDIA GeForce RTX 3060',\n",
       " 'Graphics Processor : NVIDIA GeForce RTX 3080',\n",
       " 'Graphics Processor : Intel® UHD Graphics 630',\n",
       " 'Graphics Processor : NA',\n",
       " 'Graphics Processor : NVIDIA® GeForce RTX™ 3070',\n",
       " 'Graphics Processor : NVIDIA GeForce RTX 2060',\n",
       " 'Graphics Processor : NVIDIA® GeForce® GTX 1650 4GB',\n",
       " 'Graphics Processor : NVIDIA GeForce RTX 2070 Max-Q',\n",
       " 'Graphics Processor : NVIDIA® GeForce® GTX 1650']"
      ]
     },
     "execution_count": 140,
     "metadata": {},
     "output_type": "execute_result"
    }
   ],
   "source": [
    "graphics = [i.split('\\n')[7] for i in common]\n",
    "graphics"
   ]
  },
  {
   "cell_type": "code",
   "execution_count": 142,
   "id": "7a6f25b8",
   "metadata": {},
   "outputs": [
    {
     "data": {
      "text/plain": [
       "['AVAILABLE ₹ 129,990\\nBUY NOW',\n",
       " 'AVAILABLE ₹ 134,990\\nBUY NOW',\n",
       " 'AVAILABLE ₹ 268,990\\nBUY NOW',\n",
       " 'AVAILABLE ₹ 319,990\\nBUY NOW',\n",
       " 'AVAILABLE ₹ 215,990\\nBUY NOW',\n",
       " 'AVAILABLE ₹ 164,990\\nBUY NOW',\n",
       " 'AVAILABLE ₹ 76,988\\nBUY NOW',\n",
       " 'AVAILABLE ₹ 185,000\\nBUY NOW',\n",
       " 'AVAILABLE ₹ 58,480\\nBUY NOW']"
      ]
     },
     "execution_count": 142,
     "metadata": {},
     "output_type": "execute_result"
    }
   ],
   "source": [
    "price = []\n",
    "for i in driver.find_elements_by_xpath (\"//table[@class='table']\"):\n",
    "    price.append(i.text)\n",
    "price"
   ]
  },
  {
   "cell_type": "code",
   "execution_count": 150,
   "id": "83e78455",
   "metadata": {},
   "outputs": [
    {
     "data": {
      "text/plain": [
       "['129,990',\n",
       " '134,990',\n",
       " '268,990',\n",
       " '319,990',\n",
       " '215,990',\n",
       " '164,990',\n",
       " '76,988',\n",
       " '185,000',\n",
       " '58,480']"
      ]
     },
     "execution_count": 150,
     "metadata": {},
     "output_type": "execute_result"
    }
   ],
   "source": [
    "price = [i.split(' ')[2] for i in price]\n",
    "price = [i.split('\\n')[0] for i in price]\n",
    "price"
   ]
  },
  {
   "cell_type": "code",
   "execution_count": 152,
   "id": "b249d221",
   "metadata": {},
   "outputs": [
    {
     "data": {
      "text/html": [
       "<div>\n",
       "<style scoped>\n",
       "    .dataframe tbody tr th:only-of-type {\n",
       "        vertical-align: middle;\n",
       "    }\n",
       "\n",
       "    .dataframe tbody tr th {\n",
       "        vertical-align: top;\n",
       "    }\n",
       "\n",
       "    .dataframe thead th {\n",
       "        text-align: right;\n",
       "    }\n",
       "</style>\n",
       "<table border=\"1\" class=\"dataframe\">\n",
       "  <thead>\n",
       "    <tr style=\"text-align: right;\">\n",
       "      <th></th>\n",
       "      <th>Name</th>\n",
       "      <th>OS</th>\n",
       "      <th>Display</th>\n",
       "      <th>Processor</th>\n",
       "      <th>Memory</th>\n",
       "      <th>Weight</th>\n",
       "      <th>Dimension</th>\n",
       "      <th>Graphics Dimension</th>\n",
       "      <th>Price</th>\n",
       "    </tr>\n",
       "  </thead>\n",
       "  <tbody>\n",
       "    <tr>\n",
       "      <th>0</th>\n",
       "      <td>ACER NITRO 5 RYZEN 9 (2021)</td>\n",
       "      <td>OS : Windows 10</td>\n",
       "      <td>Display : 15.6\" (1920 x 1080)</td>\n",
       "      <td>Processor : AMD Ryzen 9 Octa Core | 2.4 GHz</td>\n",
       "      <td>Memory : 1 TB HDD/16 GBGB DDR4</td>\n",
       "      <td>Weight : 2.4</td>\n",
       "      <td>Dimension : 363.4 x 255 x 23.9</td>\n",
       "      <td>Graphics Processor : NVIDIA GeForce RTX 3070</td>\n",
       "      <td>129,990</td>\n",
       "    </tr>\n",
       "    <tr>\n",
       "      <th>1</th>\n",
       "      <td>MSI STEALTH 15M 11TH GEN CORE I7-11375H (2021</td>\n",
       "      <td>OS : Windows 10</td>\n",
       "      <td>Display : 15.6\" (1920 x 1080)</td>\n",
       "      <td>Processor : Intel Core i7 11th Gen - 11375H | NA</td>\n",
       "      <td>Memory : 1 TB SSD/16 GBGB DDR4</td>\n",
       "      <td>Weight : 1.7</td>\n",
       "      <td>Dimension : 358.3 x 248 x 16.15</td>\n",
       "      <td>Graphics Processor : NVIDIA GeForce RTX 3060</td>\n",
       "      <td>134,990</td>\n",
       "    </tr>\n",
       "    <tr>\n",
       "      <th>2</th>\n",
       "      <td>ASUS ROG STRIX SCAR 15 RYZEN 9-5900HX (2021)</td>\n",
       "      <td>OS : Windows 10</td>\n",
       "      <td>Display : 15.6\" (2560 x 1440)</td>\n",
       "      <td>Processor : AMD Ryzen 9 Octa Core - 5900HX | 3...</td>\n",
       "      <td>Memory : 2 TB SSD/32 GBGB DDR4</td>\n",
       "      <td>Weight : 2.30</td>\n",
       "      <td>Dimension : 354 x 259 x 22.6</td>\n",
       "      <td>Graphics Processor : NVIDIA GeForce RTX 3080</td>\n",
       "      <td>268,990</td>\n",
       "    </tr>\n",
       "    <tr>\n",
       "      <th>3</th>\n",
       "      <td>ALIENWARE AREA 51M R2</td>\n",
       "      <td>OS : Windows 10 Home</td>\n",
       "      <td>Display : 17.3\" (1920 x 1080)</td>\n",
       "      <td>Processor : 10th Gen Intel® Core™ i7-10700 | 2...</td>\n",
       "      <td>Memory : 1 TB SSD/16 GBGB DDR4</td>\n",
       "      <td>Weight : 4.1</td>\n",
       "      <td>Dimension : 27.65 x 402.6 x 319.14</td>\n",
       "      <td>Graphics Processor : Intel® UHD Graphics 630</td>\n",
       "      <td>319,990</td>\n",
       "    </tr>\n",
       "    <tr>\n",
       "      <th>4</th>\n",
       "      <td>ALIENWARE M15 R3</td>\n",
       "      <td>OS : Windows 10 Home</td>\n",
       "      <td>Display : 15.6\" (3840 x 2160)</td>\n",
       "      <td>Processor : 10th Gen Intel® Core™ i9-10980HK | NA</td>\n",
       "      <td>Memory : 1 TB SSD/16 GBGB DDR4</td>\n",
       "      <td>Weight : NA</td>\n",
       "      <td>Dimension : NA</td>\n",
       "      <td>Graphics Processor : NA</td>\n",
       "      <td>215,990</td>\n",
       "    </tr>\n",
       "    <tr>\n",
       "      <th>5</th>\n",
       "      <td>ASUS ROG STRIX SCAR 15</td>\n",
       "      <td>OS : Windows 10 Home</td>\n",
       "      <td>Display : 15.6\" (1920 x 1080)</td>\n",
       "      <td>Processor : AMD Ryzen™ 9 5900HX | 3.3 GHz</td>\n",
       "      <td>Memory : 1 TB SSD/16 GBGB DDR4</td>\n",
       "      <td>Weight : 2.30</td>\n",
       "      <td>Dimension : 35.4 x 25.9 x 2.26</td>\n",
       "      <td>Graphics Processor : NVIDIA® GeForce RTX™ 3070</td>\n",
       "      <td>164,990</td>\n",
       "    </tr>\n",
       "    <tr>\n",
       "      <th>6</th>\n",
       "      <td>ASUS ROG ZEPHYRUS G14</td>\n",
       "      <td>OS : Windows 10 Home</td>\n",
       "      <td>Display : 14\" (1920 x 1080)</td>\n",
       "      <td>Processor : AMD 3rd Gen Ryzen 9 | 3.3 GHz</td>\n",
       "      <td>Memory : 1 TB SSD/16 GBGB DDR4</td>\n",
       "      <td>Weight : 1.65</td>\n",
       "      <td>Dimension : 32.5 x 22.1 x 1.8</td>\n",
       "      <td>Graphics Processor : NVIDIA GeForce RTX 2060</td>\n",
       "      <td>76,988</td>\n",
       "    </tr>\n",
       "    <tr>\n",
       "      <th>7</th>\n",
       "      <td>LENOVO LEGION 5I</td>\n",
       "      <td>OS : Windows 10 Pro</td>\n",
       "      <td>Display : 15.6\" (1920 x 1080)</td>\n",
       "      <td>Processor : 10th Gen Intel® Core™ i5-10300H | ...</td>\n",
       "      <td>Memory : 1 TB SSD/16 GBGB DDR4</td>\n",
       "      <td>Weight : 2.3</td>\n",
       "      <td>Dimension : 363.06 x 259.61 x 23.57</td>\n",
       "      <td>Graphics Processor : NVIDIA® GeForce® GTX 1650...</td>\n",
       "      <td>185,000</td>\n",
       "    </tr>\n",
       "    <tr>\n",
       "      <th>8</th>\n",
       "      <td>ASUS ROG ZEPHYRUS DUO 15</td>\n",
       "      <td>OS : Windows 10</td>\n",
       "      <td>Display : 15.6\" (3840 x 1100)</td>\n",
       "      <td>Processor : Intel Core i7 10th Gen 10875H | NA</td>\n",
       "      <td>Memory : 512 GB SSD/4 GBGB DDR4</td>\n",
       "      <td>Weight : 2.4</td>\n",
       "      <td>Dimension : 268.30 x 360.00 x 20.90</td>\n",
       "      <td>Graphics Processor : NVIDIA GeForce RTX 2070 M...</td>\n",
       "      <td>58,480</td>\n",
       "    </tr>\n",
       "    <tr>\n",
       "      <th>9</th>\n",
       "      <td>ACER ASPIRE 7 GAMING</td>\n",
       "      <td>OS : Windows 10 Home</td>\n",
       "      <td>Display : 15.6\" (1920 x 1080)</td>\n",
       "      <td>Processor : AMD Ryzen™ 5-5500U hexa-core | NA</td>\n",
       "      <td>Memory : 512 GB SSD/8 GBGB DDR4</td>\n",
       "      <td>Weight : 2.15</td>\n",
       "      <td>Dimension : 2.29 x 36.3 x 25.4</td>\n",
       "      <td>Graphics Processor : NVIDIA® GeForce® GTX 1650</td>\n",
       "      <td>[58, 400]</td>\n",
       "    </tr>\n",
       "  </tbody>\n",
       "</table>\n",
       "</div>"
      ],
      "text/plain": [
       "                                            Name                    OS  \\\n",
       "0                    ACER NITRO 5 RYZEN 9 (2021)       OS : Windows 10   \n",
       "1  MSI STEALTH 15M 11TH GEN CORE I7-11375H (2021       OS : Windows 10   \n",
       "2   ASUS ROG STRIX SCAR 15 RYZEN 9-5900HX (2021)       OS : Windows 10   \n",
       "3                          ALIENWARE AREA 51M R2  OS : Windows 10 Home   \n",
       "4                               ALIENWARE M15 R3  OS : Windows 10 Home   \n",
       "5                         ASUS ROG STRIX SCAR 15  OS : Windows 10 Home   \n",
       "6                          ASUS ROG ZEPHYRUS G14  OS : Windows 10 Home   \n",
       "7                               LENOVO LEGION 5I   OS : Windows 10 Pro   \n",
       "8                       ASUS ROG ZEPHYRUS DUO 15       OS : Windows 10   \n",
       "9                           ACER ASPIRE 7 GAMING  OS : Windows 10 Home   \n",
       "\n",
       "                         Display  \\\n",
       "0  Display : 15.6\" (1920 x 1080)   \n",
       "1  Display : 15.6\" (1920 x 1080)   \n",
       "2  Display : 15.6\" (2560 x 1440)   \n",
       "3  Display : 17.3\" (1920 x 1080)   \n",
       "4  Display : 15.6\" (3840 x 2160)   \n",
       "5  Display : 15.6\" (1920 x 1080)   \n",
       "6    Display : 14\" (1920 x 1080)   \n",
       "7  Display : 15.6\" (1920 x 1080)   \n",
       "8  Display : 15.6\" (3840 x 1100)   \n",
       "9  Display : 15.6\" (1920 x 1080)   \n",
       "\n",
       "                                           Processor  \\\n",
       "0        Processor : AMD Ryzen 9 Octa Core | 2.4 GHz   \n",
       "1   Processor : Intel Core i7 11th Gen - 11375H | NA   \n",
       "2  Processor : AMD Ryzen 9 Octa Core - 5900HX | 3...   \n",
       "3  Processor : 10th Gen Intel® Core™ i7-10700 | 2...   \n",
       "4  Processor : 10th Gen Intel® Core™ i9-10980HK | NA   \n",
       "5          Processor : AMD Ryzen™ 9 5900HX | 3.3 GHz   \n",
       "6          Processor : AMD 3rd Gen Ryzen 9 | 3.3 GHz   \n",
       "7  Processor : 10th Gen Intel® Core™ i5-10300H | ...   \n",
       "8     Processor : Intel Core i7 10th Gen 10875H | NA   \n",
       "9      Processor : AMD Ryzen™ 5-5500U hexa-core | NA   \n",
       "\n",
       "                            Memory         Weight  \\\n",
       "0   Memory : 1 TB HDD/16 GBGB DDR4   Weight : 2.4   \n",
       "1   Memory : 1 TB SSD/16 GBGB DDR4   Weight : 1.7   \n",
       "2   Memory : 2 TB SSD/32 GBGB DDR4  Weight : 2.30   \n",
       "3   Memory : 1 TB SSD/16 GBGB DDR4   Weight : 4.1   \n",
       "4   Memory : 1 TB SSD/16 GBGB DDR4    Weight : NA   \n",
       "5   Memory : 1 TB SSD/16 GBGB DDR4  Weight : 2.30   \n",
       "6   Memory : 1 TB SSD/16 GBGB DDR4  Weight : 1.65   \n",
       "7   Memory : 1 TB SSD/16 GBGB DDR4   Weight : 2.3   \n",
       "8  Memory : 512 GB SSD/4 GBGB DDR4   Weight : 2.4   \n",
       "9  Memory : 512 GB SSD/8 GBGB DDR4  Weight : 2.15   \n",
       "\n",
       "                             Dimension  \\\n",
       "0       Dimension : 363.4 x 255 x 23.9   \n",
       "1      Dimension : 358.3 x 248 x 16.15   \n",
       "2         Dimension : 354 x 259 x 22.6   \n",
       "3   Dimension : 27.65 x 402.6 x 319.14   \n",
       "4                       Dimension : NA   \n",
       "5       Dimension : 35.4 x 25.9 x 2.26   \n",
       "6        Dimension : 32.5 x 22.1 x 1.8   \n",
       "7  Dimension : 363.06 x 259.61 x 23.57   \n",
       "8  Dimension : 268.30 x 360.00 x 20.90   \n",
       "9       Dimension : 2.29 x 36.3 x 25.4   \n",
       "\n",
       "                                  Graphics Dimension      Price  \n",
       "0       Graphics Processor : NVIDIA GeForce RTX 3070    129,990  \n",
       "1       Graphics Processor : NVIDIA GeForce RTX 3060    134,990  \n",
       "2       Graphics Processor : NVIDIA GeForce RTX 3080    268,990  \n",
       "3       Graphics Processor : Intel® UHD Graphics 630    319,990  \n",
       "4                            Graphics Processor : NA    215,990  \n",
       "5     Graphics Processor : NVIDIA® GeForce RTX™ 3070    164,990  \n",
       "6       Graphics Processor : NVIDIA GeForce RTX 2060     76,988  \n",
       "7  Graphics Processor : NVIDIA® GeForce® GTX 1650...    185,000  \n",
       "8  Graphics Processor : NVIDIA GeForce RTX 2070 M...     58,480  \n",
       "9     Graphics Processor : NVIDIA® GeForce® GTX 1650  [58, 400]  "
      ]
     },
     "execution_count": 152,
     "metadata": {},
     "output_type": "execute_result"
    }
   ],
   "source": [
    "df = pd.DataFrame({'Name':name,'OS':os,'Display':display,'Processor':processor,'Memory':memory,'Weight':weight,'Dimension':dimension,'Graphics Dimension':graphics,'Price':price})\n",
    "df"
   ]
  },
  {
   "cell_type": "code",
   "execution_count": 153,
   "id": "d7baf6ec",
   "metadata": {},
   "outputs": [],
   "source": [
    "driver.close()"
   ]
  },
  {
   "cell_type": "code",
   "execution_count": null,
   "id": "e0051010",
   "metadata": {},
   "outputs": [],
   "source": []
  },
  {
   "cell_type": "markdown",
   "id": "64cd0842",
   "metadata": {},
   "source": [
    "8. Write a python program to scrape the details for all billionaires from www.forbes.com. Details to be scrapped: “Rank”, “Name”, “Net worth”, “Age”, “Citizenship”, “Source”, “Industry”."
   ]
  },
  {
   "cell_type": "code",
   "execution_count": 67,
   "id": "32ed546d",
   "metadata": {},
   "outputs": [],
   "source": [
    "driver = webdriver.Chrome(r\"C:/Users/Lenovo/Desktop/DS/chromedriver.exe\")\n",
    "driver.get ('https://www.forbes.com/')"
   ]
  },
  {
   "cell_type": "code",
   "execution_count": 68,
   "id": "946f410b",
   "metadata": {},
   "outputs": [],
   "source": [
    "butt = driver.find_element_by_xpath(\"/html/body/div[1]/main/section[8]/div[1]/a\")\n",
    "butt.click()"
   ]
  },
  {
   "cell_type": "code",
   "execution_count": 69,
   "id": "a58bf537",
   "metadata": {},
   "outputs": [],
   "source": [
    "butt1 = driver.find_element_by_xpath(\"/html/body/div[1]/main/div/section/section[1]/div/div/div[1]/div/div[1]/div[1]/div[2]/a/h2\")\n",
    "butt1.click()"
   ]
  },
  {
   "cell_type": "code",
   "execution_count": 70,
   "id": "584c64be",
   "metadata": {},
   "outputs": [],
   "source": [
    "name = []\n",
    "rank = []\n",
    "networth = []\n",
    "age = []\n",
    "citizenship = []\n",
    "source = []\n",
    "industry = []"
   ]
  },
  {
   "cell_type": "code",
   "execution_count": 71,
   "id": "e9922e4b",
   "metadata": {},
   "outputs": [
    {
     "name": "stdout",
     "output_type": "stream",
     "text": [
      "200 200 200 200 200 200 200\n"
     ]
    }
   ],
   "source": [
    "#name\n",
    "\n",
    "nam = driver.find_elements_by_xpath(\"//div[@class='personName']\")\n",
    "for i in nam:\n",
    "    na = i.text\n",
    "    name.append(na)\n",
    "#rank\n",
    "\n",
    "ran = driver.find_elements_by_xpath(\"//div[@class='rank']\")\n",
    "for i in ran:\n",
    "    ra = i.text\n",
    "    rank.append(ra)\n",
    "#networth\n",
    "\n",
    "networt = driver.find_elements_by_xpath(\"//div[@class='netWorth']\")\n",
    "for i in networt:\n",
    "    networ = i.text\n",
    "    networth.append(networ)\n",
    "#age\n",
    "\n",
    "ag = driver.find_elements_by_xpath(\"//div[@class='age']\")\n",
    "for i in ag:\n",
    "    rat = i.text\n",
    "    age.append(rat)\n",
    "#citizenship\n",
    "\n",
    "citizen = driver.find_elements_by_xpath(\"//div[@class='countryOfCitizenship']\")\n",
    "for i in citizen:\n",
    "    citi = i.text\n",
    "    citizenship.append(citi)\n",
    "#source\n",
    "\n",
    "sourc = driver.find_elements_by_xpath(\"//div[@class='source-column']\")\n",
    "for i in sourc:\n",
    "    sou = i.text\n",
    "    source.append(sou)\n",
    "#industry\n",
    "\n",
    "indust = driver.find_elements_by_xpath(\"//div[@class='category']\")\n",
    "for i in indust:\n",
    "    indu = i.text\n",
    "    industry.append(indu)\n",
    "print(len(name),len(rank),len(networth),len(age),len(citizenship),len(source),len(industry))"
   ]
  },
  {
   "cell_type": "code",
   "execution_count": 72,
   "id": "17ba470a",
   "metadata": {},
   "outputs": [],
   "source": [
    "butt = driver.find_element_by_xpath(\"//div[@class='next-page']\")\n",
    "butt.click()"
   ]
  },
  {
   "cell_type": "code",
   "execution_count": 73,
   "id": "9ba624d4",
   "metadata": {},
   "outputs": [
    {
     "name": "stdout",
     "output_type": "stream",
     "text": [
      "400 400 400 400 400 400 400\n"
     ]
    }
   ],
   "source": [
    "#name\n",
    "\n",
    "nam = driver.find_elements_by_xpath(\"//div[@class='personName']\")\n",
    "for i in nam:\n",
    "    na = i.text\n",
    "    name.append(na)\n",
    "#rank\n",
    "\n",
    "ran = driver.find_elements_by_xpath(\"//div[@class='rank']\")\n",
    "for i in ran:\n",
    "    ra = i.text\n",
    "    rank.append(ra)\n",
    "#networth\n",
    "\n",
    "networt = driver.find_elements_by_xpath(\"//div[@class='netWorth']\")\n",
    "for i in networt:\n",
    "    networ = i.text\n",
    "    networth.append(networ)\n",
    "#age\n",
    "\n",
    "ag = driver.find_elements_by_xpath(\"//div[@class='age']\")\n",
    "for i in ag:\n",
    "    rat = i.text\n",
    "    age.append(rat)\n",
    "#citizenship\n",
    "\n",
    "citizen = driver.find_elements_by_xpath(\"//div[@class='countryOfCitizenship']\")\n",
    "for i in citizen:\n",
    "    citi = i.text\n",
    "    citizenship.append(citi)\n",
    "#source\n",
    "\n",
    "sourc = driver.find_elements_by_xpath(\"//div[@class='source-column']\")\n",
    "for i in sourc:\n",
    "    sou = i.text\n",
    "    source.append(sou)\n",
    "#industry\n",
    "\n",
    "indust = driver.find_elements_by_xpath(\"//div[@class='category']\")\n",
    "for i in indust:\n",
    "    indu = i.text\n",
    "    industry.append(indu)\n",
    "print(len(name),len(rank),len(networth),len(age),len(citizenship),len(source),len(industry))"
   ]
  },
  {
   "cell_type": "code",
   "execution_count": 74,
   "id": "d49c5359",
   "metadata": {},
   "outputs": [
    {
     "name": "stdout",
     "output_type": "stream",
     "text": [
      "600 600 600 600 600 600 600\n"
     ]
    }
   ],
   "source": [
    "butt = driver.find_element_by_xpath(\"//div[@class='next-page']\")\n",
    "butt.click()\n",
    "\n",
    "#name\n",
    "\n",
    "nam = driver.find_elements_by_xpath(\"//div[@class='personName']\")\n",
    "for i in nam:\n",
    "    na = i.text\n",
    "    name.append(na)\n",
    "#rank\n",
    "\n",
    "ran = driver.find_elements_by_xpath(\"//div[@class='rank']\")\n",
    "for i in ran:\n",
    "    ra = i.text\n",
    "    rank.append(ra)\n",
    "#networth\n",
    "\n",
    "networt = driver.find_elements_by_xpath(\"//div[@class='netWorth']\")\n",
    "for i in networt:\n",
    "    networ = i.text\n",
    "    networth.append(networ)\n",
    "#age\n",
    "\n",
    "ag = driver.find_elements_by_xpath(\"//div[@class='age']\")\n",
    "for i in ag:\n",
    "    rat = i.text\n",
    "    age.append(rat)\n",
    "#citizenship\n",
    "\n",
    "citizen = driver.find_elements_by_xpath(\"//div[@class='countryOfCitizenship']\")\n",
    "for i in citizen:\n",
    "    citi = i.text\n",
    "    citizenship.append(citi)\n",
    "#source\n",
    "\n",
    "sourc = driver.find_elements_by_xpath(\"//div[@class='source-column']\")\n",
    "for i in sourc:\n",
    "    sou = i.text\n",
    "    source.append(sou)\n",
    "#industry\n",
    "\n",
    "indust = driver.find_elements_by_xpath(\"//div[@class='category']\")\n",
    "for i in indust:\n",
    "    indu = i.text\n",
    "    industry.append(indu)\n",
    "print(len(name),len(rank),len(networth),len(age),len(citizenship),len(source),len(industry))"
   ]
  },
  {
   "cell_type": "code",
   "execution_count": 75,
   "id": "02fad0d8",
   "metadata": {},
   "outputs": [
    {
     "name": "stdout",
     "output_type": "stream",
     "text": [
      "800 800 800 800 800 800 800\n"
     ]
    }
   ],
   "source": [
    "butt = driver.find_element_by_xpath(\"//div[@class='next-page']\")\n",
    "butt.click()\n",
    "\n",
    "#name\n",
    "\n",
    "nam = driver.find_elements_by_xpath(\"//div[@class='personName']\")\n",
    "for i in nam:\n",
    "    na = i.text\n",
    "    name.append(na)\n",
    "#rank\n",
    "\n",
    "ran = driver.find_elements_by_xpath(\"//div[@class='rank']\")\n",
    "for i in ran:\n",
    "    ra = i.text\n",
    "    rank.append(ra)\n",
    "#networth\n",
    "\n",
    "networt = driver.find_elements_by_xpath(\"//div[@class='netWorth']\")\n",
    "for i in networt:\n",
    "    networ = i.text\n",
    "    networth.append(networ)\n",
    "#age\n",
    "\n",
    "ag = driver.find_elements_by_xpath(\"//div[@class='age']\")\n",
    "for i in ag:\n",
    "    rat = i.text\n",
    "    age.append(rat)\n",
    "#citizenship\n",
    "\n",
    "citizen = driver.find_elements_by_xpath(\"//div[@class='countryOfCitizenship']\")\n",
    "for i in citizen:\n",
    "    citi = i.text\n",
    "    citizenship.append(citi)\n",
    "#source\n",
    "\n",
    "sourc = driver.find_elements_by_xpath(\"//div[@class='source-column']\")\n",
    "for i in sourc:\n",
    "    sou = i.text\n",
    "    source.append(sou)\n",
    "#industry\n",
    "\n",
    "indust = driver.find_elements_by_xpath(\"//div[@class='category']\")\n",
    "for i in indust:\n",
    "    indu = i.text\n",
    "    industry.append(indu)\n",
    "print(len(name),len(rank),len(networth),len(age),len(citizenship),len(source),len(industry))"
   ]
  },
  {
   "cell_type": "code",
   "execution_count": 76,
   "id": "d4af1a19",
   "metadata": {},
   "outputs": [
    {
     "name": "stdout",
     "output_type": "stream",
     "text": [
      "1000 1000 1000 1000 1000 1000 1000\n"
     ]
    }
   ],
   "source": [
    "butt = driver.find_element_by_xpath(\"//div[@class='next-page']\")\n",
    "butt.click()\n",
    "\n",
    "#name\n",
    "\n",
    "nam = driver.find_elements_by_xpath(\"//div[@class='personName']\")\n",
    "for i in nam:\n",
    "    na = i.text\n",
    "    name.append(na)\n",
    "#rank\n",
    "\n",
    "ran = driver.find_elements_by_xpath(\"//div[@class='rank']\")\n",
    "for i in ran:\n",
    "    ra = i.text\n",
    "    rank.append(ra)\n",
    "#networth\n",
    "\n",
    "networt = driver.find_elements_by_xpath(\"//div[@class='netWorth']\")\n",
    "for i in networt:\n",
    "    networ = i.text\n",
    "    networth.append(networ)\n",
    "#age\n",
    "\n",
    "ag = driver.find_elements_by_xpath(\"//div[@class='age']\")\n",
    "for i in ag:\n",
    "    rat = i.text\n",
    "    age.append(rat)\n",
    "#citizenship\n",
    "\n",
    "citizen = driver.find_elements_by_xpath(\"//div[@class='countryOfCitizenship']\")\n",
    "for i in citizen:\n",
    "    citi = i.text\n",
    "    citizenship.append(citi)\n",
    "#source\n",
    "\n",
    "sourc = driver.find_elements_by_xpath(\"//div[@class='source-column']\")\n",
    "for i in sourc:\n",
    "    sou = i.text\n",
    "    source.append(sou)\n",
    "#industry\n",
    "\n",
    "indust = driver.find_elements_by_xpath(\"//div[@class='category']\")\n",
    "for i in indust:\n",
    "    indu = i.text\n",
    "    industry.append(indu)\n",
    "print(len(name),len(rank),len(networth),len(age),len(citizenship),len(source),len(industry))"
   ]
  },
  {
   "cell_type": "code",
   "execution_count": 77,
   "id": "a768ef70",
   "metadata": {},
   "outputs": [
    {
     "name": "stdout",
     "output_type": "stream",
     "text": [
      "1200 1200 1200 1200 1200 1200 1200\n"
     ]
    }
   ],
   "source": [
    "butt = driver.find_element_by_xpath(\"//div[@class='next-page']\")\n",
    "butt.click()\n",
    "\n",
    "#name\n",
    "\n",
    "nam = driver.find_elements_by_xpath(\"//div[@class='personName']\")\n",
    "for i in nam:\n",
    "    na = i.text\n",
    "    name.append(na)\n",
    "#rank\n",
    "\n",
    "ran = driver.find_elements_by_xpath(\"//div[@class='rank']\")\n",
    "for i in ran:\n",
    "    ra = i.text\n",
    "    rank.append(ra)\n",
    "#networth\n",
    "\n",
    "networt = driver.find_elements_by_xpath(\"//div[@class='netWorth']\")\n",
    "for i in networt:\n",
    "    networ = i.text\n",
    "    networth.append(networ)\n",
    "#age\n",
    "\n",
    "ag = driver.find_elements_by_xpath(\"//div[@class='age']\")\n",
    "for i in ag:\n",
    "    rat = i.text\n",
    "    age.append(rat)\n",
    "#citizenship\n",
    "\n",
    "citizen = driver.find_elements_by_xpath(\"//div[@class='countryOfCitizenship']\")\n",
    "for i in citizen:\n",
    "    citi = i.text\n",
    "    citizenship.append(citi)\n",
    "#source\n",
    "\n",
    "sourc = driver.find_elements_by_xpath(\"//div[@class='source-column']\")\n",
    "for i in sourc:\n",
    "    sou = i.text\n",
    "    source.append(sou)\n",
    "#industry\n",
    "\n",
    "indust = driver.find_elements_by_xpath(\"//div[@class='category']\")\n",
    "for i in indust:\n",
    "    indu = i.text\n",
    "    industry.append(indu)\n",
    "print(len(name),len(rank),len(networth),len(age),len(citizenship),len(source),len(industry))"
   ]
  },
  {
   "cell_type": "code",
   "execution_count": 78,
   "id": "ace54c66",
   "metadata": {},
   "outputs": [
    {
     "name": "stdout",
     "output_type": "stream",
     "text": [
      "1400 1400 1400 1400 1400 1400 1400\n"
     ]
    }
   ],
   "source": [
    "butt = driver.find_element_by_xpath(\"//div[@class='next-page']\")\n",
    "butt.click()\n",
    "\n",
    "#name\n",
    "\n",
    "nam = driver.find_elements_by_xpath(\"//div[@class='personName']\")\n",
    "for i in nam:\n",
    "    na = i.text\n",
    "    name.append(na)\n",
    "#rank\n",
    "\n",
    "ran = driver.find_elements_by_xpath(\"//div[@class='rank']\")\n",
    "for i in ran:\n",
    "    ra = i.text\n",
    "    rank.append(ra)\n",
    "#networth\n",
    "\n",
    "networt = driver.find_elements_by_xpath(\"//div[@class='netWorth']\")\n",
    "for i in networt:\n",
    "    networ = i.text\n",
    "    networth.append(networ)\n",
    "#age\n",
    "\n",
    "ag = driver.find_elements_by_xpath(\"//div[@class='age']\")\n",
    "for i in ag:\n",
    "    rat = i.text\n",
    "    age.append(rat)\n",
    "#citizenship\n",
    "\n",
    "citizen = driver.find_elements_by_xpath(\"//div[@class='countryOfCitizenship']\")\n",
    "for i in citizen:\n",
    "    citi = i.text\n",
    "    citizenship.append(citi)\n",
    "#source\n",
    "\n",
    "sourc = driver.find_elements_by_xpath(\"//div[@class='source-column']\")\n",
    "for i in sourc:\n",
    "    sou = i.text\n",
    "    source.append(sou)\n",
    "#industry\n",
    "\n",
    "indust = driver.find_elements_by_xpath(\"//div[@class='category']\")\n",
    "for i in indust:\n",
    "    indu = i.text\n",
    "    industry.append(indu)\n",
    "print(len(name),len(rank),len(networth),len(age),len(citizenship),len(source),len(industry))"
   ]
  },
  {
   "cell_type": "code",
   "execution_count": 79,
   "id": "727171d7",
   "metadata": {},
   "outputs": [
    {
     "name": "stdout",
     "output_type": "stream",
     "text": [
      "1600 1600 1600 1600 1600 1600 1600\n"
     ]
    }
   ],
   "source": [
    "butt = driver.find_element_by_xpath(\"//div[@class='next-page']\")\n",
    "butt.click()\n",
    "\n",
    "#name\n",
    "\n",
    "nam = driver.find_elements_by_xpath(\"//div[@class='personName']\")\n",
    "for i in nam:\n",
    "    na = i.text\n",
    "    name.append(na)\n",
    "#rank\n",
    "\n",
    "ran = driver.find_elements_by_xpath(\"//div[@class='rank']\")\n",
    "for i in ran:\n",
    "    ra = i.text\n",
    "    rank.append(ra)\n",
    "#networth\n",
    "\n",
    "networt = driver.find_elements_by_xpath(\"//div[@class='netWorth']\")\n",
    "for i in networt:\n",
    "    networ = i.text\n",
    "    networth.append(networ)\n",
    "#age\n",
    "\n",
    "ag = driver.find_elements_by_xpath(\"//div[@class='age']\")\n",
    "for i in ag:\n",
    "    rat = i.text\n",
    "    age.append(rat)\n",
    "#citizenship\n",
    "\n",
    "citizen = driver.find_elements_by_xpath(\"//div[@class='countryOfCitizenship']\")\n",
    "for i in citizen:\n",
    "    citi = i.text\n",
    "    citizenship.append(citi)\n",
    "#source\n",
    "\n",
    "sourc = driver.find_elements_by_xpath(\"//div[@class='source-column']\")\n",
    "for i in sourc:\n",
    "    sou = i.text\n",
    "    source.append(sou)\n",
    "#industry\n",
    "\n",
    "indust = driver.find_elements_by_xpath(\"//div[@class='category']\")\n",
    "for i in indust:\n",
    "    indu = i.text\n",
    "    industry.append(indu)\n",
    "print(len(name),len(rank),len(networth),len(age),len(citizenship),len(source),len(industry))"
   ]
  },
  {
   "cell_type": "code",
   "execution_count": 80,
   "id": "adbfe5f3",
   "metadata": {},
   "outputs": [
    {
     "name": "stdout",
     "output_type": "stream",
     "text": [
      "1800 1800 1800 1800 1800 1800 1800\n"
     ]
    }
   ],
   "source": [
    "butt = driver.find_element_by_xpath(\"//div[@class='next-page']\")\n",
    "butt.click()\n",
    "\n",
    "#name\n",
    "\n",
    "nam = driver.find_elements_by_xpath(\"//div[@class='personName']\")\n",
    "for i in nam:\n",
    "    na = i.text\n",
    "    name.append(na)\n",
    "#rank\n",
    "\n",
    "ran = driver.find_elements_by_xpath(\"//div[@class='rank']\")\n",
    "for i in ran:\n",
    "    ra = i.text\n",
    "    rank.append(ra)\n",
    "#networth\n",
    "\n",
    "networt = driver.find_elements_by_xpath(\"//div[@class='netWorth']\")\n",
    "for i in networt:\n",
    "    networ = i.text\n",
    "    networth.append(networ)\n",
    "#age\n",
    "\n",
    "ag = driver.find_elements_by_xpath(\"//div[@class='age']\")\n",
    "for i in ag:\n",
    "    rat = i.text\n",
    "    age.append(rat)\n",
    "#citizenship\n",
    "\n",
    "citizen = driver.find_elements_by_xpath(\"//div[@class='countryOfCitizenship']\")\n",
    "for i in citizen:\n",
    "    citi = i.text\n",
    "    citizenship.append(citi)\n",
    "#source\n",
    "\n",
    "sourc = driver.find_elements_by_xpath(\"//div[@class='source-column']\")\n",
    "for i in sourc:\n",
    "    sou = i.text\n",
    "    source.append(sou)\n",
    "#industry\n",
    "\n",
    "indust = driver.find_elements_by_xpath(\"//div[@class='category']\")\n",
    "for i in indust:\n",
    "    indu = i.text\n",
    "    industry.append(indu)\n",
    "print(len(name),len(rank),len(networth),len(age),len(citizenship),len(source),len(industry))"
   ]
  },
  {
   "cell_type": "code",
   "execution_count": 81,
   "id": "8e67d01e",
   "metadata": {},
   "outputs": [
    {
     "name": "stdout",
     "output_type": "stream",
     "text": [
      "2000 2000 2000 2000 2000 2000 2000\n"
     ]
    }
   ],
   "source": [
    "butt = driver.find_element_by_xpath(\"//div[@class='next-page']\")\n",
    "butt.click()\n",
    "\n",
    "#name\n",
    "\n",
    "nam = driver.find_elements_by_xpath(\"//div[@class='personName']\")\n",
    "for i in nam:\n",
    "    na = i.text\n",
    "    name.append(na)\n",
    "#rank\n",
    "\n",
    "ran = driver.find_elements_by_xpath(\"//div[@class='rank']\")\n",
    "for i in ran:\n",
    "    ra = i.text\n",
    "    rank.append(ra)\n",
    "#networth\n",
    "\n",
    "networt = driver.find_elements_by_xpath(\"//div[@class='netWorth']\")\n",
    "for i in networt:\n",
    "    networ = i.text\n",
    "    networth.append(networ)\n",
    "#age\n",
    "\n",
    "ag = driver.find_elements_by_xpath(\"//div[@class='age']\")\n",
    "for i in ag:\n",
    "    rat = i.text\n",
    "    age.append(rat)\n",
    "#citizenship\n",
    "\n",
    "citizen = driver.find_elements_by_xpath(\"//div[@class='countryOfCitizenship']\")\n",
    "for i in citizen:\n",
    "    citi = i.text\n",
    "    citizenship.append(citi)\n",
    "#source\n",
    "\n",
    "sourc = driver.find_elements_by_xpath(\"//div[@class='source-column']\")\n",
    "for i in sourc:\n",
    "    sou = i.text\n",
    "    source.append(sou)\n",
    "#industry\n",
    "\n",
    "indust = driver.find_elements_by_xpath(\"//div[@class='category']\")\n",
    "for i in indust:\n",
    "    indu = i.text\n",
    "    industry.append(indu)\n",
    "print(len(name),len(rank),len(networth),len(age),len(citizenship),len(source),len(industry))"
   ]
  },
  {
   "cell_type": "code",
   "execution_count": 82,
   "id": "281ceea8",
   "metadata": {},
   "outputs": [
    {
     "name": "stdout",
     "output_type": "stream",
     "text": [
      "2200 2200 2200 2200 2200 2200 2200\n"
     ]
    }
   ],
   "source": [
    "butt = driver.find_element_by_xpath(\"//div[@class='next-page']\")\n",
    "butt.click()\n",
    "\n",
    "#name\n",
    "\n",
    "nam = driver.find_elements_by_xpath(\"//div[@class='personName']\")\n",
    "for i in nam:\n",
    "    na = i.text\n",
    "    name.append(na)\n",
    "#rank\n",
    "\n",
    "ran = driver.find_elements_by_xpath(\"//div[@class='rank']\")\n",
    "for i in ran:\n",
    "    ra = i.text\n",
    "    rank.append(ra)\n",
    "#networth\n",
    "\n",
    "networt = driver.find_elements_by_xpath(\"//div[@class='netWorth']\")\n",
    "for i in networt:\n",
    "    networ = i.text\n",
    "    networth.append(networ)\n",
    "#age\n",
    "\n",
    "ag = driver.find_elements_by_xpath(\"//div[@class='age']\")\n",
    "for i in ag:\n",
    "    rat = i.text\n",
    "    age.append(rat)\n",
    "#citizenship\n",
    "\n",
    "citizen = driver.find_elements_by_xpath(\"//div[@class='countryOfCitizenship']\")\n",
    "for i in citizen:\n",
    "    citi = i.text\n",
    "    citizenship.append(citi)\n",
    "#source\n",
    "\n",
    "sourc = driver.find_elements_by_xpath(\"//div[@class='source-column']\")\n",
    "for i in sourc:\n",
    "    sou = i.text\n",
    "    source.append(sou)\n",
    "#industry\n",
    "\n",
    "indust = driver.find_elements_by_xpath(\"//div[@class='category']\")\n",
    "for i in indust:\n",
    "    indu = i.text\n",
    "    industry.append(indu)\n",
    "print(len(name),len(rank),len(networth),len(age),len(citizenship),len(source),len(industry))"
   ]
  },
  {
   "cell_type": "code",
   "execution_count": 83,
   "id": "475455af",
   "metadata": {},
   "outputs": [
    {
     "name": "stdout",
     "output_type": "stream",
     "text": [
      "2400 2400 2400 2400 2400 2400 2400\n"
     ]
    }
   ],
   "source": [
    "butt = driver.find_element_by_xpath(\"//div[@class='next-page']\")\n",
    "butt.click()\n",
    "\n",
    "#name\n",
    "\n",
    "nam = driver.find_elements_by_xpath(\"//div[@class='personName']\")\n",
    "for i in nam:\n",
    "    na = i.text\n",
    "    name.append(na)\n",
    "#rank\n",
    "\n",
    "ran = driver.find_elements_by_xpath(\"//div[@class='rank']\")\n",
    "for i in ran:\n",
    "    ra = i.text\n",
    "    rank.append(ra)\n",
    "#networth\n",
    "\n",
    "networt = driver.find_elements_by_xpath(\"//div[@class='netWorth']\")\n",
    "for i in networt:\n",
    "    networ = i.text\n",
    "    networth.append(networ)\n",
    "#age\n",
    "\n",
    "ag = driver.find_elements_by_xpath(\"//div[@class='age']\")\n",
    "for i in ag:\n",
    "    rat = i.text\n",
    "    age.append(rat)\n",
    "#citizenship\n",
    "\n",
    "citizen = driver.find_elements_by_xpath(\"//div[@class='countryOfCitizenship']\")\n",
    "for i in citizen:\n",
    "    citi = i.text\n",
    "    citizenship.append(citi)\n",
    "#source\n",
    "\n",
    "sourc = driver.find_elements_by_xpath(\"//div[@class='source-column']\")\n",
    "for i in sourc:\n",
    "    sou = i.text\n",
    "    source.append(sou)\n",
    "#industry\n",
    "\n",
    "indust = driver.find_elements_by_xpath(\"//div[@class='category']\")\n",
    "for i in indust:\n",
    "    indu = i.text\n",
    "    industry.append(indu)\n",
    "print(len(name),len(rank),len(networth),len(age),len(citizenship),len(source),len(industry))"
   ]
  },
  {
   "cell_type": "code",
   "execution_count": 84,
   "id": "771e96fa",
   "metadata": {},
   "outputs": [
    {
     "name": "stdout",
     "output_type": "stream",
     "text": [
      "2600 2600 2600 2600 2600 2600 2600\n"
     ]
    }
   ],
   "source": [
    "butt = driver.find_element_by_xpath(\"//div[@class='next-page']\")\n",
    "butt.click()\n",
    "\n",
    "#name\n",
    "\n",
    "nam = driver.find_elements_by_xpath(\"//div[@class='personName']\")\n",
    "for i in nam:\n",
    "    na = i.text\n",
    "    name.append(na)\n",
    "#rank\n",
    "\n",
    "ran = driver.find_elements_by_xpath(\"//div[@class='rank']\")\n",
    "for i in ran:\n",
    "    ra = i.text\n",
    "    rank.append(ra)\n",
    "#networth\n",
    "\n",
    "networt = driver.find_elements_by_xpath(\"//div[@class='netWorth']\")\n",
    "for i in networt:\n",
    "    networ = i.text\n",
    "    networth.append(networ)\n",
    "#age\n",
    "\n",
    "ag = driver.find_elements_by_xpath(\"//div[@class='age']\")\n",
    "for i in ag:\n",
    "    rat = i.text\n",
    "    age.append(rat)\n",
    "#citizenship\n",
    "\n",
    "citizen = driver.find_elements_by_xpath(\"//div[@class='countryOfCitizenship']\")\n",
    "for i in citizen:\n",
    "    citi = i.text\n",
    "    citizenship.append(citi)\n",
    "#source\n",
    "\n",
    "sourc = driver.find_elements_by_xpath(\"//div[@class='source-column']\")\n",
    "for i in sourc:\n",
    "    sou = i.text\n",
    "    source.append(sou)\n",
    "#industry\n",
    "\n",
    "indust = driver.find_elements_by_xpath(\"//div[@class='category']\")\n",
    "for i in indust:\n",
    "    indu = i.text\n",
    "    industry.append(indu)\n",
    "print(len(name),len(rank),len(networth),len(age),len(citizenship),len(source),len(industry))"
   ]
  },
  {
   "cell_type": "code",
   "execution_count": 85,
   "id": "232e6a10",
   "metadata": {},
   "outputs": [
    {
     "name": "stdout",
     "output_type": "stream",
     "text": [
      "2755 2755 2755 2755 2755 2755 2755\n"
     ]
    }
   ],
   "source": [
    "butt = driver.find_element_by_xpath(\"//div[@class='next-page']\")\n",
    "butt.click()\n",
    "\n",
    "#name\n",
    "\n",
    "nam = driver.find_elements_by_xpath(\"//div[@class='personName']\")\n",
    "for i in nam:\n",
    "    na = i.text\n",
    "    name.append(na)\n",
    "#rank\n",
    "\n",
    "ran = driver.find_elements_by_xpath(\"//div[@class='rank']\")\n",
    "for i in ran:\n",
    "    ra = i.text\n",
    "    rank.append(ra)\n",
    "#networth\n",
    "\n",
    "networt = driver.find_elements_by_xpath(\"//div[@class='netWorth']\")\n",
    "for i in networt:\n",
    "    networ = i.text\n",
    "    networth.append(networ)\n",
    "#age\n",
    "\n",
    "ag = driver.find_elements_by_xpath(\"//div[@class='age']\")\n",
    "for i in ag:\n",
    "    rat = i.text\n",
    "    age.append(rat)\n",
    "#citizenship\n",
    "\n",
    "citizen = driver.find_elements_by_xpath(\"//div[@class='countryOfCitizenship']\")\n",
    "for i in citizen:\n",
    "    citi = i.text\n",
    "    citizenship.append(citi)\n",
    "#source\n",
    "\n",
    "sourc = driver.find_elements_by_xpath(\"//div[@class='source-column']\")\n",
    "for i in sourc:\n",
    "    sou = i.text\n",
    "    source.append(sou)\n",
    "#industry\n",
    "\n",
    "indust = driver.find_elements_by_xpath(\"//div[@class='category']\")\n",
    "for i in indust:\n",
    "    indu = i.text\n",
    "    industry.append(indu)\n",
    "print(len(name),len(rank),len(networth),len(age),len(citizenship),len(source),len(industry))"
   ]
  },
  {
   "cell_type": "code",
   "execution_count": 86,
   "id": "75148ff4",
   "metadata": {},
   "outputs": [
    {
     "data": {
      "text/html": [
       "<div>\n",
       "<style scoped>\n",
       "    .dataframe tbody tr th:only-of-type {\n",
       "        vertical-align: middle;\n",
       "    }\n",
       "\n",
       "    .dataframe tbody tr th {\n",
       "        vertical-align: top;\n",
       "    }\n",
       "\n",
       "    .dataframe thead th {\n",
       "        text-align: right;\n",
       "    }\n",
       "</style>\n",
       "<table border=\"1\" class=\"dataframe\">\n",
       "  <thead>\n",
       "    <tr style=\"text-align: right;\">\n",
       "      <th></th>\n",
       "      <th>Rank</th>\n",
       "      <th>Name</th>\n",
       "      <th>Net Worth</th>\n",
       "      <th>Age</th>\n",
       "      <th>Citizenship</th>\n",
       "      <th>Source</th>\n",
       "      <th>Industry</th>\n",
       "    </tr>\n",
       "  </thead>\n",
       "  <tbody>\n",
       "    <tr>\n",
       "      <th>0</th>\n",
       "      <td>1.</td>\n",
       "      <td>Jeff Bezos</td>\n",
       "      <td>$177 B</td>\n",
       "      <td>57</td>\n",
       "      <td>United States</td>\n",
       "      <td>Amazon</td>\n",
       "      <td>Technology</td>\n",
       "    </tr>\n",
       "    <tr>\n",
       "      <th>1</th>\n",
       "      <td>2.</td>\n",
       "      <td>Elon Musk</td>\n",
       "      <td>$151 B</td>\n",
       "      <td>49</td>\n",
       "      <td>United States</td>\n",
       "      <td>Tesla, SpaceX</td>\n",
       "      <td>Automotive</td>\n",
       "    </tr>\n",
       "    <tr>\n",
       "      <th>2</th>\n",
       "      <td>3.</td>\n",
       "      <td>Bernard Arnault &amp; family</td>\n",
       "      <td>$150 B</td>\n",
       "      <td>72</td>\n",
       "      <td>France</td>\n",
       "      <td>LVMH</td>\n",
       "      <td>Fashion &amp; Retail</td>\n",
       "    </tr>\n",
       "    <tr>\n",
       "      <th>3</th>\n",
       "      <td>4.</td>\n",
       "      <td>Bill Gates</td>\n",
       "      <td>$124 B</td>\n",
       "      <td>65</td>\n",
       "      <td>United States</td>\n",
       "      <td>Microsoft</td>\n",
       "      <td>Technology</td>\n",
       "    </tr>\n",
       "    <tr>\n",
       "      <th>4</th>\n",
       "      <td>5.</td>\n",
       "      <td>Mark Zuckerberg</td>\n",
       "      <td>$97 B</td>\n",
       "      <td>36</td>\n",
       "      <td>United States</td>\n",
       "      <td>Facebook</td>\n",
       "      <td>Technology</td>\n",
       "    </tr>\n",
       "    <tr>\n",
       "      <th>...</th>\n",
       "      <td>...</td>\n",
       "      <td>...</td>\n",
       "      <td>...</td>\n",
       "      <td>...</td>\n",
       "      <td>...</td>\n",
       "      <td>...</td>\n",
       "      <td>...</td>\n",
       "    </tr>\n",
       "    <tr>\n",
       "      <th>2750</th>\n",
       "      <td>2674.</td>\n",
       "      <td>Daniel Yong Zhang</td>\n",
       "      <td>$1 B</td>\n",
       "      <td>49</td>\n",
       "      <td>China</td>\n",
       "      <td>e-commerce</td>\n",
       "      <td>Technology</td>\n",
       "    </tr>\n",
       "    <tr>\n",
       "      <th>2751</th>\n",
       "      <td>2674.</td>\n",
       "      <td>Zhang Yuqiang</td>\n",
       "      <td>$1 B</td>\n",
       "      <td>65</td>\n",
       "      <td>China</td>\n",
       "      <td>Fiberglass</td>\n",
       "      <td>Manufacturing</td>\n",
       "    </tr>\n",
       "    <tr>\n",
       "      <th>2752</th>\n",
       "      <td>2674.</td>\n",
       "      <td>Zhao Meiguang</td>\n",
       "      <td>$1 B</td>\n",
       "      <td>58</td>\n",
       "      <td>China</td>\n",
       "      <td>gold mining</td>\n",
       "      <td>Metals &amp; Mining</td>\n",
       "    </tr>\n",
       "    <tr>\n",
       "      <th>2753</th>\n",
       "      <td>2674.</td>\n",
       "      <td>Zhong Naixiong</td>\n",
       "      <td>$1 B</td>\n",
       "      <td>58</td>\n",
       "      <td>China</td>\n",
       "      <td>conglomerate</td>\n",
       "      <td>Diversified</td>\n",
       "    </tr>\n",
       "    <tr>\n",
       "      <th>2754</th>\n",
       "      <td>2674.</td>\n",
       "      <td>Zhou Wei family</td>\n",
       "      <td>$1 B</td>\n",
       "      <td>54</td>\n",
       "      <td>China</td>\n",
       "      <td>Software</td>\n",
       "      <td>Technology</td>\n",
       "    </tr>\n",
       "  </tbody>\n",
       "</table>\n",
       "<p>2755 rows × 7 columns</p>\n",
       "</div>"
      ],
      "text/plain": [
       "       Rank                      Name Net Worth Age    Citizenship  \\\n",
       "0        1.                Jeff Bezos    $177 B  57  United States   \n",
       "1        2.                 Elon Musk    $151 B  49  United States   \n",
       "2        3.  Bernard Arnault & family    $150 B  72         France   \n",
       "3        4.                Bill Gates    $124 B  65  United States   \n",
       "4        5.           Mark Zuckerberg     $97 B  36  United States   \n",
       "...     ...                       ...       ...  ..            ...   \n",
       "2750  2674.         Daniel Yong Zhang      $1 B  49          China   \n",
       "2751  2674.             Zhang Yuqiang      $1 B  65          China   \n",
       "2752  2674.             Zhao Meiguang      $1 B  58          China   \n",
       "2753  2674.            Zhong Naixiong      $1 B  58          China   \n",
       "2754  2674.           Zhou Wei family      $1 B  54          China   \n",
       "\n",
       "             Source          Industry  \n",
       "0            Amazon        Technology  \n",
       "1     Tesla, SpaceX        Automotive  \n",
       "2              LVMH  Fashion & Retail  \n",
       "3         Microsoft        Technology  \n",
       "4          Facebook        Technology  \n",
       "...             ...               ...  \n",
       "2750     e-commerce        Technology  \n",
       "2751     Fiberglass     Manufacturing  \n",
       "2752    gold mining   Metals & Mining  \n",
       "2753   conglomerate       Diversified  \n",
       "2754       Software        Technology  \n",
       "\n",
       "[2755 rows x 7 columns]"
      ]
     },
     "execution_count": 86,
     "metadata": {},
     "output_type": "execute_result"
    }
   ],
   "source": [
    "df = pd.DataFrame({'Rank':rank,'Name':name,'Net Worth':networth,'Age':age,'Citizenship':citizenship,'Source':source,'Industry':industry})\n",
    "df"
   ]
  },
  {
   "cell_type": "code",
   "execution_count": 87,
   "id": "0c593a5d",
   "metadata": {},
   "outputs": [],
   "source": [
    "driver.close()"
   ]
  },
  {
   "cell_type": "code",
   "execution_count": null,
   "id": "35e34694",
   "metadata": {},
   "outputs": [],
   "source": []
  }
 ],
 "metadata": {
  "kernelspec": {
   "display_name": "Python 3",
   "language": "python",
   "name": "python3"
  },
  "language_info": {
   "codemirror_mode": {
    "name": "ipython",
    "version": 3
   },
   "file_extension": ".py",
   "mimetype": "text/x-python",
   "name": "python",
   "nbconvert_exporter": "python",
   "pygments_lexer": "ipython3",
   "version": "3.8.8"
  }
 },
 "nbformat": 4,
 "nbformat_minor": 5
}
